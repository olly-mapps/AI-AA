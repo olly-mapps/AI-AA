{
 "cells": [
  {
   "cell_type": "markdown",
   "id": "c7021df3",
   "metadata": {},
   "source": [
    "# Further Work"
   ]
  },
  {
   "cell_type": "markdown",
   "id": "bef05606",
   "metadata": {},
   "source": [
    "Contained in this notebook is further work conducted based on the challenge proposal"
   ]
  },
  {
   "cell_type": "markdown",
   "id": "9bc52796",
   "metadata": {},
   "source": [
    "## Libraries"
   ]
  },
  {
   "cell_type": "markdown",
   "id": "0946fbaa",
   "metadata": {},
   "source": [
    "First we import libraries that we will need in this notebook"
   ]
  },
  {
   "cell_type": "code",
   "execution_count": 1,
   "id": "6db7029c",
   "metadata": {},
   "outputs": [],
   "source": [
    "import numpy as np\n",
    "import pandas as pd"
   ]
  },
  {
   "cell_type": "markdown",
   "id": "8fa057aa",
   "metadata": {},
   "source": [
    "## Data Loading "
   ]
  },
  {
   "cell_type": "markdown",
   "id": "dea9b91c",
   "metadata": {},
   "source": [
    "Due to the cleaning carried out in Question A.2, we will use the data from there."
   ]
  },
  {
   "cell_type": "code",
   "execution_count": 11,
   "id": "3625c6ae",
   "metadata": {},
   "outputs": [
    {
     "data": {
      "text/html": [
       "<div>\n",
       "<style scoped>\n",
       "    .dataframe tbody tr th:only-of-type {\n",
       "        vertical-align: middle;\n",
       "    }\n",
       "\n",
       "    .dataframe tbody tr th {\n",
       "        vertical-align: top;\n",
       "    }\n",
       "\n",
       "    .dataframe thead th {\n",
       "        text-align: right;\n",
       "    }\n",
       "</style>\n",
       "<table border=\"1\" class=\"dataframe\">\n",
       "  <thead>\n",
       "    <tr style=\"text-align: right;\">\n",
       "      <th></th>\n",
       "      <th>date</th>\n",
       "      <th>Return_with_Dividends</th>\n",
       "      <th>Return_without_Dividends</th>\n",
       "      <th>RiskFree_Rate_1Month_Forward</th>\n",
       "      <th>Return_1Month_Forward</th>\n",
       "      <th>PD_t</th>\n",
       "      <th>delta_d</th>\n",
       "      <th>Predicted R_t</th>\n",
       "      <th>Sigma</th>\n",
       "    </tr>\n",
       "  </thead>\n",
       "  <tbody>\n",
       "    <tr>\n",
       "      <th>0</th>\n",
       "      <td>1998-02-07</td>\n",
       "      <td>0.304277</td>\n",
       "      <td>0.143167</td>\n",
       "      <td>0.350638</td>\n",
       "      <td>0.055277</td>\n",
       "      <td>7.095540</td>\n",
       "      <td>0.303119</td>\n",
       "      <td>0.078501</td>\n",
       "      <td>0.069727</td>\n",
       "    </tr>\n",
       "    <tr>\n",
       "      <th>1</th>\n",
       "      <td>1998-02-10</td>\n",
       "      <td>0.291903</td>\n",
       "      <td>0.154534</td>\n",
       "      <td>0.363007</td>\n",
       "      <td>0.025068</td>\n",
       "      <td>8.404637</td>\n",
       "      <td>0.303119</td>\n",
       "      <td>0.078501</td>\n",
       "      <td>0.069727</td>\n",
       "    </tr>\n",
       "    <tr>\n",
       "      <th>2</th>\n",
       "      <td>1998-02-11</td>\n",
       "      <td>0.269282</td>\n",
       "      <td>0.179072</td>\n",
       "      <td>0.365795</td>\n",
       "      <td>0.043227</td>\n",
       "      <td>13.070375</td>\n",
       "      <td>0.585262</td>\n",
       "      <td>0.078501</td>\n",
       "      <td>0.069727</td>\n",
       "    </tr>\n",
       "    <tr>\n",
       "      <th>3</th>\n",
       "      <td>1998-02-12</td>\n",
       "      <td>0.290409</td>\n",
       "      <td>0.160366</td>\n",
       "      <td>0.377143</td>\n",
       "      <td>0.056165</td>\n",
       "      <td>8.922924</td>\n",
       "      <td>-0.216997</td>\n",
       "      <td>0.078501</td>\n",
       "      <td>0.069727</td>\n",
       "    </tr>\n",
       "    <tr>\n",
       "      <th>4</th>\n",
       "      <td>1998-02-13</td>\n",
       "      <td>0.268346</td>\n",
       "      <td>0.149079</td>\n",
       "      <td>0.350271</td>\n",
       "      <td>0.074432</td>\n",
       "      <td>9.634514</td>\n",
       "      <td>0.225464</td>\n",
       "      <td>0.078501</td>\n",
       "      <td>0.069727</td>\n",
       "    </tr>\n",
       "    <tr>\n",
       "      <th>...</th>\n",
       "      <td>...</td>\n",
       "      <td>...</td>\n",
       "      <td>...</td>\n",
       "      <td>...</td>\n",
       "      <td>...</td>\n",
       "      <td>...</td>\n",
       "      <td>...</td>\n",
       "      <td>...</td>\n",
       "      <td>...</td>\n",
       "    </tr>\n",
       "    <tr>\n",
       "      <th>6251</th>\n",
       "      <td>2022-02-01</td>\n",
       "      <td>0.178304</td>\n",
       "      <td>0.067787</td>\n",
       "      <td>-0.005573</td>\n",
       "      <td>-0.042527</td>\n",
       "      <td>9.661689</td>\n",
       "      <td>0.160817</td>\n",
       "      <td>-0.014614</td>\n",
       "      <td>0.056470</td>\n",
       "    </tr>\n",
       "    <tr>\n",
       "      <th>6252</th>\n",
       "      <td>2022-02-02</td>\n",
       "      <td>0.194420</td>\n",
       "      <td>0.077617</td>\n",
       "      <td>0.003521</td>\n",
       "      <td>-0.039765</td>\n",
       "      <td>9.225908</td>\n",
       "      <td>0.019435</td>\n",
       "      <td>-0.037701</td>\n",
       "      <td>0.057842</td>\n",
       "    </tr>\n",
       "    <tr>\n",
       "      <th>6253</th>\n",
       "      <td>2022-02-03</td>\n",
       "      <td>0.178116</td>\n",
       "      <td>0.069139</td>\n",
       "      <td>0.000203</td>\n",
       "      <td>-0.047804</td>\n",
       "      <td>9.810701</td>\n",
       "      <td>0.136210</td>\n",
       "      <td>-0.046158</td>\n",
       "      <td>0.059506</td>\n",
       "    </tr>\n",
       "    <tr>\n",
       "      <th>6254</th>\n",
       "      <td>2022-02-04</td>\n",
       "      <td>0.172267</td>\n",
       "      <td>0.064309</td>\n",
       "      <td>0.002355</td>\n",
       "      <td>-0.075907</td>\n",
       "      <td>9.858588</td>\n",
       "      <td>0.071723</td>\n",
       "      <td>-0.047590</td>\n",
       "      <td>0.058272</td>\n",
       "    </tr>\n",
       "    <tr>\n",
       "      <th>6255</th>\n",
       "      <td>2022-02-05</td>\n",
       "      <td>0.186062</td>\n",
       "      <td>0.071981</td>\n",
       "      <td>-0.003421</td>\n",
       "      <td>-0.039052</td>\n",
       "      <td>9.396659</td>\n",
       "      <td>0.014337</td>\n",
       "      <td>-0.066069</td>\n",
       "      <td>0.056425</td>\n",
       "    </tr>\n",
       "  </tbody>\n",
       "</table>\n",
       "<p>6256 rows × 9 columns</p>\n",
       "</div>"
      ],
      "text/plain": [
       "            date  Return_with_Dividends  Return_without_Dividends  \\\n",
       "0     1998-02-07               0.304277                  0.143167   \n",
       "1     1998-02-10               0.291903                  0.154534   \n",
       "2     1998-02-11               0.269282                  0.179072   \n",
       "3     1998-02-12               0.290409                  0.160366   \n",
       "4     1998-02-13               0.268346                  0.149079   \n",
       "...          ...                    ...                       ...   \n",
       "6251  2022-02-01               0.178304                  0.067787   \n",
       "6252  2022-02-02               0.194420                  0.077617   \n",
       "6253  2022-02-03               0.178116                  0.069139   \n",
       "6254  2022-02-04               0.172267                  0.064309   \n",
       "6255  2022-02-05               0.186062                  0.071981   \n",
       "\n",
       "      RiskFree_Rate_1Month_Forward  Return_1Month_Forward       PD_t  \\\n",
       "0                         0.350638               0.055277   7.095540   \n",
       "1                         0.363007               0.025068   8.404637   \n",
       "2                         0.365795               0.043227  13.070375   \n",
       "3                         0.377143               0.056165   8.922924   \n",
       "4                         0.350271               0.074432   9.634514   \n",
       "...                            ...                    ...        ...   \n",
       "6251                     -0.005573              -0.042527   9.661689   \n",
       "6252                      0.003521              -0.039765   9.225908   \n",
       "6253                      0.000203              -0.047804   9.810701   \n",
       "6254                      0.002355              -0.075907   9.858588   \n",
       "6255                     -0.003421              -0.039052   9.396659   \n",
       "\n",
       "       delta_d  Predicted R_t     Sigma  \n",
       "0     0.303119       0.078501  0.069727  \n",
       "1     0.303119       0.078501  0.069727  \n",
       "2     0.585262       0.078501  0.069727  \n",
       "3    -0.216997       0.078501  0.069727  \n",
       "4     0.225464       0.078501  0.069727  \n",
       "...        ...            ...       ...  \n",
       "6251  0.160817      -0.014614  0.056470  \n",
       "6252  0.019435      -0.037701  0.057842  \n",
       "6253  0.136210      -0.046158  0.059506  \n",
       "6254  0.071723      -0.047590  0.058272  \n",
       "6255  0.014337      -0.066069  0.056425  \n",
       "\n",
       "[6256 rows x 9 columns]"
      ]
     },
     "execution_count": 11,
     "metadata": {},
     "output_type": "execute_result"
    }
   ],
   "source": [
    "#Read data.csv file from the data directory\n",
    "df = pd.read_csv('../data/augmented_data_A3.csv', parse_dates = True)\n",
    "\n",
    "#Drop unnecessary variables\n",
    "df.drop(['beta_t'], axis = 1, inplace = True)\n",
    "\n",
    "# Inspect data\n",
    "df"
   ]
  },
  {
   "cell_type": "markdown",
   "id": "cea7a4b6",
   "metadata": {},
   "source": [
    "We will then drop the variables we do not need at this time."
   ]
  },
  {
   "cell_type": "markdown",
   "id": "b1c94d7c",
   "metadata": {},
   "source": [
    "## Augmentation"
   ]
  },
  {
   "cell_type": "markdown",
   "id": "570eb80a",
   "metadata": {},
   "source": [
    "In order to get a range of expected values for the `Predicted R_t`, we will use the model information from the Question A.2 to inform variance. "
   ]
  },
  {
   "cell_type": "code",
   "execution_count": 13,
   "id": "46e6f884",
   "metadata": {},
   "outputs": [],
   "source": [
    "#Calculate average returns grouped by months\n",
    "mm_Predicted_R_t = df.groupby(pd.PeriodIndex(df['date'], freq=\"M\"))['Predicted R_t'].mean()\n",
    "\n",
    "#Caculate average risk-free rate grouped by month\n",
    "mm_RiskFree = df.groupby(pd.PeriodIndex(df['date'], freq=\"M\"))['RiskFree_Rate_1Month_Forward'].mean()"
   ]
  },
  {
   "cell_type": "markdown",
   "id": "7c84dfca",
   "metadata": {},
   "source": [
    "## AMPL"
   ]
  },
  {
   "cell_type": "markdown",
   "id": "69ef5522",
   "metadata": {},
   "source": [
    "We first write our data to csv so we can use it in AMPL."
   ]
  },
  {
   "cell_type": "code",
   "execution_count": 20,
   "id": "b46a34f3",
   "metadata": {},
   "outputs": [],
   "source": [
    "#Save data to respective folders\n",
    "\n",
    "mm_Predicted_R_t.reset_index(drop = True).to_csv('../extra/AMPL/Predicted R_t.csv')\n",
    "\n",
    "mm_Sigma.reset_index(drop = True).to_csv('../extra/AMPL/Sigma.csv')\n",
    "\n",
    "mm_RiskFree.reset_index(drop = True).to_csv('../extra/AMPL/RiskFree.csv')"
   ]
  },
  {
   "cell_type": "markdown",
   "id": "76377076",
   "metadata": {},
   "source": [
    "For the optimal portfolio, we also need a covariance matrix"
   ]
  },
  {
   "cell_type": "code",
   "execution_count": 21,
   "id": "1a08c305",
   "metadata": {},
   "outputs": [],
   "source": [
    "#Calculate covariance between risk-free and returns of our asset\n",
    "covariance = np.cov([mm_Predicted_R_t, mm_RiskFree], bias = True)"
   ]
  },
  {
   "cell_type": "markdown",
   "id": "a1ff5c2d",
   "metadata": {},
   "source": [
    "## Results"
   ]
  },
  {
   "cell_type": "markdown",
   "id": "006ef4ac",
   "metadata": {},
   "source": [
    "After solving in AMPL, we find the optimal portfolio distribution to be:\n",
    "\n",
    "- Asset 1 (Risk-Free): 0.889272\n",
    "- Asset 2: 0.110728"
   ]
  }
 ],
 "metadata": {
  "kernelspec": {
   "display_name": "ultramarin",
   "language": "python",
   "name": "ultramarin"
  },
  "language_info": {
   "codemirror_mode": {
    "name": "ipython",
    "version": 3
   },
   "file_extension": ".py",
   "mimetype": "text/x-python",
   "name": "python",
   "nbconvert_exporter": "python",
   "pygments_lexer": "ipython3",
   "version": "3.10.9"
  }
 },
 "nbformat": 4,
 "nbformat_minor": 5
}
