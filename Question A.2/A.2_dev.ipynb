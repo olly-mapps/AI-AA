{
 "cells": [
  {
   "cell_type": "markdown",
   "id": "54696088",
   "metadata": {},
   "source": [
    "# Question A.2"
   ]
  },
  {
   "cell_type": "markdown",
   "id": "f28bf26d",
   "metadata": {},
   "source": [
    "This notebook documents the development of a model that predicts returns $R_t$ using the log dividend growth $\\Delta d_t$ and Price-to-Dividend ratio $PD_t$"
   ]
  },
  {
   "cell_type": "markdown",
   "id": "66eb6272",
   "metadata": {},
   "source": [
    "## Libraries"
   ]
  },
  {
   "cell_type": "markdown",
   "id": "50c7aea0",
   "metadata": {},
   "source": [
    "For our model, we want to import the following libraries"
   ]
  },
  {
   "cell_type": "code",
   "execution_count": 125,
   "id": "2a88a5d3",
   "metadata": {},
   "outputs": [],
   "source": [
    "import pandas as pd\n",
    "import numpy as np\n",
    "import matplotlib.pyplot as plt\n",
    "from scipy import stats\n",
    "from sklearn.linear_model import LinearRegression"
   ]
  },
  {
   "cell_type": "markdown",
   "id": "0c6e737a",
   "metadata": {},
   "source": [
    "## Data Loading"
   ]
  },
  {
   "cell_type": "markdown",
   "id": "3ea68fe8",
   "metadata": {},
   "source": [
    "Our data is found in the `data.csv` file, and we first want to load it in."
   ]
  },
  {
   "cell_type": "code",
   "execution_count": 126,
   "id": "0a1d989d",
   "metadata": {},
   "outputs": [
    {
     "data": {
      "text/html": [
       "<div>\n",
       "<style scoped>\n",
       "    .dataframe tbody tr th:only-of-type {\n",
       "        vertical-align: middle;\n",
       "    }\n",
       "\n",
       "    .dataframe tbody tr th {\n",
       "        vertical-align: top;\n",
       "    }\n",
       "\n",
       "    .dataframe thead th {\n",
       "        text-align: right;\n",
       "    }\n",
       "</style>\n",
       "<table border=\"1\" class=\"dataframe\">\n",
       "  <thead>\n",
       "    <tr style=\"text-align: right;\">\n",
       "      <th></th>\n",
       "      <th>date</th>\n",
       "      <th>Return_with_Dividends</th>\n",
       "      <th>Return_without_Dividends</th>\n",
       "      <th>RiskFree_Rate_1Month_Forward</th>\n",
       "      <th>Return_1Month_Forward</th>\n",
       "      <th>Sigma</th>\n",
       "    </tr>\n",
       "  </thead>\n",
       "  <tbody>\n",
       "    <tr>\n",
       "      <th>0</th>\n",
       "      <td>1998-02-07</td>\n",
       "      <td>0.304277</td>\n",
       "      <td>0.143167</td>\n",
       "      <td>0.350638</td>\n",
       "      <td>0.055277</td>\n",
       "      <td>NaN</td>\n",
       "    </tr>\n",
       "    <tr>\n",
       "      <th>1</th>\n",
       "      <td>1998-02-10</td>\n",
       "      <td>0.291903</td>\n",
       "      <td>0.154534</td>\n",
       "      <td>0.363007</td>\n",
       "      <td>0.025068</td>\n",
       "      <td>NaN</td>\n",
       "    </tr>\n",
       "    <tr>\n",
       "      <th>2</th>\n",
       "      <td>1998-02-11</td>\n",
       "      <td>0.269282</td>\n",
       "      <td>0.179072</td>\n",
       "      <td>0.365795</td>\n",
       "      <td>0.043227</td>\n",
       "      <td>NaN</td>\n",
       "    </tr>\n",
       "    <tr>\n",
       "      <th>3</th>\n",
       "      <td>1998-02-12</td>\n",
       "      <td>0.290409</td>\n",
       "      <td>0.160366</td>\n",
       "      <td>0.377143</td>\n",
       "      <td>0.056165</td>\n",
       "      <td>NaN</td>\n",
       "    </tr>\n",
       "    <tr>\n",
       "      <th>4</th>\n",
       "      <td>1998-02-13</td>\n",
       "      <td>0.268346</td>\n",
       "      <td>0.149079</td>\n",
       "      <td>0.350271</td>\n",
       "      <td>0.074432</td>\n",
       "      <td>NaN</td>\n",
       "    </tr>\n",
       "    <tr>\n",
       "      <th>...</th>\n",
       "      <td>...</td>\n",
       "      <td>...</td>\n",
       "      <td>...</td>\n",
       "      <td>...</td>\n",
       "      <td>...</td>\n",
       "      <td>...</td>\n",
       "    </tr>\n",
       "    <tr>\n",
       "      <th>6256</th>\n",
       "      <td>2022-02-01</td>\n",
       "      <td>0.178304</td>\n",
       "      <td>0.067787</td>\n",
       "      <td>-0.005573</td>\n",
       "      <td>-0.042527</td>\n",
       "      <td>0.056470</td>\n",
       "    </tr>\n",
       "    <tr>\n",
       "      <th>6257</th>\n",
       "      <td>2022-02-02</td>\n",
       "      <td>0.194420</td>\n",
       "      <td>0.077617</td>\n",
       "      <td>0.003521</td>\n",
       "      <td>-0.039765</td>\n",
       "      <td>0.057842</td>\n",
       "    </tr>\n",
       "    <tr>\n",
       "      <th>6258</th>\n",
       "      <td>2022-02-03</td>\n",
       "      <td>0.178116</td>\n",
       "      <td>0.069139</td>\n",
       "      <td>0.000203</td>\n",
       "      <td>-0.047804</td>\n",
       "      <td>0.059506</td>\n",
       "    </tr>\n",
       "    <tr>\n",
       "      <th>6259</th>\n",
       "      <td>2022-02-04</td>\n",
       "      <td>0.172267</td>\n",
       "      <td>0.064309</td>\n",
       "      <td>0.002355</td>\n",
       "      <td>-0.075907</td>\n",
       "      <td>0.058272</td>\n",
       "    </tr>\n",
       "    <tr>\n",
       "      <th>6260</th>\n",
       "      <td>2022-02-05</td>\n",
       "      <td>0.186062</td>\n",
       "      <td>0.071981</td>\n",
       "      <td>-0.003421</td>\n",
       "      <td>-0.039052</td>\n",
       "      <td>0.056425</td>\n",
       "    </tr>\n",
       "  </tbody>\n",
       "</table>\n",
       "<p>6261 rows × 6 columns</p>\n",
       "</div>"
      ],
      "text/plain": [
       "            date  Return_with_Dividends  Return_without_Dividends  \\\n",
       "0     1998-02-07               0.304277                  0.143167   \n",
       "1     1998-02-10               0.291903                  0.154534   \n",
       "2     1998-02-11               0.269282                  0.179072   \n",
       "3     1998-02-12               0.290409                  0.160366   \n",
       "4     1998-02-13               0.268346                  0.149079   \n",
       "...          ...                    ...                       ...   \n",
       "6256  2022-02-01               0.178304                  0.067787   \n",
       "6257  2022-02-02               0.194420                  0.077617   \n",
       "6258  2022-02-03               0.178116                  0.069139   \n",
       "6259  2022-02-04               0.172267                  0.064309   \n",
       "6260  2022-02-05               0.186062                  0.071981   \n",
       "\n",
       "      RiskFree_Rate_1Month_Forward  Return_1Month_Forward     Sigma  \n",
       "0                         0.350638               0.055277       NaN  \n",
       "1                         0.363007               0.025068       NaN  \n",
       "2                         0.365795               0.043227       NaN  \n",
       "3                         0.377143               0.056165       NaN  \n",
       "4                         0.350271               0.074432       NaN  \n",
       "...                            ...                    ...       ...  \n",
       "6256                     -0.005573              -0.042527  0.056470  \n",
       "6257                      0.003521              -0.039765  0.057842  \n",
       "6258                      0.000203              -0.047804  0.059506  \n",
       "6259                      0.002355              -0.075907  0.058272  \n",
       "6260                     -0.003421              -0.039052  0.056425  \n",
       "\n",
       "[6261 rows x 6 columns]"
      ]
     },
     "execution_count": 126,
     "metadata": {},
     "output_type": "execute_result"
    }
   ],
   "source": [
    "#Read data.csv file from the data directory\n",
    "df = pd.read_csv('../data/data.csv', index_col = [0])\n",
    "\n",
    "# Inspect data\n",
    "df"
   ]
  },
  {
   "cell_type": "markdown",
   "id": "ed96a0a6",
   "metadata": {},
   "source": [
    "## Exploratory Data Analysis"
   ]
  },
  {
   "cell_type": "markdown",
   "id": "23e831bf",
   "metadata": {},
   "source": [
    "We now perform some exploratory data analysis to get a better feel for our data"
   ]
  },
  {
   "cell_type": "code",
   "execution_count": 127,
   "id": "1ac0cec2",
   "metadata": {
    "scrolled": false
   },
   "outputs": [
    {
     "data": {
      "image/png": "[encoded data removed]",
      "text/plain": [
       "<Figure size 640x480 with 1 Axes>"
      ]
     },
     "metadata": {},
     "output_type": "display_data"
    }
   ],
   "source": [
    "#Plot boxplots\n",
    "\n",
    "df.plot(kind = 'box')\n",
    "plt.xticks(rotation = 90)\n",
    "plt.show()"
   ]
  },
  {
   "cell_type": "markdown",
   "id": "627e18f1",
   "metadata": {},
   "source": [
    "We observe a severe outlier in `RiskFree_Rate_1Month_Forward`. Since it is almost -100, we can assume this is some measurement error, so to fit a model it will be wise to drop this"
   ]
  },
  {
   "cell_type": "code",
   "execution_count": 128,
   "id": "3843c806",
   "metadata": {},
   "outputs": [],
   "source": [
    "#Filter out observations where the foward riskfree rate is greater than 50\n",
    "df = df.loc[abs(df['RiskFree_Rate_1Month_Forward']) < 50].copy()"
   ]
  },
  {
   "cell_type": "code",
   "execution_count": 129,
   "id": "33d19dca",
   "metadata": {
    "scrolled": false
   },
   "outputs": [
    {
     "data": {
      "image/png": "[encoded data removed]",
      "text/plain": [
       "<Figure size 640x480 with 1 Axes>"
      ]
     },
     "metadata": {},
     "output_type": "display_data"
    }
   ],
   "source": [
    "#Plot boxplots\n",
    "\n",
    "df.plot(kind = 'box')\n",
    "plt.xticks(rotation = 90)\n",
    "plt.show()"
   ]
  },
  {
   "cell_type": "markdown",
   "id": "d9fbc9c5",
   "metadata": {},
   "source": [
    "Despite there still being outliers, these values are within a more reasonable range, and hence this will not effect the generalisation of our model"
   ]
  },
  {
   "cell_type": "markdown",
   "id": "44e4eda2",
   "metadata": {},
   "source": [
    "We now take a look at summary statistics of our data"
   ]
  },
  {
   "cell_type": "code",
   "execution_count": 130,
   "id": "7b2bc141",
   "metadata": {},
   "outputs": [
    {
     "data": {
      "text/html": [
       "<div>\n",
       "<style scoped>\n",
       "    .dataframe tbody tr th:only-of-type {\n",
       "        vertical-align: middle;\n",
       "    }\n",
       "\n",
       "    .dataframe tbody tr th {\n",
       "        vertical-align: top;\n",
       "    }\n",
       "\n",
       "    .dataframe thead th {\n",
       "        text-align: right;\n",
       "    }\n",
       "</style>\n",
       "<table border=\"1\" class=\"dataframe\">\n",
       "  <thead>\n",
       "    <tr style=\"text-align: right;\">\n",
       "      <th></th>\n",
       "      <th>Return_with_Dividends</th>\n",
       "      <th>Return_without_Dividends</th>\n",
       "      <th>RiskFree_Rate_1Month_Forward</th>\n",
       "      <th>Return_1Month_Forward</th>\n",
       "      <th>Sigma</th>\n",
       "    </tr>\n",
       "  </thead>\n",
       "  <tbody>\n",
       "    <tr>\n",
       "      <th>count</th>\n",
       "      <td>6256.000000</td>\n",
       "      <td>6256.000000</td>\n",
       "      <td>6256.000000</td>\n",
       "      <td>6231.000000</td>\n",
       "      <td>5995.000000</td>\n",
       "    </tr>\n",
       "    <tr>\n",
       "      <th>mean</th>\n",
       "      <td>0.109455</td>\n",
       "      <td>-0.012911</td>\n",
       "      <td>0.130775</td>\n",
       "      <td>0.006096</td>\n",
       "      <td>0.069852</td>\n",
       "    </tr>\n",
       "    <tr>\n",
       "      <th>std</th>\n",
       "      <td>0.108956</td>\n",
       "      <td>0.096957</td>\n",
       "      <td>0.151515</td>\n",
       "      <td>0.057892</td>\n",
       "      <td>0.027024</td>\n",
       "    </tr>\n",
       "    <tr>\n",
       "      <th>min</th>\n",
       "      <td>-0.197034</td>\n",
       "      <td>-0.302599</td>\n",
       "      <td>-0.061559</td>\n",
       "      <td>-0.376489</td>\n",
       "      <td>0.027157</td>\n",
       "    </tr>\n",
       "    <tr>\n",
       "      <th>25%</th>\n",
       "      <td>0.031608</td>\n",
       "      <td>-0.077261</td>\n",
       "      <td>-0.015332</td>\n",
       "      <td>-0.022481</td>\n",
       "      <td>0.051304</td>\n",
       "    </tr>\n",
       "    <tr>\n",
       "      <th>50%</th>\n",
       "      <td>0.127174</td>\n",
       "      <td>0.005096</td>\n",
       "      <td>0.099123</td>\n",
       "      <td>0.011737</td>\n",
       "      <td>0.064311</td>\n",
       "    </tr>\n",
       "    <tr>\n",
       "      <th>75%</th>\n",
       "      <td>0.185965</td>\n",
       "      <td>0.052129</td>\n",
       "      <td>0.269003</td>\n",
       "      <td>0.040565</td>\n",
       "      <td>0.079704</td>\n",
       "    </tr>\n",
       "    <tr>\n",
       "      <th>max</th>\n",
       "      <td>0.406503</td>\n",
       "      <td>0.277510</td>\n",
       "      <td>0.490552</td>\n",
       "      <td>0.240728</td>\n",
       "      <td>0.248792</td>\n",
       "    </tr>\n",
       "  </tbody>\n",
       "</table>\n",
       "</div>"
      ],
      "text/plain": [
       "       Return_with_Dividends  Return_without_Dividends  \\\n",
       "count            6256.000000               6256.000000   \n",
       "mean                0.109455                 -0.012911   \n",
       "std                 0.108956                  0.096957   \n",
       "min                -0.197034                 -0.302599   \n",
       "25%                 0.031608                 -0.077261   \n",
       "50%                 0.127174                  0.005096   \n",
       "75%                 0.185965                  0.052129   \n",
       "max                 0.406503                  0.277510   \n",
       "\n",
       "       RiskFree_Rate_1Month_Forward  Return_1Month_Forward        Sigma  \n",
       "count                   6256.000000            6231.000000  5995.000000  \n",
       "mean                       0.130775               0.006096     0.069852  \n",
       "std                        0.151515               0.057892     0.027024  \n",
       "min                       -0.061559              -0.376489     0.027157  \n",
       "25%                       -0.015332              -0.022481     0.051304  \n",
       "50%                        0.099123               0.011737     0.064311  \n",
       "75%                        0.269003               0.040565     0.079704  \n",
       "max                        0.490552               0.240728     0.248792  "
      ]
     },
     "execution_count": 130,
     "metadata": {},
     "output_type": "execute_result"
    }
   ],
   "source": [
    "#Summary statistics\n",
    "df.describe()"
   ]
  },
  {
   "cell_type": "markdown",
   "id": "18644a6c",
   "metadata": {},
   "source": [
    "Notably, we see that `Return_without_Dividends` has a negative mean, which implies that on average the value from the past year of the equity excluding dividends actually decreases. From this we can deduce that on average dividends plays a more important role in the value of the equity year on year"
   ]
  },
  {
   "cell_type": "markdown",
   "id": "2a112434",
   "metadata": {},
   "source": [
    "## Data Augmentation"
   ]
  },
  {
   "cell_type": "markdown",
   "id": "38abac8a",
   "metadata": {},
   "source": [
    "We now wish to construct the variables $\\Delta d_t$ and $PD_t$. Using the derivations from Question A.1, we have the following:"
   ]
  },
  {
   "cell_type": "markdown",
   "id": "020c484f",
   "metadata": {},
   "source": [
    "$$\n",
    "    PD_t = \\frac{V_t + 1}{H_t - V_t}\n",
    "$$\n",
    "\n",
    "$$\n",
    "  \\Delta d_t = \\log \\left ( (H_t - V_t)(V_{t-1} + 1 ) \\right) - \\log \\left ( H_{t-1} - V_{t-1} \\right)\n",
    "$$"
   ]
  },
  {
   "cell_type": "markdown",
   "id": "dc69e6e3",
   "metadata": {},
   "source": [
    "### Price-to-Dividend Ratio $PD_t$"
   ]
  },
  {
   "cell_type": "markdown",
   "id": "9b2a35f2",
   "metadata": {},
   "source": [
    "In order to calculate the Price-to-Dividend ratio, we can simply augment the dataframe `df` to calculate this value given the formula. "
   ]
  },
  {
   "cell_type": "code",
   "execution_count": 131,
   "id": "6fe1bf49",
   "metadata": {},
   "outputs": [],
   "source": [
    "#Define the H_t and V_t columns\n",
    "H_t = df[\"Return_with_Dividends\"]\n",
    "V_t = df[\"Return_without_Dividends\"]\n",
    "\n",
    "#Augment a column PD_t which applies the relevant function\n",
    "df['PD_t'] = (V_t+1)/(H_t - V_t)"
   ]
  },
  {
   "cell_type": "markdown",
   "id": "fb15f215",
   "metadata": {},
   "source": [
    "### Log dividend growth $\\Delta d_t$"
   ]
  },
  {
   "cell_type": "markdown",
   "id": "903200d7",
   "metadata": {},
   "source": [
    "We can again apply the formula for $\\Delta d_t$ listed above to augment the data."
   ]
  },
  {
   "cell_type": "code",
   "execution_count": 132,
   "id": "1eaba7d1",
   "metadata": {},
   "outputs": [],
   "source": [
    "#Augment a column delta_d which applies the relevant function\n",
    "df[\"delta_d\"] = np.log((H_t.shift() - V_t.shift())*(V_t+1)) - np.log(H_t - V_t)"
   ]
  },
  {
   "cell_type": "markdown",
   "id": "8e95189c",
   "metadata": {},
   "source": [
    "### Augmented data"
   ]
  },
  {
   "cell_type": "markdown",
   "id": "940a1afd",
   "metadata": {},
   "source": [
    "We can now inspect our new, augmented data."
   ]
  },
  {
   "cell_type": "code",
   "execution_count": 133,
   "id": "fbd3fe01",
   "metadata": {},
   "outputs": [
    {
     "data": {
      "text/html": [
       "<div>\n",
       "<style scoped>\n",
       "    .dataframe tbody tr th:only-of-type {\n",
       "        vertical-align: middle;\n",
       "    }\n",
       "\n",
       "    .dataframe tbody tr th {\n",
       "        vertical-align: top;\n",
       "    }\n",
       "\n",
       "    .dataframe thead th {\n",
       "        text-align: right;\n",
       "    }\n",
       "</style>\n",
       "<table border=\"1\" class=\"dataframe\">\n",
       "  <thead>\n",
       "    <tr style=\"text-align: right;\">\n",
       "      <th></th>\n",
       "      <th>date</th>\n",
       "      <th>Return_with_Dividends</th>\n",
       "      <th>Return_without_Dividends</th>\n",
       "      <th>RiskFree_Rate_1Month_Forward</th>\n",
       "      <th>Return_1Month_Forward</th>\n",
       "      <th>Sigma</th>\n",
       "      <th>PD_t</th>\n",
       "      <th>delta_d</th>\n",
       "    </tr>\n",
       "  </thead>\n",
       "  <tbody>\n",
       "    <tr>\n",
       "      <th>0</th>\n",
       "      <td>1998-02-07</td>\n",
       "      <td>0.304277</td>\n",
       "      <td>0.143167</td>\n",
       "      <td>0.350638</td>\n",
       "      <td>0.055277</td>\n",
       "      <td>NaN</td>\n",
       "      <td>7.095540</td>\n",
       "      <td>NaN</td>\n",
       "    </tr>\n",
       "    <tr>\n",
       "      <th>1</th>\n",
       "      <td>1998-02-10</td>\n",
       "      <td>0.291903</td>\n",
       "      <td>0.154534</td>\n",
       "      <td>0.363007</td>\n",
       "      <td>0.025068</td>\n",
       "      <td>NaN</td>\n",
       "      <td>8.404637</td>\n",
       "      <td>0.303119</td>\n",
       "    </tr>\n",
       "    <tr>\n",
       "      <th>2</th>\n",
       "      <td>1998-02-11</td>\n",
       "      <td>0.269282</td>\n",
       "      <td>0.179072</td>\n",
       "      <td>0.365795</td>\n",
       "      <td>0.043227</td>\n",
       "      <td>NaN</td>\n",
       "      <td>13.070375</td>\n",
       "      <td>0.585262</td>\n",
       "    </tr>\n",
       "    <tr>\n",
       "      <th>3</th>\n",
       "      <td>1998-02-12</td>\n",
       "      <td>0.290409</td>\n",
       "      <td>0.160366</td>\n",
       "      <td>0.377143</td>\n",
       "      <td>0.056165</td>\n",
       "      <td>NaN</td>\n",
       "      <td>8.922924</td>\n",
       "      <td>-0.216997</td>\n",
       "    </tr>\n",
       "    <tr>\n",
       "      <th>4</th>\n",
       "      <td>1998-02-13</td>\n",
       "      <td>0.268346</td>\n",
       "      <td>0.149079</td>\n",
       "      <td>0.350271</td>\n",
       "      <td>0.074432</td>\n",
       "      <td>NaN</td>\n",
       "      <td>9.634514</td>\n",
       "      <td>0.225464</td>\n",
       "    </tr>\n",
       "  </tbody>\n",
       "</table>\n",
       "</div>"
      ],
      "text/plain": [
       "         date  Return_with_Dividends  Return_without_Dividends  \\\n",
       "0  1998-02-07               0.304277                  0.143167   \n",
       "1  1998-02-10               0.291903                  0.154534   \n",
       "2  1998-02-11               0.269282                  0.179072   \n",
       "3  1998-02-12               0.290409                  0.160366   \n",
       "4  1998-02-13               0.268346                  0.149079   \n",
       "\n",
       "   RiskFree_Rate_1Month_Forward  Return_1Month_Forward  Sigma       PD_t  \\\n",
       "0                      0.350638               0.055277    NaN   7.095540   \n",
       "1                      0.363007               0.025068    NaN   8.404637   \n",
       "2                      0.365795               0.043227    NaN  13.070375   \n",
       "3                      0.377143               0.056165    NaN   8.922924   \n",
       "4                      0.350271               0.074432    NaN   9.634514   \n",
       "\n",
       "    delta_d  \n",
       "0       NaN  \n",
       "1  0.303119  \n",
       "2  0.585262  \n",
       "3 -0.216997  \n",
       "4  0.225464  "
      ]
     },
     "execution_count": 133,
     "metadata": {},
     "output_type": "execute_result"
    }
   ],
   "source": [
    "#Print data\n",
    "df.head()"
   ]
  },
  {
   "cell_type": "code",
   "execution_count": 136,
   "id": "32f6eb65",
   "metadata": {},
   "outputs": [],
   "source": [
    "df.dropna(inplace = True)"
   ]
  },
  {
   "cell_type": "markdown",
   "id": "689e7923",
   "metadata": {},
   "source": [
    "## Further Exploratory Data Analysis"
   ]
  },
  {
   "cell_type": "markdown",
   "id": "d3028f4d",
   "metadata": {},
   "source": [
    "Before fitting models, we can perform some more exploratory data analysis on our augmented data"
   ]
  },
  {
   "cell_type": "code",
   "execution_count": 137,
   "id": "890891b9",
   "metadata": {},
   "outputs": [
    {
     "data": {
      "text/html": [
       "<div>\n",
       "<style scoped>\n",
       "    .dataframe tbody tr th:only-of-type {\n",
       "        vertical-align: middle;\n",
       "    }\n",
       "\n",
       "    .dataframe tbody tr th {\n",
       "        vertical-align: top;\n",
       "    }\n",
       "\n",
       "    .dataframe thead th {\n",
       "        text-align: right;\n",
       "    }\n",
       "</style>\n",
       "<table border=\"1\" class=\"dataframe\">\n",
       "  <thead>\n",
       "    <tr style=\"text-align: right;\">\n",
       "      <th></th>\n",
       "      <th>Return_with_Dividends</th>\n",
       "      <th>Return_without_Dividends</th>\n",
       "      <th>RiskFree_Rate_1Month_Forward</th>\n",
       "      <th>Return_1Month_Forward</th>\n",
       "      <th>Sigma</th>\n",
       "      <th>PD_t</th>\n",
       "      <th>delta_d</th>\n",
       "    </tr>\n",
       "  </thead>\n",
       "  <tbody>\n",
       "    <tr>\n",
       "      <th>count</th>\n",
       "      <td>5971.000000</td>\n",
       "      <td>5971.000000</td>\n",
       "      <td>5971.000000</td>\n",
       "      <td>5971.000000</td>\n",
       "      <td>5971.000000</td>\n",
       "      <td>5971.000000</td>\n",
       "      <td>5971.000000</td>\n",
       "    </tr>\n",
       "    <tr>\n",
       "      <th>mean</th>\n",
       "      <td>0.102810</td>\n",
       "      <td>-0.018293</td>\n",
       "      <td>0.121496</td>\n",
       "      <td>0.005252</td>\n",
       "      <td>0.069832</td>\n",
       "      <td>8.535103</td>\n",
       "      <td>-0.023104</td>\n",
       "    </tr>\n",
       "    <tr>\n",
       "      <th>std</th>\n",
       "      <td>0.105308</td>\n",
       "      <td>0.094029</td>\n",
       "      <td>0.147965</td>\n",
       "      <td>0.056380</td>\n",
       "      <td>0.027029</td>\n",
       "      <td>2.327232</td>\n",
       "      <td>0.249851</td>\n",
       "    </tr>\n",
       "    <tr>\n",
       "      <th>min</th>\n",
       "      <td>-0.197034</td>\n",
       "      <td>-0.302599</td>\n",
       "      <td>-0.061559</td>\n",
       "      <td>-0.376489</td>\n",
       "      <td>0.027157</td>\n",
       "      <td>4.440278</td>\n",
       "      <td>-1.404444</td>\n",
       "    </tr>\n",
       "    <tr>\n",
       "      <th>25%</th>\n",
       "      <td>0.025011</td>\n",
       "      <td>-0.081317</td>\n",
       "      <td>-0.021998</td>\n",
       "      <td>-0.022905</td>\n",
       "      <td>0.051291</td>\n",
       "      <td>7.051794</td>\n",
       "      <td>-0.175724</td>\n",
       "    </tr>\n",
       "    <tr>\n",
       "      <th>50%</th>\n",
       "      <td>0.120728</td>\n",
       "      <td>0.001013</td>\n",
       "      <td>0.076496</td>\n",
       "      <td>0.010877</td>\n",
       "      <td>0.064296</td>\n",
       "      <td>8.063557</td>\n",
       "      <td>-0.015668</td>\n",
       "    </tr>\n",
       "    <tr>\n",
       "      <th>75%</th>\n",
       "      <td>0.178863</td>\n",
       "      <td>0.047718</td>\n",
       "      <td>0.250311</td>\n",
       "      <td>0.039029</td>\n",
       "      <td>0.079680</td>\n",
       "      <td>9.408249</td>\n",
       "      <td>0.135393</td>\n",
       "    </tr>\n",
       "    <tr>\n",
       "      <th>max</th>\n",
       "      <td>0.406503</td>\n",
       "      <td>0.277510</td>\n",
       "      <td>0.490552</td>\n",
       "      <td>0.211338</td>\n",
       "      <td>0.248792</td>\n",
       "      <td>54.194632</td>\n",
       "      <td>1.160398</td>\n",
       "    </tr>\n",
       "  </tbody>\n",
       "</table>\n",
       "</div>"
      ],
      "text/plain": [
       "       Return_with_Dividends  Return_without_Dividends  \\\n",
       "count            5971.000000               5971.000000   \n",
       "mean                0.102810                 -0.018293   \n",
       "std                 0.105308                  0.094029   \n",
       "min                -0.197034                 -0.302599   \n",
       "25%                 0.025011                 -0.081317   \n",
       "50%                 0.120728                  0.001013   \n",
       "75%                 0.178863                  0.047718   \n",
       "max                 0.406503                  0.277510   \n",
       "\n",
       "       RiskFree_Rate_1Month_Forward  Return_1Month_Forward        Sigma  \\\n",
       "count                   5971.000000            5971.000000  5971.000000   \n",
       "mean                       0.121496               0.005252     0.069832   \n",
       "std                        0.147965               0.056380     0.027029   \n",
       "min                       -0.061559              -0.376489     0.027157   \n",
       "25%                       -0.021998              -0.022905     0.051291   \n",
       "50%                        0.076496               0.010877     0.064296   \n",
       "75%                        0.250311               0.039029     0.079680   \n",
       "max                        0.490552               0.211338     0.248792   \n",
       "\n",
       "              PD_t      delta_d  \n",
       "count  5971.000000  5971.000000  \n",
       "mean      8.535103    -0.023104  \n",
       "std       2.327232     0.249851  \n",
       "min       4.440278    -1.404444  \n",
       "25%       7.051794    -0.175724  \n",
       "50%       8.063557    -0.015668  \n",
       "75%       9.408249     0.135393  \n",
       "max      54.194632     1.160398  "
      ]
     },
     "execution_count": 137,
     "metadata": {},
     "output_type": "execute_result"
    }
   ],
   "source": [
    "#Summary Statistics\n",
    "df.describe()"
   ]
  },
  {
   "cell_type": "markdown",
   "id": "f88a40fc",
   "metadata": {},
   "source": [
    "Although the Price-to-Dividend ratio has a far larger magnitude than the other predictors, since it is a calculated value from the clean data we will keep it in our models"
   ]
  },
  {
   "cell_type": "markdown",
   "id": "5489010d",
   "metadata": {},
   "source": [
    "As given, our team hypothesises that we can predict returns using $PD_t$ and $\\Delta d_t$. So we now wish to visualise the relationship between these two variables, to inform model selection."
   ]
  },
  {
   "cell_type": "code",
   "execution_count": 138,
   "id": "318b00eb",
   "metadata": {
    "scrolled": false
   },
   "outputs": [
    {
     "data": {
      "image/png": "[encoded data removed]",
      "text/plain": [
       "<Figure size 640x480 with 1 Axes>"
      ]
     },
     "metadata": {},
     "output_type": "display_data"
    }
   ],
   "source": [
    "df.plot(x='PD_t', y='Return_1Month_Forward', style='o')\n",
    "plt.show()"
   ]
  },
  {
   "cell_type": "code",
   "execution_count": 139,
   "id": "19ccdfbc",
   "metadata": {},
   "outputs": [
    {
     "data": {
      "image/png": "[encoded data removed]",
      "text/plain": [
       "<Figure size 640x480 with 1 Axes>"
      ]
     },
     "metadata": {},
     "output_type": "display_data"
    }
   ],
   "source": [
    "df.plot(x='delta_d', y='Return_1Month_Forward', style='o')\n",
    "plt.show()"
   ]
  },
  {
   "cell_type": "markdown",
   "id": "0ff0e43c",
   "metadata": {},
   "source": [
    "We observe that there may be a small non-linear relationship between $PD_t$ and $R_t$, but there appears to be no discernable relationship between $\\Delta d_t$ and $R_t$"
   ]
  },
  {
   "cell_type": "markdown",
   "id": "f9db77dd",
   "metadata": {},
   "source": [
    "## Fitting Models"
   ]
  },
  {
   "cell_type": "markdown",
   "id": "2aa7897d",
   "metadata": {},
   "source": [
    "This section documents the construction, fitting, and tuning of various models"
   ]
  },
  {
   "cell_type": "markdown",
   "id": "7cb099eb",
   "metadata": {},
   "source": [
    "### Linear Regression"
   ]
  },
  {
   "cell_type": "code",
   "execution_count": 140,
   "id": "abf890e6",
   "metadata": {},
   "outputs": [],
   "source": [
    "X = df[['PD_t', 'delta_d']]\n",
    "y = df['Return_1Month_Forward']\n",
    "model = LinearRegression().fit(X,y)"
   ]
  },
  {
   "cell_type": "code",
   "execution_count": 142,
   "id": "10aab9a8",
   "metadata": {
    "scrolled": true
   },
   "outputs": [
    {
     "name": "stdout",
     "output_type": "stream",
     "text": [
      "coefficient of determination: 0.0015781006173752887\n",
      "intercept: -0.0037632647933491152\n",
      "coefficients: [ 0.00105069 -0.00206148]\n"
     ]
    }
   ],
   "source": [
    "print(f\"coefficient of determination: {model.score(X,y)}\")\n",
    "print(f\"intercept: {model.intercept_}\")\n",
    "print(f\"coefficients: {model.coef_}\")"
   ]
  },
  {
   "cell_type": "markdown",
   "id": "85520c05",
   "metadata": {},
   "source": [
    "By the low coefficient of determination, we observe that this model is extremely poor"
   ]
  },
  {
   "cell_type": "code",
   "execution_count": null,
   "id": "4bdbcdce",
   "metadata": {},
   "outputs": [],
   "source": []
  }
 ],
 "metadata": {
  "kernelspec": {
   "display_name": "Python 3 (ipykernel)",
   "language": "python",
   "name": "python3"
  },
  "language_info": {
   "codemirror_mode": {
    "name": "ipython",
    "version": 3
   },
   "file_extension": ".py",
   "mimetype": "text/x-python",
   "name": "python",
   "nbconvert_exporter": "python",
   "pygments_lexer": "ipython3",
   "version": "3.10.9"
  }
 },
 "nbformat": 4,
 "nbformat_minor": 5
}
