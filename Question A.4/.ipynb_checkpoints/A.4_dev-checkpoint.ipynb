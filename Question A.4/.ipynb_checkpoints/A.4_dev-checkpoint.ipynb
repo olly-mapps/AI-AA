{
 "cells": [
  {
   "cell_type": "markdown",
   "id": "7c51a831",
   "metadata": {},
   "source": [
    "# Question A.4"
   ]
  },
  {
   "cell_type": "markdown",
   "id": "c3577dce",
   "metadata": {},
   "source": [
    "This notebook documents the development of plots for average portfolio return $E[R_{p,t}]$ and the volatility $Var(R_{p,t})$ as a function of $k > 0$, the risk aversion coefficient."
   ]
  },
  {
   "cell_type": "markdown",
   "id": "729ca695",
   "metadata": {},
   "source": [
    "## Libraries"
   ]
  },
  {
   "cell_type": "markdown",
   "id": "abf3d5de",
   "metadata": {},
   "source": [
    "For our calculations and plots, we want to import the following libraries"
   ]
  },
  {
   "cell_type": "code",
   "execution_count": 48,
   "id": "22a8f9eb",
   "metadata": {},
   "outputs": [],
   "source": [
    "import pandas as pd\n",
    "import numpy as np\n",
    "import matplotlib.pyplot as plt"
   ]
  },
  {
   "cell_type": "markdown",
   "id": "04d55ac7",
   "metadata": {},
   "source": [
    "## Data Loading"
   ]
  },
  {
   "cell_type": "markdown",
   "id": "9bf5fe91",
   "metadata": {},
   "source": [
    "For our calculations, we want to import the following libraries"
   ]
  },
  {
   "cell_type": "code",
   "execution_count": 49,
   "id": "1a9bd980",
   "metadata": {},
   "outputs": [],
   "source": [
    "df = pd.read_csv('../data/augmented_data_A3.csv', index_col = [0], parse_dates = True)"
   ]
  },
  {
   "cell_type": "markdown",
   "id": "771f1b7d",
   "metadata": {},
   "source": [
    "## Data Augmentation"
   ]
  },
  {
   "cell_type": "markdown",
   "id": "459f4f3a",
   "metadata": {},
   "source": [
    "First, we need to augment our data further for a time series of $R_{p,t}$. Using:\n",
    "\n",
    "$$ R_{p,t} = \\alpha_t R_t + (1-\\alpha_t)R_{f,t} $$\n",
    "\n",
    "We use our columns from Question A.3, and we can calculate the necessary value in the following way.  "
   ]
  },
  {
   "cell_type": "code",
   "execution_count": 50,
   "id": "0548b7c0",
   "metadata": {},
   "outputs": [],
   "source": [
    "#Define the Exp_R_t, R_ft and sigma_t columns\n",
    "alpha_t = df[\"alpha_t(k)\"]\n",
    "R_ft = df[\"RiskFree_Rate_1Month_Forward\"]\n",
    "R_t = df[\"Return_1Month_Forward\"]\n",
    "\n",
    "#Augment a column alpha_t(k) which applies the relevant function\n",
    "df['R_pt'] = (alpha_t*R_t) + ((1 - alpha_t)*R_ft) "
   ]
  },
  {
   "cell_type": "markdown",
   "id": "747ee6cf",
   "metadata": {},
   "source": [
    "## Plotting $E[R_{p,t}]$"
   ]
  },
  {
   "cell_type": "markdown",
   "id": "f183e798",
   "metadata": {},
   "source": [
    "In order to plot the value as a function of $k$, we need to find the average of $R_{p,t}$. So:"
   ]
  },
  {
   "cell_type": "code",
   "execution_count": 51,
   "id": "2214ead2",
   "metadata": {},
   "outputs": [
    {
     "name": "stdout",
     "output_type": "stream",
     "text": [
      "9.721182698095319\n"
     ]
    }
   ],
   "source": [
    "Exp_R_pt = df['R_pt'].mean()\n",
    "print(Exp_R_pt)"
   ]
  },
  {
   "cell_type": "markdown",
   "id": "3701b624",
   "metadata": {},
   "source": [
    "Now as a function of $k$, as explained in the accompanying pdf, we need to divide the `Exp_R_pt` by $k$:\n",
    "\n",
    "$$ E[R_{p,t}](k) = \\frac{E[R_{p,t}]}{k} $$"
   ]
  },
  {
   "cell_type": "markdown",
   "id": "3aacfc64",
   "metadata": {},
   "source": [
    "We do this by first defining the function as specified:"
   ]
  },
  {
   "cell_type": "code",
   "execution_count": 52,
   "id": "af43d9e9",
   "metadata": {},
   "outputs": [],
   "source": [
    "def Exp_R_pt_k (exp, k):\n",
    "    return exp/k"
   ]
  },
  {
   "cell_type": "markdown",
   "id": "e49d11ad",
   "metadata": {},
   "source": [
    "We can then define a reasonable set of $k$ values, and produce the plot"
   ]
  },
  {
   "cell_type": "code",
   "execution_count": 53,
   "id": "616437f6",
   "metadata": {},
   "outputs": [
    {
     "data": {
      "image/png": "[encoded data removed]",
      "text/plain": [
       "<Figure size 640x480 with 1 Axes>"
      ]
     },
     "metadata": {},
     "output_type": "display_data"
    }
   ],
   "source": [
    "k_exp = np.linspace(0.1, 1 ,100)\n",
    "\n",
    "plt.plot(k_exp, Exp_R_pt_k(Exp_R_pt, k_exp))\n",
    "\n",
    "plt.title(r'Average portfolio return $E[R_{p,t}]$ as a function of $k$')\n",
    "plt.ylabel(r'$E[R_{p,t}]$')\n",
    "plt.xlabel(r'$k$')\n",
    "\n",
    "plt.savefig('../figures/Exp_R_pt_k.png')\n",
    "\n",
    "plt.show()"
   ]
  },
  {
   "cell_type": "markdown",
   "id": "08f42a71",
   "metadata": {},
   "source": [
    "## Plotting $Var(R_{p,t})$"
   ]
  },
  {
   "cell_type": "markdown",
   "id": "5708c0b4",
   "metadata": {},
   "source": [
    "In order to plot the value as a function of $k$, we need to find the \n",
    "variance of $R_{p,t}$. So:"
   ]
  },
  {
   "cell_type": "code",
   "execution_count": 54,
   "id": "a0363e33",
   "metadata": {},
   "outputs": [
    {
     "name": "stdout",
     "output_type": "stream",
     "text": [
      "218.0586422522758\n"
     ]
    }
   ],
   "source": [
    "Var_R_pt = np.var(df['R_pt'])\n",
    "print(Var_R_pt)"
   ]
  },
  {
   "cell_type": "markdown",
   "id": "3ffd27fe",
   "metadata": {},
   "source": [
    "Now as a function of $k$, as explained in the accompanying pdf, we need to divide the `Var_R_pt` by $k^2$:\n",
    "\n",
    "$$ Var(R_{p,t})(k) = \\frac{Var(R_{p,t})}{k^2} $$"
   ]
  },
  {
   "cell_type": "code",
   "execution_count": 55,
   "id": "b3efe539",
   "metadata": {},
   "outputs": [],
   "source": [
    "def Var_R_pt_k (var, k):\n",
    "    return var/(k**2)"
   ]
  },
  {
   "cell_type": "markdown",
   "id": "4208d78f",
   "metadata": {},
   "source": [
    "Once again we define a range of suitable $k$ values, and then produce a plot"
   ]
  },
  {
   "cell_type": "code",
   "execution_count": 56,
   "id": "b62aeb12",
   "metadata": {},
   "outputs": [
    {
     "data": {
      "image/png": "[encoded data removed]",
      "text/plain": [
       "<Figure size 640x480 with 1 Axes>"
      ]
     },
     "metadata": {},
     "output_type": "display_data"
    }
   ],
   "source": [
    "k_var = np.linspace(0.1, 1 ,100)\n",
    "\n",
    "plt.plot(k_var, Var_R_pt_k(Var_R_pt, k_var))\n",
    "\n",
    "plt.title(r'Volatility of portfolio return $Var(R_{p,t})$ as a function of $k$')\n",
    "plt.ylabel(r'$Var(R_{p,t})$')\n",
    "plt.xlabel(r'$k$')\n",
    "\n",
    "plt.savefig('../figures/Var_R_pt_k.png')\n",
    "\n",
    "plt.show()"
   ]
  }
 ],
 "metadata": {
  "kernelspec": {
   "display_name": "ultramarin",
   "language": "python",
   "name": "ultramarin"
  },
  "language_info": {
   "codemirror_mode": {
    "name": "ipython",
    "version": 3
   },
   "file_extension": ".py",
   "mimetype": "text/x-python",
   "name": "python",
   "nbconvert_exporter": "python",
   "pygments_lexer": "ipython3",
   "version": "3.10.9"
  }
 },
 "nbformat": 4,
 "nbformat_minor": 5
}
