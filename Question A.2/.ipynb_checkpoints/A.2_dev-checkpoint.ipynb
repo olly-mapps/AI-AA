{
 "cells": [
  {
   "cell_type": "markdown",
   "id": "54696088",
   "metadata": {},
   "source": [
    "# Question A.2"
   ]
  },
  {
   "cell_type": "markdown",
   "id": "f28bf26d",
   "metadata": {},
   "source": [
    "This notebook documents the development of a model that predicts returns $R_t$ using the log dividend growth $\\Delta d_t$ and Price-to-Dividend ratio $PD_t$"
   ]
  },
  {
   "cell_type": "markdown",
   "id": "66eb6272",
   "metadata": {},
   "source": [
    "## Libraries"
   ]
  },
  {
   "cell_type": "markdown",
   "id": "50c7aea0",
   "metadata": {},
   "source": [
    "For our model, we want to import the following libraries"
   ]
  },
  {
   "cell_type": "code",
   "execution_count": 185,
   "id": "2a88a5d3",
   "metadata": {},
   "outputs": [],
   "source": [
    "import pandas as pd\n",
    "import numpy as np\n",
    "import matplotlib.pyplot as plt\n",
    "from scipy import stats\n",
    "from sklearn.linear_model import LinearRegression\n",
    "from statsmodels.tsa.stattools import acf, pacf\n",
    "from statsmodels.graphics.tsaplots import plot_acf, plot_pacf\n",
    "from statsmodels.tsa.vector_ar.var_model import VAR\n",
    "from sklearn.metrics import mean_squared_error\n",
    "from sklearn.metrics import mean_absolute_error\n",
    "from statsmodels.tsa.stattools import adfuller\n",
    "from sklearn.ensemble import GradientBoostingRegressor\n",
    "from sklearn.model_selection import RepeatedStratifiedKFold\n",
    "from sklearn.model_selection import GridSearchCV\n",
    "from sklearn.ensemble import GradientBoostingClassifier\n",
    "from sklearn.preprocessing import StandardScaler\n",
    "import tensorflow as tf\n",
    "import keras\n",
    "from keras import optimizers\n",
    "from keras.callbacks import History\n",
    "from keras.models import Model, Sequential\n",
    "from keras.layers import Dense, Bidirectional, Dropout, LSTM, Input, Activation, concatenate\n",
    "import math\n",
    "from sklearn.preprocessing import MinMaxScaler"
   ]
  },
  {
   "cell_type": "markdown",
   "id": "0c6e737a",
   "metadata": {},
   "source": [
    "## Data Loading"
   ]
  },
  {
   "cell_type": "markdown",
   "id": "3ea68fe8",
   "metadata": {},
   "source": [
    "Our data is found in the `data.csv` file, and we first want to load it in."
   ]
  },
  {
   "cell_type": "code",
   "execution_count": 289,
   "id": "0a1d989d",
   "metadata": {},
   "outputs": [
    {
     "data": {
      "text/html": [
       "<div>\n",
       "<style scoped>\n",
       "    .dataframe tbody tr th:only-of-type {\n",
       "        vertical-align: middle;\n",
       "    }\n",
       "\n",
       "    .dataframe tbody tr th {\n",
       "        vertical-align: top;\n",
       "    }\n",
       "\n",
       "    .dataframe thead th {\n",
       "        text-align: right;\n",
       "    }\n",
       "</style>\n",
       "<table border=\"1\" class=\"dataframe\">\n",
       "  <thead>\n",
       "    <tr style=\"text-align: right;\">\n",
       "      <th></th>\n",
       "      <th>date</th>\n",
       "      <th>Return_with_Dividends</th>\n",
       "      <th>Return_without_Dividends</th>\n",
       "      <th>RiskFree_Rate_1Month_Forward</th>\n",
       "      <th>Return_1Month_Forward</th>\n",
       "      <th>Sigma</th>\n",
       "    </tr>\n",
       "  </thead>\n",
       "  <tbody>\n",
       "    <tr>\n",
       "      <th>0</th>\n",
       "      <td>1998-02-07</td>\n",
       "      <td>0.304277</td>\n",
       "      <td>0.143167</td>\n",
       "      <td>0.350638</td>\n",
       "      <td>0.055277</td>\n",
       "      <td>NaN</td>\n",
       "    </tr>\n",
       "    <tr>\n",
       "      <th>1</th>\n",
       "      <td>1998-02-10</td>\n",
       "      <td>0.291903</td>\n",
       "      <td>0.154534</td>\n",
       "      <td>0.363007</td>\n",
       "      <td>0.025068</td>\n",
       "      <td>NaN</td>\n",
       "    </tr>\n",
       "    <tr>\n",
       "      <th>2</th>\n",
       "      <td>1998-02-11</td>\n",
       "      <td>0.269282</td>\n",
       "      <td>0.179072</td>\n",
       "      <td>0.365795</td>\n",
       "      <td>0.043227</td>\n",
       "      <td>NaN</td>\n",
       "    </tr>\n",
       "    <tr>\n",
       "      <th>3</th>\n",
       "      <td>1998-02-12</td>\n",
       "      <td>0.290409</td>\n",
       "      <td>0.160366</td>\n",
       "      <td>0.377143</td>\n",
       "      <td>0.056165</td>\n",
       "      <td>NaN</td>\n",
       "    </tr>\n",
       "    <tr>\n",
       "      <th>4</th>\n",
       "      <td>1998-02-13</td>\n",
       "      <td>0.268346</td>\n",
       "      <td>0.149079</td>\n",
       "      <td>0.350271</td>\n",
       "      <td>0.074432</td>\n",
       "      <td>NaN</td>\n",
       "    </tr>\n",
       "    <tr>\n",
       "      <th>...</th>\n",
       "      <td>...</td>\n",
       "      <td>...</td>\n",
       "      <td>...</td>\n",
       "      <td>...</td>\n",
       "      <td>...</td>\n",
       "      <td>...</td>\n",
       "    </tr>\n",
       "    <tr>\n",
       "      <th>6256</th>\n",
       "      <td>2022-02-01</td>\n",
       "      <td>0.178304</td>\n",
       "      <td>0.067787</td>\n",
       "      <td>-0.005573</td>\n",
       "      <td>-0.042527</td>\n",
       "      <td>0.056470</td>\n",
       "    </tr>\n",
       "    <tr>\n",
       "      <th>6257</th>\n",
       "      <td>2022-02-02</td>\n",
       "      <td>0.194420</td>\n",
       "      <td>0.077617</td>\n",
       "      <td>0.003521</td>\n",
       "      <td>-0.039765</td>\n",
       "      <td>0.057842</td>\n",
       "    </tr>\n",
       "    <tr>\n",
       "      <th>6258</th>\n",
       "      <td>2022-02-03</td>\n",
       "      <td>0.178116</td>\n",
       "      <td>0.069139</td>\n",
       "      <td>0.000203</td>\n",
       "      <td>-0.047804</td>\n",
       "      <td>0.059506</td>\n",
       "    </tr>\n",
       "    <tr>\n",
       "      <th>6259</th>\n",
       "      <td>2022-02-04</td>\n",
       "      <td>0.172267</td>\n",
       "      <td>0.064309</td>\n",
       "      <td>0.002355</td>\n",
       "      <td>-0.075907</td>\n",
       "      <td>0.058272</td>\n",
       "    </tr>\n",
       "    <tr>\n",
       "      <th>6260</th>\n",
       "      <td>2022-02-05</td>\n",
       "      <td>0.186062</td>\n",
       "      <td>0.071981</td>\n",
       "      <td>-0.003421</td>\n",
       "      <td>-0.039052</td>\n",
       "      <td>0.056425</td>\n",
       "    </tr>\n",
       "  </tbody>\n",
       "</table>\n",
       "<p>6261 rows × 6 columns</p>\n",
       "</div>"
      ],
      "text/plain": [
       "            date  Return_with_Dividends  Return_without_Dividends  \\\n",
       "0     1998-02-07               0.304277                  0.143167   \n",
       "1     1998-02-10               0.291903                  0.154534   \n",
       "2     1998-02-11               0.269282                  0.179072   \n",
       "3     1998-02-12               0.290409                  0.160366   \n",
       "4     1998-02-13               0.268346                  0.149079   \n",
       "...          ...                    ...                       ...   \n",
       "6256  2022-02-01               0.178304                  0.067787   \n",
       "6257  2022-02-02               0.194420                  0.077617   \n",
       "6258  2022-02-03               0.178116                  0.069139   \n",
       "6259  2022-02-04               0.172267                  0.064309   \n",
       "6260  2022-02-05               0.186062                  0.071981   \n",
       "\n",
       "      RiskFree_Rate_1Month_Forward  Return_1Month_Forward     Sigma  \n",
       "0                         0.350638               0.055277       NaN  \n",
       "1                         0.363007               0.025068       NaN  \n",
       "2                         0.365795               0.043227       NaN  \n",
       "3                         0.377143               0.056165       NaN  \n",
       "4                         0.350271               0.074432       NaN  \n",
       "...                            ...                    ...       ...  \n",
       "6256                     -0.005573              -0.042527  0.056470  \n",
       "6257                      0.003521              -0.039765  0.057842  \n",
       "6258                      0.000203              -0.047804  0.059506  \n",
       "6259                      0.002355              -0.075907  0.058272  \n",
       "6260                     -0.003421              -0.039052  0.056425  \n",
       "\n",
       "[6261 rows x 6 columns]"
      ]
     },
     "execution_count": 289,
     "metadata": {},
     "output_type": "execute_result"
    }
   ],
   "source": [
    "#Read data.csv file from the data directory\n",
    "df = pd.read_csv('../data/data.csv', index_col = [0], parse_dates = True)\n",
    "\n",
    "# Inspect data\n",
    "df"
   ]
  },
  {
   "cell_type": "markdown",
   "id": "ff2bd13a",
   "metadata": {},
   "source": [
    "We also want to convert the date to `datetime` format"
   ]
  },
  {
   "cell_type": "code",
   "execution_count": 290,
   "id": "b607c4d2",
   "metadata": {},
   "outputs": [],
   "source": [
    "df['date'] = pd.to_datetime(df['date'])"
   ]
  },
  {
   "cell_type": "markdown",
   "id": "bc9c977d",
   "metadata": {},
   "source": [
    "And then set this as the index"
   ]
  },
  {
   "cell_type": "code",
   "execution_count": 291,
   "id": "0a7045ec",
   "metadata": {},
   "outputs": [],
   "source": [
    "df.set_index('date', inplace = True)\n",
    "df.index = pd.DatetimeIndex(df.index).to_period('D')"
   ]
  },
  {
   "cell_type": "markdown",
   "id": "fcc5e2c2",
   "metadata": {},
   "source": [
    "We also see that sigma has NaN values, since we are not using them in this part, we will drop that column"
   ]
  },
  {
   "cell_type": "code",
   "execution_count": 292,
   "id": "8731e2f6",
   "metadata": {},
   "outputs": [],
   "source": [
    "df.drop(['Sigma'], axis = 1, inplace = True)"
   ]
  },
  {
   "cell_type": "markdown",
   "id": "a4809be0",
   "metadata": {},
   "source": [
    "We also impute any missing values, with the values from the previous time period"
   ]
  },
  {
   "cell_type": "code",
   "execution_count": 293,
   "id": "8e0773e8",
   "metadata": {},
   "outputs": [],
   "source": [
    "def fill_missing(values):\n",
    "    back_trace = 1\n",
    "    for row in range(df.shape[0]):\n",
    "        for col in range(df.shape[1]):\n",
    "            if np.isnan(values[row][col]):\n",
    "                values[row,col] = values[row-back_trace,col]\n",
    "                \n",
    "fill_missing(df.values)"
   ]
  },
  {
   "cell_type": "markdown",
   "id": "20c2aefd",
   "metadata": {},
   "source": [
    "Now to check our work"
   ]
  },
  {
   "cell_type": "code",
   "execution_count": 294,
   "id": "acefecfa",
   "metadata": {
    "scrolled": true
   },
   "outputs": [
    {
     "data": {
      "text/plain": [
       "False"
      ]
     },
     "execution_count": 294,
     "metadata": {},
     "output_type": "execute_result"
    }
   ],
   "source": [
    "df.isnull().values.any()"
   ]
  },
  {
   "cell_type": "code",
   "execution_count": 295,
   "id": "4dbd200d",
   "metadata": {},
   "outputs": [
    {
     "data": {
      "text/html": [
       "<div>\n",
       "<style scoped>\n",
       "    .dataframe tbody tr th:only-of-type {\n",
       "        vertical-align: middle;\n",
       "    }\n",
       "\n",
       "    .dataframe tbody tr th {\n",
       "        vertical-align: top;\n",
       "    }\n",
       "\n",
       "    .dataframe thead th {\n",
       "        text-align: right;\n",
       "    }\n",
       "</style>\n",
       "<table border=\"1\" class=\"dataframe\">\n",
       "  <thead>\n",
       "    <tr style=\"text-align: right;\">\n",
       "      <th></th>\n",
       "      <th>Return_with_Dividends</th>\n",
       "      <th>Return_without_Dividends</th>\n",
       "      <th>RiskFree_Rate_1Month_Forward</th>\n",
       "      <th>Return_1Month_Forward</th>\n",
       "    </tr>\n",
       "    <tr>\n",
       "      <th>date</th>\n",
       "      <th></th>\n",
       "      <th></th>\n",
       "      <th></th>\n",
       "      <th></th>\n",
       "    </tr>\n",
       "  </thead>\n",
       "  <tbody>\n",
       "    <tr>\n",
       "      <th>1998-02-07</th>\n",
       "      <td>0.304277</td>\n",
       "      <td>0.143167</td>\n",
       "      <td>0.350638</td>\n",
       "      <td>0.055277</td>\n",
       "    </tr>\n",
       "    <tr>\n",
       "      <th>1998-02-10</th>\n",
       "      <td>0.291903</td>\n",
       "      <td>0.154534</td>\n",
       "      <td>0.363007</td>\n",
       "      <td>0.025068</td>\n",
       "    </tr>\n",
       "    <tr>\n",
       "      <th>1998-02-11</th>\n",
       "      <td>0.269282</td>\n",
       "      <td>0.179072</td>\n",
       "      <td>0.365795</td>\n",
       "      <td>0.043227</td>\n",
       "    </tr>\n",
       "    <tr>\n",
       "      <th>1998-02-12</th>\n",
       "      <td>0.290409</td>\n",
       "      <td>0.160366</td>\n",
       "      <td>0.377143</td>\n",
       "      <td>0.056165</td>\n",
       "    </tr>\n",
       "    <tr>\n",
       "      <th>1998-02-13</th>\n",
       "      <td>0.268346</td>\n",
       "      <td>0.149079</td>\n",
       "      <td>0.350271</td>\n",
       "      <td>0.074432</td>\n",
       "    </tr>\n",
       "  </tbody>\n",
       "</table>\n",
       "</div>"
      ],
      "text/plain": [
       "            Return_with_Dividends  Return_without_Dividends  \\\n",
       "date                                                          \n",
       "1998-02-07               0.304277                  0.143167   \n",
       "1998-02-10               0.291903                  0.154534   \n",
       "1998-02-11               0.269282                  0.179072   \n",
       "1998-02-12               0.290409                  0.160366   \n",
       "1998-02-13               0.268346                  0.149079   \n",
       "\n",
       "            RiskFree_Rate_1Month_Forward  Return_1Month_Forward  \n",
       "date                                                             \n",
       "1998-02-07                      0.350638               0.055277  \n",
       "1998-02-10                      0.363007               0.025068  \n",
       "1998-02-11                      0.365795               0.043227  \n",
       "1998-02-12                      0.377143               0.056165  \n",
       "1998-02-13                      0.350271               0.074432  "
      ]
     },
     "execution_count": 295,
     "metadata": {},
     "output_type": "execute_result"
    }
   ],
   "source": [
    "df.head()"
   ]
  },
  {
   "cell_type": "markdown",
   "id": "ed96a0a6",
   "metadata": {},
   "source": [
    "## Exploratory Data Analysis"
   ]
  },
  {
   "cell_type": "markdown",
   "id": "23e831bf",
   "metadata": {},
   "source": [
    "We now perform some exploratory data analysis to get a better feel for our data"
   ]
  },
  {
   "cell_type": "code",
   "execution_count": 296,
   "id": "1ac0cec2",
   "metadata": {
    "scrolled": false
   },
   "outputs": [
    {
     "data": {
      "image/png": "[encoded data removed]",
      "text/plain": [
       "<Figure size 640x480 with 1 Axes>"
      ]
     },
     "metadata": {},
     "output_type": "display_data"
    }
   ],
   "source": [
    "#Plot boxplots\n",
    "\n",
    "df.plot(kind = 'box')\n",
    "plt.xticks(rotation = 90)\n",
    "plt.show()"
   ]
  },
  {
   "cell_type": "markdown",
   "id": "627e18f1",
   "metadata": {},
   "source": [
    "We observe a severe outlier in `RiskFree_Rate_1Month_Forward`. Since it is almost -100, we can assume this is some measurement error, so to fit a model it will be wise to drop this"
   ]
  },
  {
   "cell_type": "code",
   "execution_count": 297,
   "id": "3843c806",
   "metadata": {},
   "outputs": [],
   "source": [
    "#Filter out observations where the foward riskfree rate is greater than 50\n",
    "df = df.loc[abs(df['RiskFree_Rate_1Month_Forward']) < 50].copy()"
   ]
  },
  {
   "cell_type": "code",
   "execution_count": 298,
   "id": "33d19dca",
   "metadata": {
    "scrolled": false
   },
   "outputs": [
    {
     "data": {
      "image/png": "[encoded data removed]",
      "text/plain": [
       "<Figure size 640x480 with 1 Axes>"
      ]
     },
     "metadata": {},
     "output_type": "display_data"
    }
   ],
   "source": [
    "#Plot boxplots\n",
    "\n",
    "df.plot(kind = 'box')\n",
    "plt.xticks(rotation = 90)\n",
    "plt.show()"
   ]
  },
  {
   "cell_type": "markdown",
   "id": "d9fbc9c5",
   "metadata": {},
   "source": [
    "Despite there still being outliers, these values are within a more reasonable range, and hence this will not effect the generalisation of our model"
   ]
  },
  {
   "cell_type": "markdown",
   "id": "44e4eda2",
   "metadata": {},
   "source": [
    "We now take a look at summary statistics of our data"
   ]
  },
  {
   "cell_type": "code",
   "execution_count": 299,
   "id": "7b2bc141",
   "metadata": {},
   "outputs": [
    {
     "data": {
      "text/html": [
       "<div>\n",
       "<style scoped>\n",
       "    .dataframe tbody tr th:only-of-type {\n",
       "        vertical-align: middle;\n",
       "    }\n",
       "\n",
       "    .dataframe tbody tr th {\n",
       "        vertical-align: top;\n",
       "    }\n",
       "\n",
       "    .dataframe thead th {\n",
       "        text-align: right;\n",
       "    }\n",
       "</style>\n",
       "<table border=\"1\" class=\"dataframe\">\n",
       "  <thead>\n",
       "    <tr style=\"text-align: right;\">\n",
       "      <th></th>\n",
       "      <th>Return_with_Dividends</th>\n",
       "      <th>Return_without_Dividends</th>\n",
       "      <th>RiskFree_Rate_1Month_Forward</th>\n",
       "      <th>Return_1Month_Forward</th>\n",
       "    </tr>\n",
       "  </thead>\n",
       "  <tbody>\n",
       "    <tr>\n",
       "      <th>count</th>\n",
       "      <td>6256.000000</td>\n",
       "      <td>6256.000000</td>\n",
       "      <td>6256.000000</td>\n",
       "      <td>6256.000000</td>\n",
       "    </tr>\n",
       "    <tr>\n",
       "      <th>mean</th>\n",
       "      <td>0.109455</td>\n",
       "      <td>-0.012911</td>\n",
       "      <td>0.130775</td>\n",
       "      <td>0.006074</td>\n",
       "    </tr>\n",
       "    <tr>\n",
       "      <th>std</th>\n",
       "      <td>0.108956</td>\n",
       "      <td>0.096957</td>\n",
       "      <td>0.151515</td>\n",
       "      <td>0.057973</td>\n",
       "    </tr>\n",
       "    <tr>\n",
       "      <th>min</th>\n",
       "      <td>-0.197034</td>\n",
       "      <td>-0.302599</td>\n",
       "      <td>-0.061559</td>\n",
       "      <td>-0.376489</td>\n",
       "    </tr>\n",
       "    <tr>\n",
       "      <th>25%</th>\n",
       "      <td>0.031608</td>\n",
       "      <td>-0.077261</td>\n",
       "      <td>-0.015332</td>\n",
       "      <td>-0.022522</td>\n",
       "    </tr>\n",
       "    <tr>\n",
       "      <th>50%</th>\n",
       "      <td>0.127174</td>\n",
       "      <td>0.005096</td>\n",
       "      <td>0.099123</td>\n",
       "      <td>0.011724</td>\n",
       "    </tr>\n",
       "    <tr>\n",
       "      <th>75%</th>\n",
       "      <td>0.185965</td>\n",
       "      <td>0.052129</td>\n",
       "      <td>0.269003</td>\n",
       "      <td>0.040685</td>\n",
       "    </tr>\n",
       "    <tr>\n",
       "      <th>max</th>\n",
       "      <td>0.406503</td>\n",
       "      <td>0.277510</td>\n",
       "      <td>0.490552</td>\n",
       "      <td>0.240728</td>\n",
       "    </tr>\n",
       "  </tbody>\n",
       "</table>\n",
       "</div>"
      ],
      "text/plain": [
       "       Return_with_Dividends  Return_without_Dividends  \\\n",
       "count            6256.000000               6256.000000   \n",
       "mean                0.109455                 -0.012911   \n",
       "std                 0.108956                  0.096957   \n",
       "min                -0.197034                 -0.302599   \n",
       "25%                 0.031608                 -0.077261   \n",
       "50%                 0.127174                  0.005096   \n",
       "75%                 0.185965                  0.052129   \n",
       "max                 0.406503                  0.277510   \n",
       "\n",
       "       RiskFree_Rate_1Month_Forward  Return_1Month_Forward  \n",
       "count                   6256.000000            6256.000000  \n",
       "mean                       0.130775               0.006074  \n",
       "std                        0.151515               0.057973  \n",
       "min                       -0.061559              -0.376489  \n",
       "25%                       -0.015332              -0.022522  \n",
       "50%                        0.099123               0.011724  \n",
       "75%                        0.269003               0.040685  \n",
       "max                        0.490552               0.240728  "
      ]
     },
     "execution_count": 299,
     "metadata": {},
     "output_type": "execute_result"
    }
   ],
   "source": [
    "#Summary statistics\n",
    "df.describe()"
   ]
  },
  {
   "cell_type": "markdown",
   "id": "18644a6c",
   "metadata": {},
   "source": [
    "Notably, we see that `Return_without_Dividends` has a negative mean, which implies that on average the value from the past year of the equity excluding dividends actually decreases. From this we can deduce that on average dividends plays a more important role in the value of the equity year on year"
   ]
  },
  {
   "cell_type": "markdown",
   "id": "2a112434",
   "metadata": {},
   "source": [
    "## Data Augmentation"
   ]
  },
  {
   "cell_type": "markdown",
   "id": "38abac8a",
   "metadata": {},
   "source": [
    "We now wish to construct the variables $\\Delta d_t$ and $PD_t$. Using the derivations from Question A.1, we have the following:"
   ]
  },
  {
   "cell_type": "markdown",
   "id": "020c484f",
   "metadata": {},
   "source": [
    "$$\n",
    "    PD_t = \\frac{V_t + 1}{H_t - V_t}\n",
    "$$\n",
    "\n",
    "$$\n",
    "  \\Delta d_t = \\log \\left ( (H_t - V_t)(V_{t-1} + 1 ) \\right) - \\log \\left ( H_{t-1} - V_{t-1} \\right)\n",
    "$$"
   ]
  },
  {
   "cell_type": "markdown",
   "id": "dc69e6e3",
   "metadata": {},
   "source": [
    "### Price-to-Dividend Ratio $PD_t$"
   ]
  },
  {
   "cell_type": "markdown",
   "id": "9b2a35f2",
   "metadata": {},
   "source": [
    "In order to calculate the Price-to-Dividend ratio, we can simply augment the dataframe `df` to calculate this value given the formula. "
   ]
  },
  {
   "cell_type": "code",
   "execution_count": 300,
   "id": "6fe1bf49",
   "metadata": {},
   "outputs": [],
   "source": [
    "#Define the H_t and V_t columns\n",
    "H_t = df[\"Return_with_Dividends\"]\n",
    "V_t = df[\"Return_without_Dividends\"]\n",
    "\n",
    "#Augment a column PD_t which applies the relevant function\n",
    "df['PD_t'] = (V_t+1)/(H_t - V_t)"
   ]
  },
  {
   "cell_type": "markdown",
   "id": "fb15f215",
   "metadata": {},
   "source": [
    "### Log dividend growth $\\Delta d_t$"
   ]
  },
  {
   "cell_type": "markdown",
   "id": "903200d7",
   "metadata": {},
   "source": [
    "We can again apply the formula for $\\Delta d_t$ listed above to augment the data."
   ]
  },
  {
   "cell_type": "code",
   "execution_count": 301,
   "id": "1eaba7d1",
   "metadata": {},
   "outputs": [],
   "source": [
    "#Augment a column delta_d which applies the relevant function\n",
    "df[\"delta_d\"] = np.log((H_t.shift() - V_t.shift())*(V_t+1)) - np.log(H_t - V_t)"
   ]
  },
  {
   "cell_type": "markdown",
   "id": "8e95189c",
   "metadata": {},
   "source": [
    "### Augmented data"
   ]
  },
  {
   "cell_type": "markdown",
   "id": "940a1afd",
   "metadata": {},
   "source": [
    "We can now inspect our new, augmented data."
   ]
  },
  {
   "cell_type": "code",
   "execution_count": 302,
   "id": "fbd3fe01",
   "metadata": {
    "scrolled": true
   },
   "outputs": [
    {
     "data": {
      "text/html": [
       "<div>\n",
       "<style scoped>\n",
       "    .dataframe tbody tr th:only-of-type {\n",
       "        vertical-align: middle;\n",
       "    }\n",
       "\n",
       "    .dataframe tbody tr th {\n",
       "        vertical-align: top;\n",
       "    }\n",
       "\n",
       "    .dataframe thead th {\n",
       "        text-align: right;\n",
       "    }\n",
       "</style>\n",
       "<table border=\"1\" class=\"dataframe\">\n",
       "  <thead>\n",
       "    <tr style=\"text-align: right;\">\n",
       "      <th></th>\n",
       "      <th>Return_with_Dividends</th>\n",
       "      <th>Return_without_Dividends</th>\n",
       "      <th>RiskFree_Rate_1Month_Forward</th>\n",
       "      <th>Return_1Month_Forward</th>\n",
       "      <th>PD_t</th>\n",
       "      <th>delta_d</th>\n",
       "    </tr>\n",
       "    <tr>\n",
       "      <th>date</th>\n",
       "      <th></th>\n",
       "      <th></th>\n",
       "      <th></th>\n",
       "      <th></th>\n",
       "      <th></th>\n",
       "      <th></th>\n",
       "    </tr>\n",
       "  </thead>\n",
       "  <tbody>\n",
       "    <tr>\n",
       "      <th>1998-02-07</th>\n",
       "      <td>0.304277</td>\n",
       "      <td>0.143167</td>\n",
       "      <td>0.350638</td>\n",
       "      <td>0.055277</td>\n",
       "      <td>7.095540</td>\n",
       "      <td>NaN</td>\n",
       "    </tr>\n",
       "    <tr>\n",
       "      <th>1998-02-10</th>\n",
       "      <td>0.291903</td>\n",
       "      <td>0.154534</td>\n",
       "      <td>0.363007</td>\n",
       "      <td>0.025068</td>\n",
       "      <td>8.404637</td>\n",
       "      <td>0.303119</td>\n",
       "    </tr>\n",
       "    <tr>\n",
       "      <th>1998-02-11</th>\n",
       "      <td>0.269282</td>\n",
       "      <td>0.179072</td>\n",
       "      <td>0.365795</td>\n",
       "      <td>0.043227</td>\n",
       "      <td>13.070375</td>\n",
       "      <td>0.585262</td>\n",
       "    </tr>\n",
       "    <tr>\n",
       "      <th>1998-02-12</th>\n",
       "      <td>0.290409</td>\n",
       "      <td>0.160366</td>\n",
       "      <td>0.377143</td>\n",
       "      <td>0.056165</td>\n",
       "      <td>8.922924</td>\n",
       "      <td>-0.216997</td>\n",
       "    </tr>\n",
       "    <tr>\n",
       "      <th>1998-02-13</th>\n",
       "      <td>0.268346</td>\n",
       "      <td>0.149079</td>\n",
       "      <td>0.350271</td>\n",
       "      <td>0.074432</td>\n",
       "      <td>9.634514</td>\n",
       "      <td>0.225464</td>\n",
       "    </tr>\n",
       "  </tbody>\n",
       "</table>\n",
       "</div>"
      ],
      "text/plain": [
       "            Return_with_Dividends  Return_without_Dividends  \\\n",
       "date                                                          \n",
       "1998-02-07               0.304277                  0.143167   \n",
       "1998-02-10               0.291903                  0.154534   \n",
       "1998-02-11               0.269282                  0.179072   \n",
       "1998-02-12               0.290409                  0.160366   \n",
       "1998-02-13               0.268346                  0.149079   \n",
       "\n",
       "            RiskFree_Rate_1Month_Forward  Return_1Month_Forward       PD_t  \\\n",
       "date                                                                         \n",
       "1998-02-07                      0.350638               0.055277   7.095540   \n",
       "1998-02-10                      0.363007               0.025068   8.404637   \n",
       "1998-02-11                      0.365795               0.043227  13.070375   \n",
       "1998-02-12                      0.377143               0.056165   8.922924   \n",
       "1998-02-13                      0.350271               0.074432   9.634514   \n",
       "\n",
       "             delta_d  \n",
       "date                  \n",
       "1998-02-07       NaN  \n",
       "1998-02-10  0.303119  \n",
       "1998-02-11  0.585262  \n",
       "1998-02-12 -0.216997  \n",
       "1998-02-13  0.225464  "
      ]
     },
     "execution_count": 302,
     "metadata": {},
     "output_type": "execute_result"
    }
   ],
   "source": [
    "#Print data\n",
    "df.head()"
   ]
  },
  {
   "cell_type": "markdown",
   "id": "eb598826",
   "metadata": {},
   "source": [
    "Since we dont have enough data for the first observation, we will once again impute this value with the time period after it"
   ]
  },
  {
   "cell_type": "code",
   "execution_count": 303,
   "id": "fc4f1acf",
   "metadata": {},
   "outputs": [],
   "source": [
    "df['delta_d'][0] = df['delta_d'][1]"
   ]
  },
  {
   "cell_type": "markdown",
   "id": "689e7923",
   "metadata": {},
   "source": [
    "## Further Exploratory Data Analysis"
   ]
  },
  {
   "cell_type": "markdown",
   "id": "d3028f4d",
   "metadata": {},
   "source": [
    "Before fitting models, we can perform some more exploratory data analysis on our augmented data"
   ]
  },
  {
   "cell_type": "code",
   "execution_count": 304,
   "id": "890891b9",
   "metadata": {},
   "outputs": [
    {
     "data": {
      "text/html": [
       "<div>\n",
       "<style scoped>\n",
       "    .dataframe tbody tr th:only-of-type {\n",
       "        vertical-align: middle;\n",
       "    }\n",
       "\n",
       "    .dataframe tbody tr th {\n",
       "        vertical-align: top;\n",
       "    }\n",
       "\n",
       "    .dataframe thead th {\n",
       "        text-align: right;\n",
       "    }\n",
       "</style>\n",
       "<table border=\"1\" class=\"dataframe\">\n",
       "  <thead>\n",
       "    <tr style=\"text-align: right;\">\n",
       "      <th></th>\n",
       "      <th>Return_with_Dividends</th>\n",
       "      <th>Return_without_Dividends</th>\n",
       "      <th>RiskFree_Rate_1Month_Forward</th>\n",
       "      <th>Return_1Month_Forward</th>\n",
       "      <th>PD_t</th>\n",
       "      <th>delta_d</th>\n",
       "    </tr>\n",
       "  </thead>\n",
       "  <tbody>\n",
       "    <tr>\n",
       "      <th>count</th>\n",
       "      <td>6256.000000</td>\n",
       "      <td>6256.000000</td>\n",
       "      <td>6256.000000</td>\n",
       "      <td>6256.000000</td>\n",
       "      <td>6256.000000</td>\n",
       "      <td>6256.000000</td>\n",
       "    </tr>\n",
       "    <tr>\n",
       "      <th>mean</th>\n",
       "      <td>0.109455</td>\n",
       "      <td>-0.012911</td>\n",
       "      <td>0.130775</td>\n",
       "      <td>0.006074</td>\n",
       "      <td>8.500196</td>\n",
       "      <td>-0.017943</td>\n",
       "    </tr>\n",
       "    <tr>\n",
       "      <th>std</th>\n",
       "      <td>0.108956</td>\n",
       "      <td>0.096957</td>\n",
       "      <td>0.151515</td>\n",
       "      <td>0.057973</td>\n",
       "      <td>2.321165</td>\n",
       "      <td>0.249271</td>\n",
       "    </tr>\n",
       "    <tr>\n",
       "      <th>min</th>\n",
       "      <td>-0.197034</td>\n",
       "      <td>-0.302599</td>\n",
       "      <td>-0.061559</td>\n",
       "      <td>-0.376489</td>\n",
       "      <td>4.326993</td>\n",
       "      <td>-1.404444</td>\n",
       "    </tr>\n",
       "    <tr>\n",
       "      <th>25%</th>\n",
       "      <td>0.031608</td>\n",
       "      <td>-0.077261</td>\n",
       "      <td>-0.015332</td>\n",
       "      <td>-0.022522</td>\n",
       "      <td>7.013399</td>\n",
       "      <td>-0.170649</td>\n",
       "    </tr>\n",
       "    <tr>\n",
       "      <th>50%</th>\n",
       "      <td>0.127174</td>\n",
       "      <td>0.005096</td>\n",
       "      <td>0.099123</td>\n",
       "      <td>0.011724</td>\n",
       "      <td>8.034640</td>\n",
       "      <td>-0.010764</td>\n",
       "    </tr>\n",
       "    <tr>\n",
       "      <th>75%</th>\n",
       "      <td>0.185965</td>\n",
       "      <td>0.052129</td>\n",
       "      <td>0.269003</td>\n",
       "      <td>0.040685</td>\n",
       "      <td>9.388610</td>\n",
       "      <td>0.140727</td>\n",
       "    </tr>\n",
       "    <tr>\n",
       "      <th>max</th>\n",
       "      <td>0.406503</td>\n",
       "      <td>0.277510</td>\n",
       "      <td>0.490552</td>\n",
       "      <td>0.240728</td>\n",
       "      <td>54.194632</td>\n",
       "      <td>1.160398</td>\n",
       "    </tr>\n",
       "  </tbody>\n",
       "</table>\n",
       "</div>"
      ],
      "text/plain": [
       "       Return_with_Dividends  Return_without_Dividends  \\\n",
       "count            6256.000000               6256.000000   \n",
       "mean                0.109455                 -0.012911   \n",
       "std                 0.108956                  0.096957   \n",
       "min                -0.197034                 -0.302599   \n",
       "25%                 0.031608                 -0.077261   \n",
       "50%                 0.127174                  0.005096   \n",
       "75%                 0.185965                  0.052129   \n",
       "max                 0.406503                  0.277510   \n",
       "\n",
       "       RiskFree_Rate_1Month_Forward  Return_1Month_Forward         PD_t  \\\n",
       "count                   6256.000000            6256.000000  6256.000000   \n",
       "mean                       0.130775               0.006074     8.500196   \n",
       "std                        0.151515               0.057973     2.321165   \n",
       "min                       -0.061559              -0.376489     4.326993   \n",
       "25%                       -0.015332              -0.022522     7.013399   \n",
       "50%                        0.099123               0.011724     8.034640   \n",
       "75%                        0.269003               0.040685     9.388610   \n",
       "max                        0.490552               0.240728    54.194632   \n",
       "\n",
       "           delta_d  \n",
       "count  6256.000000  \n",
       "mean     -0.017943  \n",
       "std       0.249271  \n",
       "min      -1.404444  \n",
       "25%      -0.170649  \n",
       "50%      -0.010764  \n",
       "75%       0.140727  \n",
       "max       1.160398  "
      ]
     },
     "execution_count": 304,
     "metadata": {},
     "output_type": "execute_result"
    }
   ],
   "source": [
    "#Summary Statistics\n",
    "df.describe()"
   ]
  },
  {
   "cell_type": "markdown",
   "id": "f88a40fc",
   "metadata": {},
   "source": [
    "Although the Price-to-Dividend ratio has a far larger magnitude than the other predictors, since it is a calculated value from the clean data we will keep it in our models"
   ]
  },
  {
   "cell_type": "markdown",
   "id": "5489010d",
   "metadata": {},
   "source": [
    "As given, our team hypothesises that we can predict returns using $PD_t$ and $\\Delta d_t$. So we now wish to visualise the relationship between these two variables, to inform model selection."
   ]
  },
  {
   "cell_type": "code",
   "execution_count": 305,
   "id": "318b00eb",
   "metadata": {
    "scrolled": false
   },
   "outputs": [
    {
     "data": {
      "image/png": "[encoded data removed]",
      "text/plain": [
       "<Figure size 640x480 with 1 Axes>"
      ]
     },
     "metadata": {},
     "output_type": "display_data"
    }
   ],
   "source": [
    "df.plot(x='PD_t', y='Return_1Month_Forward', style='o')\n",
    "plt.show()"
   ]
  },
  {
   "cell_type": "code",
   "execution_count": 306,
   "id": "19ccdfbc",
   "metadata": {},
   "outputs": [
    {
     "data": {
      "image/png": "[encoded data removed]",
      "text/plain": [
       "<Figure size 640x480 with 1 Axes>"
      ]
     },
     "metadata": {},
     "output_type": "display_data"
    }
   ],
   "source": [
    "df.plot(x='delta_d', y='Return_1Month_Forward', style='o')\n",
    "plt.show()"
   ]
  },
  {
   "cell_type": "markdown",
   "id": "0ff0e43c",
   "metadata": {},
   "source": [
    "We observe that there may be a small non-linear relationship between $PD_t$ and $R_t$, but there appears to be no discernable relationship between $\\Delta d_t$ and $R_t$"
   ]
  },
  {
   "cell_type": "markdown",
   "id": "3ad587f9",
   "metadata": {},
   "source": [
    "We now inspect the considered variable over the time-frame"
   ]
  },
  {
   "cell_type": "code",
   "execution_count": 307,
   "id": "d060eca9",
   "metadata": {},
   "outputs": [],
   "source": [
    "# df.plot(x='date', y='Return_1Month_Forward')\n",
    "# plt.show()"
   ]
  },
  {
   "cell_type": "code",
   "execution_count": 308,
   "id": "e7f28e9e",
   "metadata": {},
   "outputs": [],
   "source": [
    "# df.plot(x='date', y='PD_t')\n",
    "# plt.show()"
   ]
  },
  {
   "cell_type": "code",
   "execution_count": 309,
   "id": "9502ea04",
   "metadata": {},
   "outputs": [],
   "source": [
    "# df.plot(x='date', y='delta_d')\n",
    "# plt.show()"
   ]
  },
  {
   "cell_type": "markdown",
   "id": "82c39152",
   "metadata": {},
   "source": [
    "We can now check autocorrelation plots, "
   ]
  },
  {
   "cell_type": "code",
   "execution_count": 310,
   "id": "5707ca81",
   "metadata": {
    "scrolled": false
   },
   "outputs": [],
   "source": [
    "# df ['date'] = df ['date'].apply(mpl_dates.date2num)\n",
    "# df ['date'] = df ['date'].astype(float)\n",
    "# autocorrelation_plot(df['date'])\n",
    "# plt.show()\n",
    "\n",
    "# fig, axes = plt.subplots(1,2,figsize=(16,3), dpi= 100)\n",
    "# plot_acf(df['Return_1Month_Forward'].tolist(), lags=50, ax=axes[0])\n",
    "# plot_pacf(df['Return_1Month_Forward'].tolist(), lags=50, ax=axes[1], method = 'ywm')"
   ]
  },
  {
   "cell_type": "code",
   "execution_count": 311,
   "id": "4a76d4a1",
   "metadata": {},
   "outputs": [],
   "source": [
    "# fig, axes = plt.subplots(1,2,figsize=(16,3), dpi= 100)\n",
    "# plot_acf(df['Return_1Month_Forward'].tolist(), lags=20, ax=axes[0])\n",
    "# plot_pacf(df['Return_1Month_Forward'].tolist(), lags=20, ax=axes[1], method = 'ywm')"
   ]
  },
  {
   "cell_type": "markdown",
   "id": "f9db77dd",
   "metadata": {},
   "source": [
    "## Fitting Models"
   ]
  },
  {
   "cell_type": "markdown",
   "id": "2aa7897d",
   "metadata": {},
   "source": [
    "In order to account for the time-series aspect of the data, we will fit models that account for this. This section documents the construction, fitting, and tuning of the various models"
   ]
  },
  {
   "cell_type": "markdown",
   "id": "ffbfdb38",
   "metadata": {},
   "source": [
    "### Train and Validation Split"
   ]
  },
  {
   "cell_type": "markdown",
   "id": "d37c548a",
   "metadata": {},
   "source": [
    "First we can isolate the variables of interest, namely $R_t$, $PD_t$ and $\\Delta d_t$"
   ]
  },
  {
   "cell_type": "code",
   "execution_count": 204,
   "id": "43b33f07",
   "metadata": {},
   "outputs": [],
   "source": [
    "df_iso = df.loc[:,['Return_1Month_Forward', 'PD_t', 'delta_d']]"
   ]
  },
  {
   "cell_type": "markdown",
   "id": "7a3554a0",
   "metadata": {},
   "source": [
    "Next we want to split our data into a train and validation set, we use a 0.8/0.2 split."
   ]
  },
  {
   "cell_type": "code",
   "execution_count": 205,
   "id": "f16d7407",
   "metadata": {},
   "outputs": [],
   "source": [
    "train = df_iso[:int(0.8*(len(df)))]\n",
    "valid = df_iso[int(0.8*(len(df))):]"
   ]
  },
  {
   "cell_type": "markdown",
   "id": "3de96874",
   "metadata": {},
   "source": [
    "We will also split this set into X and y sets for model fitting."
   ]
  },
  {
   "cell_type": "code",
   "execution_count": 206,
   "id": "09e236b2",
   "metadata": {},
   "outputs": [],
   "source": [
    "X_train = train.loc[:,['PD_t', 'delta_d']]\n",
    "X_valid = valid.loc[:,['PD_t', 'delta_d']]\n",
    "\n",
    "y_train = train.loc[:,['Return_1Month_Forward']]\n",
    "y_valid = valid.loc[:,['Return_1Month_Forward']]"
   ]
  },
  {
   "cell_type": "markdown",
   "id": "68110d18",
   "metadata": {},
   "source": [
    "### Vector Auto-Regressive Model"
   ]
  },
  {
   "cell_type": "markdown",
   "id": "2d6dca09",
   "metadata": {},
   "source": [
    "Since the data is in a time-series, we want to make use of this as well as the the relevant variables. Due to this, we first fit a Vector Auto-Regressive model."
   ]
  },
  {
   "cell_type": "markdown",
   "id": "ed15c7eb",
   "metadata": {},
   "source": [
    "In order to assess whether this model is appropriate, we need to check the stationarity of our time series data."
   ]
  },
  {
   "cell_type": "code",
   "execution_count": 132,
   "id": "b6da2f2d",
   "metadata": {
    "scrolled": true
   },
   "outputs": [
    {
     "name": "stdout",
     "output_type": "stream",
     "text": [
      "ADF Statistic: -4.149992\n",
      "p-value: 0.000800\n",
      "Critical Values:\n",
      "\t1%: -3.431\n",
      "\t5%: -2.862\n",
      "\t10%: -2.567\n"
     ]
    }
   ],
   "source": [
    "PD_t_adf = adfuller(df_iso[\"PD_t\"])\n",
    "print('ADF Statistic: %f' % PD_t_adf[0])\n",
    "print('p-value: %f' % PD_t_adf[1])\n",
    "print('Critical Values:')\n",
    "for key, value in PD_t_adf[4].items():\n",
    "     print('\\t%s: %.3f' % (key, value))"
   ]
  },
  {
   "cell_type": "code",
   "execution_count": 133,
   "id": "c6a06b08",
   "metadata": {},
   "outputs": [
    {
     "name": "stdout",
     "output_type": "stream",
     "text": [
      "ADF Statistic: -3.217632\n",
      "p-value: 0.018986\n",
      "Critical Values:\n",
      "\t1%: -3.431\n",
      "\t5%: -2.862\n",
      "\t10%: -2.567\n"
     ]
    }
   ],
   "source": [
    "delta_d_adf = adfuller(df_iso[\"delta_d\"])\n",
    "print('ADF Statistic: %f' % delta_d_adf[0])\n",
    "print('p-value: %f' % delta_d_adf[1])\n",
    "print('Critical Values:')\n",
    "for key, value in delta_d_adf[4].items():\n",
    "     print('\\t%s: %.3f' % (key, value))"
   ]
  },
  {
   "cell_type": "code",
   "execution_count": 134,
   "id": "3ef5f3e2",
   "metadata": {
    "scrolled": true
   },
   "outputs": [
    {
     "name": "stdout",
     "output_type": "stream",
     "text": [
      "ADF Statistic: -11.176374\n",
      "p-value: 0.000000\n",
      "Critical Values:\n",
      "\t1%: -3.431\n",
      "\t5%: -2.862\n",
      "\t10%: -2.567\n"
     ]
    }
   ],
   "source": [
    "returns_adf = adfuller(df_iso['Return_1Month_Forward'])\n",
    "print('ADF Statistic: %f' % returns_adf[0])\n",
    "print('p-value: %f' % returns_adf[1])\n",
    "print('Critical Values:')\n",
    "for key, value in returns_adf[4].items():\n",
    "     print('\\t%s: %.3f' % (key, value))"
   ]
  },
  {
   "cell_type": "markdown",
   "id": "fd7ffb83",
   "metadata": {},
   "source": [
    "Our null-hypothesis is that the data is not stationary, and since in each variable he ADF statistic is lower than the 5% significance level, we can reject the null hypothesis in each case. This implies our data is sufficiently stationary"
   ]
  },
  {
   "cell_type": "markdown",
   "id": "4d8478f2",
   "metadata": {},
   "source": [
    "We now fit the model to the training set"
   ]
  },
  {
   "cell_type": "code",
   "execution_count": 135,
   "id": "86a49c3d",
   "metadata": {},
   "outputs": [],
   "source": [
    "var = VAR(endog=train)\n",
    "var_fit = var.fit()"
   ]
  },
  {
   "cell_type": "code",
   "execution_count": 136,
   "id": "070861ec",
   "metadata": {
    "scrolled": false
   },
   "outputs": [
    {
     "data": {
      "text/plain": [
       "  Summary of Regression Results   \n",
       "==================================\n",
       "Model:                         VAR\n",
       "Method:                        OLS\n",
       "Date:           Wed, 14, Jun, 2023\n",
       "Time:                     11:43:29\n",
       "--------------------------------------------------------------------\n",
       "No. of Equations:         3.00000    BIC:                   -10.1757\n",
       "Nobs:                     5003.00    HQIC:                  -10.1859\n",
       "Log likelihood:           4208.83    FPE:                3.74929e-05\n",
       "AIC:                     -10.1914    Det(Omega_mle):     3.74032e-05\n",
       "--------------------------------------------------------------------\n",
       "Results for equation Return_1Month_Forward\n",
       "===========================================================================================\n",
       "                              coefficient       std. error           t-stat            prob\n",
       "-------------------------------------------------------------------------------------------\n",
       "const                           -0.000620         0.001359           -0.456           0.648\n",
       "L1.Return_1Month_Forward         0.918202         0.005598          164.009           0.000\n",
       "L1.PD_t                          0.000127         0.000152            0.834           0.404\n",
       "L1.delta_d                       0.000136         0.001454            0.094           0.925\n",
       "===========================================================================================\n",
       "\n",
       "Results for equation PD_t\n",
       "===========================================================================================\n",
       "                              coefficient       std. error           t-stat            prob\n",
       "-------------------------------------------------------------------------------------------\n",
       "const                            3.431635         0.122185           28.086           0.000\n",
       "L1.Return_1Month_Forward         1.246552         0.503422            2.476           0.013\n",
       "L1.PD_t                          0.594397         0.013667           43.493           0.000\n",
       "L1.delta_d                      -2.223929         0.130755          -17.008           0.000\n",
       "===========================================================================================\n",
       "\n",
       "Results for equation delta_d\n",
       "===========================================================================================\n",
       "                              coefficient       std. error           t-stat            prob\n",
       "-------------------------------------------------------------------------------------------\n",
       "const                            0.317416         0.013762           23.065           0.000\n",
       "L1.Return_1Month_Forward         0.218231         0.056702            3.849           0.000\n",
       "L1.PD_t                         -0.039564         0.001539          -25.702           0.000\n",
       "L1.delta_d                      -0.040988         0.014727           -2.783           0.005\n",
       "===========================================================================================\n",
       "\n",
       "Correlation matrix of residuals\n",
       "                         Return_1Month_Forward      PD_t   delta_d\n",
       "Return_1Month_Forward                 1.000000  0.010685  0.026014\n",
       "PD_t                                  0.010685  1.000000  0.846189\n",
       "delta_d                               0.026014  0.846189  1.000000\n",
       "\n"
      ]
     },
     "execution_count": 136,
     "metadata": {},
     "output_type": "execute_result"
    }
   ],
   "source": [
    "var_fit.summary()"
   ]
  },
  {
   "cell_type": "markdown",
   "id": "1487f7e2",
   "metadata": {},
   "source": [
    "To assess performance, we make predictions on the testing set."
   ]
  },
  {
   "cell_type": "code",
   "execution_count": 137,
   "id": "e1c37916",
   "metadata": {},
   "outputs": [],
   "source": [
    "var_prediction = var_fit.forecast(var_fit.endog, steps=len(valid))"
   ]
  },
  {
   "cell_type": "code",
   "execution_count": 138,
   "id": "185a951a",
   "metadata": {},
   "outputs": [
    {
     "name": "stdout",
     "output_type": "stream",
     "text": [
      "0.05415271212149864\n",
      "0.03440652197095613\n"
     ]
    }
   ],
   "source": [
    "cols = df_iso.columns\n",
    "var_pred = pd.DataFrame(index=range(0,len(var_prediction)),columns=[cols])\n",
    "for j in range(0,3):\n",
    "    for i in range(0, len(var_prediction)):\n",
    "        var_pred.iloc[i][j] = var_prediction[i][j]\n",
    "\n",
    "print(np.sqrt(mean_squared_error(var_pred['Return_1Month_Forward'], valid['Return_1Month_Forward'])))\n",
    "print(mean_absolute_error(var_pred['Return_1Month_Forward'], valid['Return_1Month_Forward']))"
   ]
  },
  {
   "cell_type": "markdown",
   "id": "6ca89f7d",
   "metadata": {},
   "source": [
    "### Gradient Boosting Machine"
   ]
  },
  {
   "cell_type": "markdown",
   "id": "a25b33ad",
   "metadata": {},
   "source": [
    "In order to capture any non-linear relations, and to iteratively improve the fitness of the model."
   ]
  },
  {
   "cell_type": "markdown",
   "id": "7df51e94",
   "metadata": {},
   "source": [
    "We use a grid search cross-validation procedure to tune the model. We define a selection of standard values for the number of trees, the learning rate, the training subsample size for each tree, and the max depth of each tree"
   ]
  },
  {
   "cell_type": "code",
   "execution_count": 70,
   "id": "efa87d1d",
   "metadata": {},
   "outputs": [],
   "source": [
    "grid = dict()\n",
    "grid['n_estimators'] = [10,50, 100]\n",
    "grid['learning_rate'] = [0.1, 0.01, 0.001]\n",
    "grid['subsample'] = [0.5, 0.7, 1.0]\n",
    "grid['max_depth'] = [3,7, 9]"
   ]
  },
  {
   "cell_type": "code",
   "execution_count": 2,
   "id": "0aae6a88",
   "metadata": {},
   "outputs": [
    {
     "ename": "NameError",
     "evalue": "name 'GridSearchCV' is not defined",
     "output_type": "error",
     "traceback": [
      "\u001b[1;31m---------------------------------------------------------------------------\u001b[0m",
      "\u001b[1;31mNameError\u001b[0m                                 Traceback (most recent call last)",
      "Cell \u001b[1;32mIn[2], line 1\u001b[0m\n\u001b[1;32m----> 1\u001b[0m grid_search \u001b[38;5;241m=\u001b[39m \u001b[43mGridSearchCV\u001b[49m(estimator\u001b[38;5;241m=\u001b[39mgbm, param_grid\u001b[38;5;241m=\u001b[39mgrid, n_jobs\u001b[38;5;241m=\u001b[39m\u001b[38;5;241m-\u001b[39m\u001b[38;5;241m1\u001b[39m, cv\u001b[38;5;241m=\u001b[39mcv, scoring\u001b[38;5;241m=\u001b[39m\u001b[38;5;124m'\u001b[39m\u001b[38;5;124mneg_mean_squared_error\u001b[39m\u001b[38;5;124m'\u001b[39m)\n\u001b[0;32m      3\u001b[0m grid_result \u001b[38;5;241m=\u001b[39m grid_search\u001b[38;5;241m.\u001b[39mfit(X_train, y_train\u001b[38;5;241m.\u001b[39mvalues\u001b[38;5;241m.\u001b[39mravel())\n\u001b[0;32m      5\u001b[0m \u001b[38;5;28mprint\u001b[39m(\u001b[38;5;124m\"\u001b[39m\u001b[38;5;124mBest: \u001b[39m\u001b[38;5;132;01m%f\u001b[39;00m\u001b[38;5;124m using \u001b[39m\u001b[38;5;132;01m%s\u001b[39;00m\u001b[38;5;124m\"\u001b[39m, (grid_result\u001b[38;5;241m.\u001b[39mbest_score_, grid_result\u001b[38;5;241m.\u001b[39mbest_params_))\n",
      "\u001b[1;31mNameError\u001b[0m: name 'GridSearchCV' is not defined"
     ]
    }
   ],
   "source": [
    "grid_search = GridSearchCV(estimator=gbm, param_grid=grid, n_jobs=-1, cv=cv, scoring='neg_mean_squared_error')\n",
    "\n",
    "grid_result = grid_search.fit(X_train, y_train.values.ravel())\n",
    "\n",
    "print(\"Best: %f using %s\", (grid_result.best_score_, grid_result.best_params_))"
   ]
  },
  {
   "cell_type": "markdown",
   "id": "44baca9b",
   "metadata": {},
   "source": [
    "We see from the output the optimal hyperparameters, and as such we fit a model according to these specifications"
   ]
  },
  {
   "cell_type": "code",
   "execution_count": 142,
   "id": "1b7ebb2e",
   "metadata": {},
   "outputs": [],
   "source": [
    "gbm = GradientBoostingRegressor(learning_rate = 0.01, n_estimators = 100, subsample = 0.5, max_depth = 3)\n",
    "gbm_fit = gbm.fit(X_train, y_train.values.ravel())"
   ]
  },
  {
   "cell_type": "code",
   "execution_count": 143,
   "id": "76c99a34",
   "metadata": {
    "scrolled": false
   },
   "outputs": [
    {
     "name": "stdout",
     "output_type": "stream",
     "text": [
      "0.054364023958335055\n",
      "0.034744579033239846\n"
     ]
    }
   ],
   "source": [
    "gbm_predict = gbm.predict(X_valid)\n",
    "print(np.sqrt(mean_squared_error(gbm_predict, y_valid)))\n",
    "print(mean_absolute_error(gbm_predict, y_valid))"
   ]
  },
  {
   "cell_type": "markdown",
   "id": "27c0fec4",
   "metadata": {},
   "source": [
    "### LSTM Model"
   ]
  },
  {
   "cell_type": "markdown",
   "id": "1a18df8b",
   "metadata": {},
   "source": [
    "Lastly, we implement a LSTM Neural Network that will again aim to extract the time-series data. We first scale our data"
   ]
  },
  {
   "cell_type": "code",
   "execution_count": 208,
   "id": "2b7b58d0",
   "metadata": {
    "scrolled": true
   },
   "outputs": [
    {
     "name": "stdout",
     "output_type": "stream",
     "text": [
      "(5004, 3)\n",
      "(5004, 1)\n"
     ]
    }
   ],
   "source": [
    "sc_lstm_in = StandardScaler()\n",
    "train_lstm_in = sc_lstm_in.fit_transform(train)\n",
    "print(train_lstm_in.shape)\n",
    "\n",
    "sc_lstm_out = StandardScaler()\n",
    "train_lstm_out = sc_lstm_out.fit_transform(train[[\"Return_1Month_Forward\"]])\n",
    "print(train_lstm_out.shape)"
   ]
  },
  {
   "cell_type": "code",
   "execution_count": 209,
   "id": "a290b0e9",
   "metadata": {},
   "outputs": [],
   "source": [
    "history_point = 2\n",
    "\n",
    "X_train_lstm = []\n",
    "y_train_lstm = []\n",
    "\n",
    "for i in range(history_point, len(train)):\n",
    "    X_train_lstm.append(train_lstm_in[i-history_point:i])\n",
    "    y_train_lstm.append(train_lstm_out[i][0])\n",
    "    \n",
    "X_train_lstm, y_train_lstm = np.array(X_train_lstm), np.array(y_train_lstm)"
   ]
  },
  {
   "cell_type": "code",
   "execution_count": 210,
   "id": "64ce3e00",
   "metadata": {},
   "outputs": [
    {
     "name": "stdout",
     "output_type": "stream",
     "text": [
      "(5002, 2, 3)\n",
      "(5002,)\n"
     ]
    }
   ],
   "source": [
    "print(X_train_lstm.shape)\n",
    "print(y_train_lstm.shape)"
   ]
  },
  {
   "cell_type": "code",
   "execution_count": 211,
   "id": "72959fcd",
   "metadata": {},
   "outputs": [
    {
     "data": {
      "text/plain": [
       "(5002, 2, 3)"
      ]
     },
     "execution_count": 211,
     "metadata": {},
     "output_type": "execute_result"
    }
   ],
   "source": [
    "X_train_shape_lstm = np.reshape(X_train_lstm, (X_train_lstm.shape[0], X_train_lstm.shape[1], X_train_lstm.shape[2]))\n",
    "X_train_shape_lstm.shape"
   ]
  },
  {
   "cell_type": "code",
   "execution_count": 212,
   "id": "c3d003f0",
   "metadata": {},
   "outputs": [],
   "source": [
    "lstm = Sequential()\n",
    "lstm.add(LSTM(units = 64, return_sequences = True, input_shape = (history_point,3)))\n",
    "lstm.add(LSTM(units = 64))\n",
    "lstm.add(Dense(1))\n",
    "lstm.compile(optimizer = 'adam', loss='mean_squared_error')"
   ]
  },
  {
   "cell_type": "code",
   "execution_count": 213,
   "id": "df0d7a14",
   "metadata": {
    "scrolled": false
   },
   "outputs": [
    {
     "name": "stdout",
     "output_type": "stream",
     "text": [
      "Epoch 1/30\n",
      "334/334 [==============================] - 6s 5ms/step - loss: 0.2712\n",
      "Epoch 2/30\n",
      "334/334 [==============================] - 2s 5ms/step - loss: 0.1687\n",
      "Epoch 3/30\n",
      "334/334 [==============================] - 2s 5ms/step - loss: 0.1608\n",
      "Epoch 4/30\n",
      "334/334 [==============================] - 2s 6ms/step - loss: 0.1576\n",
      "Epoch 5/30\n",
      "334/334 [==============================] - 2s 6ms/step - loss: 0.1579\n",
      "Epoch 6/30\n",
      "334/334 [==============================] - 2s 6ms/step - loss: 0.1574\n",
      "Epoch 7/30\n",
      "334/334 [==============================] - 2s 5ms/step - loss: 0.1579\n",
      "Epoch 8/30\n",
      "334/334 [==============================] - 2s 5ms/step - loss: 0.1575\n",
      "Epoch 9/30\n",
      "334/334 [==============================] - 2s 5ms/step - loss: 0.1569\n",
      "Epoch 10/30\n",
      "334/334 [==============================] - 2s 5ms/step - loss: 0.1580\n",
      "Epoch 11/30\n",
      "334/334 [==============================] - 2s 5ms/step - loss: 0.1567\n",
      "Epoch 12/30\n",
      "334/334 [==============================] - 2s 5ms/step - loss: 0.1559\n",
      "Epoch 13/30\n",
      "334/334 [==============================] - 2s 5ms/step - loss: 0.1558\n",
      "Epoch 14/30\n",
      "334/334 [==============================] - 2s 5ms/step - loss: 0.1558\n",
      "Epoch 15/30\n",
      "334/334 [==============================] - 2s 5ms/step - loss: 0.1562\n",
      "Epoch 16/30\n",
      "334/334 [==============================] - 2s 5ms/step - loss: 0.1564\n",
      "Epoch 17/30\n",
      "334/334 [==============================] - 2s 5ms/step - loss: 0.1558\n",
      "Epoch 18/30\n",
      "334/334 [==============================] - 2s 5ms/step - loss: 0.1569\n",
      "Epoch 19/30\n",
      "334/334 [==============================] - 2s 5ms/step - loss: 0.1558\n",
      "Epoch 20/30\n",
      "334/334 [==============================] - 2s 5ms/step - loss: 0.1555\n",
      "Epoch 21/30\n",
      "334/334 [==============================] - 2s 5ms/step - loss: 0.1549\n",
      "Epoch 22/30\n",
      "334/334 [==============================] - 2s 5ms/step - loss: 0.1556\n",
      "Epoch 23/30\n",
      "334/334 [==============================] - 2s 5ms/step - loss: 0.1555\n",
      "Epoch 24/30\n",
      "334/334 [==============================] - 2s 5ms/step - loss: 0.1554\n",
      "Epoch 25/30\n",
      "334/334 [==============================] - 2s 5ms/step - loss: 0.1553\n",
      "Epoch 26/30\n",
      "334/334 [==============================] - 2s 5ms/step - loss: 0.1555\n",
      "Epoch 27/30\n",
      "334/334 [==============================] - 2s 6ms/step - loss: 0.1570\n",
      "Epoch 28/30\n",
      "334/334 [==============================] - 2s 6ms/step - loss: 0.1546\n",
      "Epoch 29/30\n",
      "334/334 [==============================] - 2s 6ms/step - loss: 0.1547\n",
      "Epoch 30/30\n",
      "334/334 [==============================] - 2s 6ms/step - loss: 0.1561\n"
     ]
    },
    {
     "data": {
      "text/plain": [
       "<keras.callbacks.History at 0x213d9293a90>"
      ]
     },
     "execution_count": 213,
     "metadata": {},
     "output_type": "execute_result"
    }
   ],
   "source": [
    "lstm.fit(X_train_shape_lstm, y_train_lstm, epochs = 30, batch_size = 15)"
   ]
  },
  {
   "cell_type": "code",
   "execution_count": 214,
   "id": "aaac3572",
   "metadata": {},
   "outputs": [],
   "source": [
    "last_x_of_train = train.iloc[-history_point:]\n",
    "valid_plus_x = pd.concat((last_x_of_train, valid), axis = 0)"
   ]
  },
  {
   "cell_type": "code",
   "execution_count": 215,
   "id": "b2775a2c",
   "metadata": {},
   "outputs": [
    {
     "data": {
      "text/plain": [
       "(1254, 3)"
      ]
     },
     "execution_count": 215,
     "metadata": {},
     "output_type": "execute_result"
    }
   ],
   "source": [
    "valid_lstm_in = sc_lstm_in.transform(valid_plus_x)\n",
    "valid_lstm_in.shape"
   ]
  },
  {
   "cell_type": "code",
   "execution_count": 216,
   "id": "39607bda",
   "metadata": {},
   "outputs": [
    {
     "name": "stdout",
     "output_type": "stream",
     "text": [
      "(1252, 2, 3)\n"
     ]
    }
   ],
   "source": [
    "X_valid_lstm = []\n",
    "\n",
    "for i in range(history_point, len(valid_plus_x)):\n",
    "    X_valid_lstm.append(valid_lstm_in[i-history_point:i])\n",
    "\n",
    "X_valid_lstm = np.array(X_valid_lstm)\n",
    "print(X_valid_lstm.shape)"
   ]
  },
  {
   "cell_type": "code",
   "execution_count": 217,
   "id": "d86c2687",
   "metadata": {
    "scrolled": true
   },
   "outputs": [
    {
     "name": "stdout",
     "output_type": "stream",
     "text": [
      "40/40 [==============================] - 1s 2ms/step\n"
     ]
    }
   ],
   "source": [
    "y_valid_lstm = lstm.predict(X_valid_lstm)"
   ]
  },
  {
   "cell_type": "code",
   "execution_count": 218,
   "id": "3c45c3af",
   "metadata": {},
   "outputs": [
    {
     "data": {
      "text/plain": [
       "(1252, 1)"
      ]
     },
     "execution_count": 218,
     "metadata": {},
     "output_type": "execute_result"
    }
   ],
   "source": [
    "y_valid_lstm.shape"
   ]
  },
  {
   "cell_type": "code",
   "execution_count": 219,
   "id": "016fa2cc",
   "metadata": {},
   "outputs": [],
   "source": [
    "y_pred_lstm = sc_lstm_out.inverse_transform(y_valid_lstm)"
   ]
  },
  {
   "cell_type": "code",
   "execution_count": 220,
   "id": "f4af21cc",
   "metadata": {},
   "outputs": [
    {
     "name": "stdout",
     "output_type": "stream",
     "text": [
      "0.020349409134799115\n",
      "0.014940175441537588\n"
     ]
    }
   ],
   "source": [
    "print(np.sqrt(mean_squared_error(y_valid, y_pred_lstm)))\n",
    "print(mean_absolute_error(y_valid, y_pred_lstm))"
   ]
  },
  {
   "cell_type": "markdown",
   "id": "7cb099eb",
   "metadata": {},
   "source": [
    "### Results"
   ]
  },
  {
   "cell_type": "markdown",
   "id": "b610148f",
   "metadata": {},
   "source": [
    "From this analysis, we see that the LSTM model produces the best predictive power, and as such we will now predict stock returns across the whole data-frame, and save this for the next part."
   ]
  },
  {
   "cell_type": "code",
   "execution_count": 221,
   "id": "20c46bef",
   "metadata": {},
   "outputs": [
    {
     "name": "stdout",
     "output_type": "stream",
     "text": [
      "(6256, 3)\n",
      "(6256, 1)\n"
     ]
    }
   ],
   "source": [
    "sc_lstm_in_final = StandardScaler()\n",
    "train_lstm_in_final = sc_lstm_in_final.fit_transform(df_iso)\n",
    "print(train_lstm_in_final.shape)\n",
    "\n",
    "sc_lstm_out_final = StandardScaler()\n",
    "train_lstm_out_final = sc_lstm_out_final.fit_transform(df_iso[[\"Return_1Month_Forward\"]])\n",
    "print(train_lstm_out_final.shape)"
   ]
  },
  {
   "cell_type": "code",
   "execution_count": 222,
   "id": "8a626d2c",
   "metadata": {},
   "outputs": [],
   "source": [
    "history_point = 2\n",
    "\n",
    "X_train_lstm_final = []\n",
    "y_train_lstm_final = []\n",
    "\n",
    "for i in range(history_point, len(df_iso)):\n",
    "    X_train_lstm_final.append(train_lstm_in_final[i-history_point:i])\n",
    "    y_train_lstm_final.append(train_lstm_out_final[i][0])\n",
    "    \n",
    "X_train_lstm_final, y_train_lstm_final = np.array(X_train_lstm_final), np.array(y_train_lstm_final)"
   ]
  },
  {
   "cell_type": "code",
   "execution_count": 223,
   "id": "50d20381",
   "metadata": {},
   "outputs": [
    {
     "name": "stdout",
     "output_type": "stream",
     "text": [
      "(6254, 2, 3)\n",
      "(6254,)\n"
     ]
    }
   ],
   "source": [
    "print(X_train_lstm_final.shape)\n",
    "print(y_train_lstm_final.shape)"
   ]
  },
  {
   "cell_type": "code",
   "execution_count": 224,
   "id": "52a1fea5",
   "metadata": {},
   "outputs": [
    {
     "name": "stdout",
     "output_type": "stream",
     "text": [
      "Epoch 1/30\n",
      "417/417 [==============================] - 2s 6ms/step - loss: 0.1543\n",
      "Epoch 2/30\n",
      "417/417 [==============================] - 2s 6ms/step - loss: 0.1536\n",
      "Epoch 3/30\n",
      "417/417 [==============================] - 2s 5ms/step - loss: 0.1531\n",
      "Epoch 4/30\n",
      "417/417 [==============================] - 2s 5ms/step - loss: 0.1516\n",
      "Epoch 5/30\n",
      "417/417 [==============================] - 2s 5ms/step - loss: 0.1523\n",
      "Epoch 6/30\n",
      "417/417 [==============================] - 2s 5ms/step - loss: 0.1529\n",
      "Epoch 7/30\n",
      "417/417 [==============================] - 2s 5ms/step - loss: 0.1522\n",
      "Epoch 8/30\n",
      "417/417 [==============================] - 2s 6ms/step - loss: 0.1521\n",
      "Epoch 9/30\n",
      "417/417 [==============================] - 2s 5ms/step - loss: 0.1525\n",
      "Epoch 10/30\n",
      "417/417 [==============================] - 2s 5ms/step - loss: 0.1522\n",
      "Epoch 11/30\n",
      "417/417 [==============================] - 2s 5ms/step - loss: 0.1520\n",
      "Epoch 12/30\n",
      "417/417 [==============================] - 2s 5ms/step - loss: 0.1526\n",
      "Epoch 13/30\n",
      "417/417 [==============================] - 2s 5ms/step - loss: 0.1516\n",
      "Epoch 14/30\n",
      "417/417 [==============================] - 2s 5ms/step - loss: 0.1516\n",
      "Epoch 15/30\n",
      "417/417 [==============================] - 2s 5ms/step - loss: 0.1525\n",
      "Epoch 16/30\n",
      "417/417 [==============================] - 2s 5ms/step - loss: 0.1522\n",
      "Epoch 17/30\n",
      "417/417 [==============================] - 2s 5ms/step - loss: 0.1515\n",
      "Epoch 18/30\n",
      "417/417 [==============================] - 2s 5ms/step - loss: 0.1514\n",
      "Epoch 19/30\n",
      "417/417 [==============================] - 2s 5ms/step - loss: 0.1509\n",
      "Epoch 20/30\n",
      "417/417 [==============================] - 2s 5ms/step - loss: 0.1513\n",
      "Epoch 21/30\n",
      "417/417 [==============================] - 2s 5ms/step - loss: 0.1513\n",
      "Epoch 22/30\n",
      "417/417 [==============================] - 2s 6ms/step - loss: 0.1509\n",
      "Epoch 23/30\n",
      "417/417 [==============================] - 2s 6ms/step - loss: 0.1507\n",
      "Epoch 24/30\n",
      "417/417 [==============================] - 2s 6ms/step - loss: 0.1503\n",
      "Epoch 25/30\n",
      "417/417 [==============================] - 2s 6ms/step - loss: 0.1506\n",
      "Epoch 26/30\n",
      "417/417 [==============================] - 2s 6ms/step - loss: 0.1504\n",
      "Epoch 27/30\n",
      "417/417 [==============================] - 2s 6ms/step - loss: 0.1500\n",
      "Epoch 28/30\n",
      "417/417 [==============================] - 2s 6ms/step - loss: 0.1507\n",
      "Epoch 29/30\n",
      "417/417 [==============================] - 2s 6ms/step - loss: 0.1503\n",
      "Epoch 30/30\n",
      "417/417 [==============================] - 2s 6ms/step - loss: 0.1504\n"
     ]
    },
    {
     "data": {
      "text/plain": [
       "<keras.callbacks.History at 0x213dea7edd0>"
      ]
     },
     "execution_count": 224,
     "metadata": {},
     "output_type": "execute_result"
    }
   ],
   "source": [
    "lstm.fit(X_train_lstm_final, y_train_lstm_final, epochs = 30, batch_size = 15)"
   ]
  },
  {
   "cell_type": "code",
   "execution_count": 225,
   "id": "a4c59951",
   "metadata": {},
   "outputs": [
    {
     "data": {
      "text/plain": [
       "(6256, 3)"
      ]
     },
     "execution_count": 225,
     "metadata": {},
     "output_type": "execute_result"
    }
   ],
   "source": [
    "np.array(df_iso).shape"
   ]
  },
  {
   "cell_type": "code",
   "execution_count": 226,
   "id": "eaafc01a",
   "metadata": {},
   "outputs": [
    {
     "name": "stdout",
     "output_type": "stream",
     "text": [
      "196/196 [==============================] - 1s 2ms/step\n"
     ]
    }
   ],
   "source": [
    "y_pred_scaled_final = lstm.predict(X_train_lstm_final)"
   ]
  },
  {
   "cell_type": "code",
   "execution_count": 227,
   "id": "2d37978b",
   "metadata": {},
   "outputs": [],
   "source": [
    "y_pred_final = sc_lstm_out_final.inverse_transform(y_pred_scaled_final)"
   ]
  },
  {
   "cell_type": "code",
   "execution_count": 228,
   "id": "ca88ed01",
   "metadata": {
    "scrolled": true
   },
   "outputs": [
    {
     "data": {
      "text/plain": [
       "array([[ 0.03024899],\n",
       "       [ 0.03626822],\n",
       "       [ 0.047318  ],\n",
       "       ...,\n",
       "       [-0.03650796],\n",
       "       [-0.04401224],\n",
       "       [-0.06814599]], dtype=float32)"
      ]
     },
     "execution_count": 228,
     "metadata": {},
     "output_type": "execute_result"
    }
   ],
   "source": [
    "y_pred_final"
   ]
  },
  {
   "cell_type": "code",
   "execution_count": 229,
   "id": "728434fe",
   "metadata": {},
   "outputs": [
    {
     "data": {
      "text/plain": [
       "array([ 0.03024899,  0.03626822,  0.047318  , ..., -0.03650796,\n",
       "       -0.04401224, -0.06814599], dtype=float32)"
      ]
     },
     "execution_count": 229,
     "metadata": {},
     "output_type": "execute_result"
    }
   ],
   "source": [
    "np.squeeze(y_pred_final)"
   ]
  },
  {
   "cell_type": "code",
   "execution_count": 312,
   "id": "61fa508d",
   "metadata": {},
   "outputs": [],
   "source": [
    "df_final = pd.concat([df.reset_index(), pd.DataFrame(np.squeeze(y_pred_final)).reset_index()], axis = 1)"
   ]
  },
  {
   "cell_type": "code",
   "execution_count": 313,
   "id": "406f63e0",
   "metadata": {},
   "outputs": [],
   "source": [
    "df_final[0] = df_final[0].shift(2)"
   ]
  },
  {
   "cell_type": "code",
   "execution_count": 314,
   "id": "c8fa1b1b",
   "metadata": {},
   "outputs": [
    {
     "data": {
      "text/html": [
       "<div>\n",
       "<style scoped>\n",
       "    .dataframe tbody tr th:only-of-type {\n",
       "        vertical-align: middle;\n",
       "    }\n",
       "\n",
       "    .dataframe tbody tr th {\n",
       "        vertical-align: top;\n",
       "    }\n",
       "\n",
       "    .dataframe thead th {\n",
       "        text-align: right;\n",
       "    }\n",
       "</style>\n",
       "<table border=\"1\" class=\"dataframe\">\n",
       "  <thead>\n",
       "    <tr style=\"text-align: right;\">\n",
       "      <th></th>\n",
       "      <th>date</th>\n",
       "      <th>Return_with_Dividends</th>\n",
       "      <th>Return_without_Dividends</th>\n",
       "      <th>RiskFree_Rate_1Month_Forward</th>\n",
       "      <th>Return_1Month_Forward</th>\n",
       "      <th>PD_t</th>\n",
       "      <th>delta_d</th>\n",
       "      <th>index</th>\n",
       "      <th>0</th>\n",
       "    </tr>\n",
       "  </thead>\n",
       "  <tbody>\n",
       "    <tr>\n",
       "      <th>0</th>\n",
       "      <td>1998-02-07</td>\n",
       "      <td>0.304277</td>\n",
       "      <td>0.143167</td>\n",
       "      <td>0.350638</td>\n",
       "      <td>0.055277</td>\n",
       "      <td>7.095540</td>\n",
       "      <td>0.303119</td>\n",
       "      <td>0.0</td>\n",
       "      <td>NaN</td>\n",
       "    </tr>\n",
       "    <tr>\n",
       "      <th>1</th>\n",
       "      <td>1998-02-10</td>\n",
       "      <td>0.291903</td>\n",
       "      <td>0.154534</td>\n",
       "      <td>0.363007</td>\n",
       "      <td>0.025068</td>\n",
       "      <td>8.404637</td>\n",
       "      <td>0.303119</td>\n",
       "      <td>1.0</td>\n",
       "      <td>NaN</td>\n",
       "    </tr>\n",
       "    <tr>\n",
       "      <th>2</th>\n",
       "      <td>1998-02-11</td>\n",
       "      <td>0.269282</td>\n",
       "      <td>0.179072</td>\n",
       "      <td>0.365795</td>\n",
       "      <td>0.043227</td>\n",
       "      <td>13.070375</td>\n",
       "      <td>0.585262</td>\n",
       "      <td>2.0</td>\n",
       "      <td>0.030249</td>\n",
       "    </tr>\n",
       "    <tr>\n",
       "      <th>3</th>\n",
       "      <td>1998-02-12</td>\n",
       "      <td>0.290409</td>\n",
       "      <td>0.160366</td>\n",
       "      <td>0.377143</td>\n",
       "      <td>0.056165</td>\n",
       "      <td>8.922924</td>\n",
       "      <td>-0.216997</td>\n",
       "      <td>3.0</td>\n",
       "      <td>0.036268</td>\n",
       "    </tr>\n",
       "    <tr>\n",
       "      <th>4</th>\n",
       "      <td>1998-02-13</td>\n",
       "      <td>0.268346</td>\n",
       "      <td>0.149079</td>\n",
       "      <td>0.350271</td>\n",
       "      <td>0.074432</td>\n",
       "      <td>9.634514</td>\n",
       "      <td>0.225464</td>\n",
       "      <td>4.0</td>\n",
       "      <td>0.047318</td>\n",
       "    </tr>\n",
       "    <tr>\n",
       "      <th>...</th>\n",
       "      <td>...</td>\n",
       "      <td>...</td>\n",
       "      <td>...</td>\n",
       "      <td>...</td>\n",
       "      <td>...</td>\n",
       "      <td>...</td>\n",
       "      <td>...</td>\n",
       "      <td>...</td>\n",
       "      <td>...</td>\n",
       "    </tr>\n",
       "    <tr>\n",
       "      <th>6251</th>\n",
       "      <td>2022-02-01</td>\n",
       "      <td>0.178304</td>\n",
       "      <td>0.067787</td>\n",
       "      <td>-0.005573</td>\n",
       "      <td>-0.042527</td>\n",
       "      <td>9.661689</td>\n",
       "      <td>0.160817</td>\n",
       "      <td>6251.0</td>\n",
       "      <td>-0.006517</td>\n",
       "    </tr>\n",
       "    <tr>\n",
       "      <th>6252</th>\n",
       "      <td>2022-02-02</td>\n",
       "      <td>0.194420</td>\n",
       "      <td>0.077617</td>\n",
       "      <td>0.003521</td>\n",
       "      <td>-0.039765</td>\n",
       "      <td>9.225908</td>\n",
       "      <td>0.019435</td>\n",
       "      <td>6252.0</td>\n",
       "      <td>-0.034442</td>\n",
       "    </tr>\n",
       "    <tr>\n",
       "      <th>6253</th>\n",
       "      <td>2022-02-03</td>\n",
       "      <td>0.178116</td>\n",
       "      <td>0.069139</td>\n",
       "      <td>0.000203</td>\n",
       "      <td>-0.047804</td>\n",
       "      <td>9.810701</td>\n",
       "      <td>0.136210</td>\n",
       "      <td>6253.0</td>\n",
       "      <td>-0.036508</td>\n",
       "    </tr>\n",
       "    <tr>\n",
       "      <th>6254</th>\n",
       "      <td>2022-02-04</td>\n",
       "      <td>0.172267</td>\n",
       "      <td>0.064309</td>\n",
       "      <td>0.002355</td>\n",
       "      <td>-0.075907</td>\n",
       "      <td>9.858588</td>\n",
       "      <td>0.071723</td>\n",
       "      <td>NaN</td>\n",
       "      <td>-0.044012</td>\n",
       "    </tr>\n",
       "    <tr>\n",
       "      <th>6255</th>\n",
       "      <td>2022-02-05</td>\n",
       "      <td>0.186062</td>\n",
       "      <td>0.071981</td>\n",
       "      <td>-0.003421</td>\n",
       "      <td>-0.039052</td>\n",
       "      <td>9.396659</td>\n",
       "      <td>0.014337</td>\n",
       "      <td>NaN</td>\n",
       "      <td>-0.068146</td>\n",
       "    </tr>\n",
       "  </tbody>\n",
       "</table>\n",
       "<p>6256 rows × 9 columns</p>\n",
       "</div>"
      ],
      "text/plain": [
       "            date  Return_with_Dividends  Return_without_Dividends  \\\n",
       "0     1998-02-07               0.304277                  0.143167   \n",
       "1     1998-02-10               0.291903                  0.154534   \n",
       "2     1998-02-11               0.269282                  0.179072   \n",
       "3     1998-02-12               0.290409                  0.160366   \n",
       "4     1998-02-13               0.268346                  0.149079   \n",
       "...          ...                    ...                       ...   \n",
       "6251  2022-02-01               0.178304                  0.067787   \n",
       "6252  2022-02-02               0.194420                  0.077617   \n",
       "6253  2022-02-03               0.178116                  0.069139   \n",
       "6254  2022-02-04               0.172267                  0.064309   \n",
       "6255  2022-02-05               0.186062                  0.071981   \n",
       "\n",
       "      RiskFree_Rate_1Month_Forward  Return_1Month_Forward       PD_t  \\\n",
       "0                         0.350638               0.055277   7.095540   \n",
       "1                         0.363007               0.025068   8.404637   \n",
       "2                         0.365795               0.043227  13.070375   \n",
       "3                         0.377143               0.056165   8.922924   \n",
       "4                         0.350271               0.074432   9.634514   \n",
       "...                            ...                    ...        ...   \n",
       "6251                     -0.005573              -0.042527   9.661689   \n",
       "6252                      0.003521              -0.039765   9.225908   \n",
       "6253                      0.000203              -0.047804   9.810701   \n",
       "6254                      0.002355              -0.075907   9.858588   \n",
       "6255                     -0.003421              -0.039052   9.396659   \n",
       "\n",
       "       delta_d   index         0  \n",
       "0     0.303119     0.0       NaN  \n",
       "1     0.303119     1.0       NaN  \n",
       "2     0.585262     2.0  0.030249  \n",
       "3    -0.216997     3.0  0.036268  \n",
       "4     0.225464     4.0  0.047318  \n",
       "...        ...     ...       ...  \n",
       "6251  0.160817  6251.0 -0.006517  \n",
       "6252  0.019435  6252.0 -0.034442  \n",
       "6253  0.136210  6253.0 -0.036508  \n",
       "6254  0.071723     NaN -0.044012  \n",
       "6255  0.014337     NaN -0.068146  \n",
       "\n",
       "[6256 rows x 9 columns]"
      ]
     },
     "execution_count": 314,
     "metadata": {},
     "output_type": "execute_result"
    }
   ],
   "source": [
    "df_final"
   ]
  },
  {
   "cell_type": "code",
   "execution_count": 315,
   "id": "0b5eb64d",
   "metadata": {},
   "outputs": [],
   "source": [
    "df_final.drop([\"index\"], axis = 1, inplace = True)"
   ]
  },
  {
   "cell_type": "code",
   "execution_count": 316,
   "id": "785e2882",
   "metadata": {},
   "outputs": [],
   "source": [
    "df_final.rename(columns={0: \"Predicted R_t\"}, inplace = True)"
   ]
  },
  {
   "cell_type": "code",
   "execution_count": 317,
   "id": "8ceab0e2",
   "metadata": {},
   "outputs": [],
   "source": [
    "df_final.loc[df_final.index[0], 'Predicted R_t'] = df_final['Predicted R_t'][2]\n",
    "df_final.loc[df_final.index[1], 'Predicted R_t'] = df_final['Predicted R_t'][2]"
   ]
  },
  {
   "cell_type": "code",
   "execution_count": 318,
   "id": "38f4f8de",
   "metadata": {},
   "outputs": [
    {
     "data": {
      "text/html": [
       "<div>\n",
       "<style scoped>\n",
       "    .dataframe tbody tr th:only-of-type {\n",
       "        vertical-align: middle;\n",
       "    }\n",
       "\n",
       "    .dataframe tbody tr th {\n",
       "        vertical-align: top;\n",
       "    }\n",
       "\n",
       "    .dataframe thead th {\n",
       "        text-align: right;\n",
       "    }\n",
       "</style>\n",
       "<table border=\"1\" class=\"dataframe\">\n",
       "  <thead>\n",
       "    <tr style=\"text-align: right;\">\n",
       "      <th></th>\n",
       "      <th>date</th>\n",
       "      <th>Return_with_Dividends</th>\n",
       "      <th>Return_without_Dividends</th>\n",
       "      <th>RiskFree_Rate_1Month_Forward</th>\n",
       "      <th>Return_1Month_Forward</th>\n",
       "      <th>PD_t</th>\n",
       "      <th>delta_d</th>\n",
       "      <th>Predicted R_t</th>\n",
       "    </tr>\n",
       "  </thead>\n",
       "  <tbody>\n",
       "    <tr>\n",
       "      <th>0</th>\n",
       "      <td>1998-02-07</td>\n",
       "      <td>0.304277</td>\n",
       "      <td>0.143167</td>\n",
       "      <td>0.350638</td>\n",
       "      <td>0.055277</td>\n",
       "      <td>7.095540</td>\n",
       "      <td>0.303119</td>\n",
       "      <td>0.030249</td>\n",
       "    </tr>\n",
       "    <tr>\n",
       "      <th>1</th>\n",
       "      <td>1998-02-10</td>\n",
       "      <td>0.291903</td>\n",
       "      <td>0.154534</td>\n",
       "      <td>0.363007</td>\n",
       "      <td>0.025068</td>\n",
       "      <td>8.404637</td>\n",
       "      <td>0.303119</td>\n",
       "      <td>0.030249</td>\n",
       "    </tr>\n",
       "    <tr>\n",
       "      <th>2</th>\n",
       "      <td>1998-02-11</td>\n",
       "      <td>0.269282</td>\n",
       "      <td>0.179072</td>\n",
       "      <td>0.365795</td>\n",
       "      <td>0.043227</td>\n",
       "      <td>13.070375</td>\n",
       "      <td>0.585262</td>\n",
       "      <td>0.030249</td>\n",
       "    </tr>\n",
       "    <tr>\n",
       "      <th>3</th>\n",
       "      <td>1998-02-12</td>\n",
       "      <td>0.290409</td>\n",
       "      <td>0.160366</td>\n",
       "      <td>0.377143</td>\n",
       "      <td>0.056165</td>\n",
       "      <td>8.922924</td>\n",
       "      <td>-0.216997</td>\n",
       "      <td>0.036268</td>\n",
       "    </tr>\n",
       "    <tr>\n",
       "      <th>4</th>\n",
       "      <td>1998-02-13</td>\n",
       "      <td>0.268346</td>\n",
       "      <td>0.149079</td>\n",
       "      <td>0.350271</td>\n",
       "      <td>0.074432</td>\n",
       "      <td>9.634514</td>\n",
       "      <td>0.225464</td>\n",
       "      <td>0.047318</td>\n",
       "    </tr>\n",
       "    <tr>\n",
       "      <th>...</th>\n",
       "      <td>...</td>\n",
       "      <td>...</td>\n",
       "      <td>...</td>\n",
       "      <td>...</td>\n",
       "      <td>...</td>\n",
       "      <td>...</td>\n",
       "      <td>...</td>\n",
       "      <td>...</td>\n",
       "    </tr>\n",
       "    <tr>\n",
       "      <th>6251</th>\n",
       "      <td>2022-02-01</td>\n",
       "      <td>0.178304</td>\n",
       "      <td>0.067787</td>\n",
       "      <td>-0.005573</td>\n",
       "      <td>-0.042527</td>\n",
       "      <td>9.661689</td>\n",
       "      <td>0.160817</td>\n",
       "      <td>-0.006517</td>\n",
       "    </tr>\n",
       "    <tr>\n",
       "      <th>6252</th>\n",
       "      <td>2022-02-02</td>\n",
       "      <td>0.194420</td>\n",
       "      <td>0.077617</td>\n",
       "      <td>0.003521</td>\n",
       "      <td>-0.039765</td>\n",
       "      <td>9.225908</td>\n",
       "      <td>0.019435</td>\n",
       "      <td>-0.034442</td>\n",
       "    </tr>\n",
       "    <tr>\n",
       "      <th>6253</th>\n",
       "      <td>2022-02-03</td>\n",
       "      <td>0.178116</td>\n",
       "      <td>0.069139</td>\n",
       "      <td>0.000203</td>\n",
       "      <td>-0.047804</td>\n",
       "      <td>9.810701</td>\n",
       "      <td>0.136210</td>\n",
       "      <td>-0.036508</td>\n",
       "    </tr>\n",
       "    <tr>\n",
       "      <th>6254</th>\n",
       "      <td>2022-02-04</td>\n",
       "      <td>0.172267</td>\n",
       "      <td>0.064309</td>\n",
       "      <td>0.002355</td>\n",
       "      <td>-0.075907</td>\n",
       "      <td>9.858588</td>\n",
       "      <td>0.071723</td>\n",
       "      <td>-0.044012</td>\n",
       "    </tr>\n",
       "    <tr>\n",
       "      <th>6255</th>\n",
       "      <td>2022-02-05</td>\n",
       "      <td>0.186062</td>\n",
       "      <td>0.071981</td>\n",
       "      <td>-0.003421</td>\n",
       "      <td>-0.039052</td>\n",
       "      <td>9.396659</td>\n",
       "      <td>0.014337</td>\n",
       "      <td>-0.068146</td>\n",
       "    </tr>\n",
       "  </tbody>\n",
       "</table>\n",
       "<p>6256 rows × 8 columns</p>\n",
       "</div>"
      ],
      "text/plain": [
       "            date  Return_with_Dividends  Return_without_Dividends  \\\n",
       "0     1998-02-07               0.304277                  0.143167   \n",
       "1     1998-02-10               0.291903                  0.154534   \n",
       "2     1998-02-11               0.269282                  0.179072   \n",
       "3     1998-02-12               0.290409                  0.160366   \n",
       "4     1998-02-13               0.268346                  0.149079   \n",
       "...          ...                    ...                       ...   \n",
       "6251  2022-02-01               0.178304                  0.067787   \n",
       "6252  2022-02-02               0.194420                  0.077617   \n",
       "6253  2022-02-03               0.178116                  0.069139   \n",
       "6254  2022-02-04               0.172267                  0.064309   \n",
       "6255  2022-02-05               0.186062                  0.071981   \n",
       "\n",
       "      RiskFree_Rate_1Month_Forward  Return_1Month_Forward       PD_t  \\\n",
       "0                         0.350638               0.055277   7.095540   \n",
       "1                         0.363007               0.025068   8.404637   \n",
       "2                         0.365795               0.043227  13.070375   \n",
       "3                         0.377143               0.056165   8.922924   \n",
       "4                         0.350271               0.074432   9.634514   \n",
       "...                            ...                    ...        ...   \n",
       "6251                     -0.005573              -0.042527   9.661689   \n",
       "6252                      0.003521              -0.039765   9.225908   \n",
       "6253                      0.000203              -0.047804   9.810701   \n",
       "6254                      0.002355              -0.075907   9.858588   \n",
       "6255                     -0.003421              -0.039052   9.396659   \n",
       "\n",
       "       delta_d  Predicted R_t  \n",
       "0     0.303119       0.030249  \n",
       "1     0.303119       0.030249  \n",
       "2     0.585262       0.030249  \n",
       "3    -0.216997       0.036268  \n",
       "4     0.225464       0.047318  \n",
       "...        ...            ...  \n",
       "6251  0.160817      -0.006517  \n",
       "6252  0.019435      -0.034442  \n",
       "6253  0.136210      -0.036508  \n",
       "6254  0.071723      -0.044012  \n",
       "6255  0.014337      -0.068146  \n",
       "\n",
       "[6256 rows x 8 columns]"
      ]
     },
     "execution_count": 318,
     "metadata": {},
     "output_type": "execute_result"
    }
   ],
   "source": [
    "df_final"
   ]
  },
  {
   "cell_type": "code",
   "execution_count": 3,
   "id": "0a6efe7a",
   "metadata": {},
   "outputs": [
    {
     "ename": "NameError",
     "evalue": "name 'df_final' is not defined",
     "output_type": "error",
     "traceback": [
      "\u001b[1;31m---------------------------------------------------------------------------\u001b[0m",
      "\u001b[1;31mNameError\u001b[0m                                 Traceback (most recent call last)",
      "Cell \u001b[1;32mIn[3], line 1\u001b[0m\n\u001b[1;32m----> 1\u001b[0m \u001b[43mdf_final\u001b[49m\u001b[38;5;241m.\u001b[39mto_csv(\u001b[38;5;124m'\u001b[39m\u001b[38;5;124m../data/augmented_data_A2.csv\u001b[39m\u001b[38;5;124m'\u001b[39m)\n\u001b[0;32m      2\u001b[0m df_final[\u001b[38;5;124m\"\u001b[39m\u001b[38;5;124mPredicted R_t\u001b[39m\u001b[38;5;124m\"\u001b[39m]\u001b[38;5;241m.\u001b[39mto_csv(\u001b[38;5;124m'\u001b[39m\u001b[38;5;124m../data/predicted_returns_A2.csv\u001b[39m\u001b[38;5;124m'\u001b[39m)\n",
      "\u001b[1;31mNameError\u001b[0m: name 'df_final' is not defined"
     ]
    }
   ],
   "source": [
    "df_final.to_csv('../data/augmented_data_A2.csv')\n",
    "df_final[\"Predicted R_t\"].to_csv('../data/predicted_returns_A2.csv')"
   ]
  },
  {
   "cell_type": "code",
   "execution_count": null,
   "id": "3b1bb103",
   "metadata": {},
   "outputs": [],
   "source": []
  }
 ],
 "metadata": {
  "kernelspec": {
   "display_name": "Python 3 (ipykernel)",
   "language": "python",
   "name": "python3"
  },
  "language_info": {
   "codemirror_mode": {
    "name": "ipython",
    "version": 3
   },
   "file_extension": ".py",
   "mimetype": "text/x-python",
   "name": "python",
   "nbconvert_exporter": "python",
   "pygments_lexer": "ipython3",
   "version": "3.10.11"
  }
 },
 "nbformat": 4,
 "nbformat_minor": 5
}
