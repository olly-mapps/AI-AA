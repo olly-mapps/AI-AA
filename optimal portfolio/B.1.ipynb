{
 "cells": [
  {
   "cell_type": "markdown",
   "id": "d2a54df4",
   "metadata": {},
   "source": [
    "# Question B.1"
   ]
  },
  {
   "cell_type": "markdown",
   "id": "e295b2c0",
   "metadata": {},
   "source": [
    "This notebook documents the development a time series for the optimal portfolio decision $\\alpha_t(k)$."
   ]
  },
  {
   "cell_type": "markdown",
   "id": "b5df65d1",
   "metadata": {},
   "source": [
    "## Libraries"
   ]
  },
  {
   "cell_type": "markdown",
   "id": "07504da4",
   "metadata": {},
   "source": [
    "For our calculations, we want to import the following libraries."
   ]
  },
  {
   "cell_type": "code",
   "execution_count": 1,
   "id": "09badeb4",
   "metadata": {},
   "outputs": [],
   "source": [
    "import pandas as pd\n",
    "import numpy as np\n",
    "import matplotlib.pyplot as plt\n",
    "from sklearn.linear_model import LinearRegression\n",
    "from statsmodels.tsa.stattools import adfuller\n",
    "from statsmodels.tsa.ar_model import AutoReg"
   ]
  },
  {
   "cell_type": "markdown",
   "id": "edc6603c",
   "metadata": {},
   "source": [
    "## Data Loading"
   ]
  },
  {
   "cell_type": "markdown",
   "id": "30b484e8",
   "metadata": {},
   "source": [
    "We first want to load in our predicted returns data, along with the other dataframes we've generated so far. "
   ]
  },
  {
   "cell_type": "code",
   "execution_count": 2,
   "id": "d88ac995",
   "metadata": {},
   "outputs": [],
   "source": [
    "#Read in augmented data\n",
    "aug_df = pd.read_csv('../data/augmented_data_A2.csv', index_col = [0], parse_dates = True)\n",
    "\n",
    "#Read in returns\n",
    "returns = pd.read_csv('../data/predicted_returns_A2.csv')\n",
    "\n",
    "#Read in original data\n",
    "df = pd.read_csv('../data/data.csv', index_col = [0], parse_dates = True)"
   ]
  },
  {
   "cell_type": "markdown",
   "id": "9aca4037",
   "metadata": {},
   "source": [
    "We next merge the two dataframes, which allows us to find the Sigma column again which will be useful in this part."
   ]
  },
  {
   "cell_type": "code",
   "execution_count": 3,
   "id": "abb39d11",
   "metadata": {},
   "outputs": [],
   "source": [
    "#Merge augmented data and the sigma portion of the original data frame, by date\n",
    "aug_df = aug_df.merge(df[['date', 'Sigma']], 'inner', 'date') "
   ]
  },
  {
   "cell_type": "markdown",
   "id": "f91a46e3",
   "metadata": {},
   "source": [
    "We now convert the date to datetime format. Like before, we use a period in the data of a day since the observations are almost daily."
   ]
  },
  {
   "cell_type": "code",
   "execution_count": 4,
   "id": "b7af90ff",
   "metadata": {
    "scrolled": true
   },
   "outputs": [],
   "source": [
    "#Set date as the index\n",
    "aug_df.set_index('date', inplace = True)\n",
    "\n",
    "#'Periodise' the data by days\n",
    "aug_df.index = pd.DatetimeIndex(aug_df.index).to_period('D')"
   ]
  },
  {
   "cell_type": "markdown",
   "id": "82898fb4",
   "metadata": {},
   "source": [
    "We now inspect our dataframe to this point."
   ]
  },
  {
   "cell_type": "code",
   "execution_count": 5,
   "id": "86cdece6",
   "metadata": {},
   "outputs": [
    {
     "data": {
      "text/html": [
       "<div>\n",
       "<style scoped>\n",
       "    .dataframe tbody tr th:only-of-type {\n",
       "        vertical-align: middle;\n",
       "    }\n",
       "\n",
       "    .dataframe tbody tr th {\n",
       "        vertical-align: top;\n",
       "    }\n",
       "\n",
       "    .dataframe thead th {\n",
       "        text-align: right;\n",
       "    }\n",
       "</style>\n",
       "<table border=\"1\" class=\"dataframe\">\n",
       "  <thead>\n",
       "    <tr style=\"text-align: right;\">\n",
       "      <th></th>\n",
       "      <th>Return_with_Dividends</th>\n",
       "      <th>Return_without_Dividends</th>\n",
       "      <th>RiskFree_Rate_1Month_Forward</th>\n",
       "      <th>Return_1Month_Forward</th>\n",
       "      <th>PD_t</th>\n",
       "      <th>delta_d</th>\n",
       "      <th>Predicted R_t</th>\n",
       "      <th>Sigma</th>\n",
       "    </tr>\n",
       "    <tr>\n",
       "      <th>date</th>\n",
       "      <th></th>\n",
       "      <th></th>\n",
       "      <th></th>\n",
       "      <th></th>\n",
       "      <th></th>\n",
       "      <th></th>\n",
       "      <th></th>\n",
       "      <th></th>\n",
       "    </tr>\n",
       "  </thead>\n",
       "  <tbody>\n",
       "    <tr>\n",
       "      <th>1998-02-07</th>\n",
       "      <td>0.304277</td>\n",
       "      <td>0.143167</td>\n",
       "      <td>0.350638</td>\n",
       "      <td>0.055277</td>\n",
       "      <td>7.095540</td>\n",
       "      <td>0.303119</td>\n",
       "      <td>0.078501</td>\n",
       "      <td>NaN</td>\n",
       "    </tr>\n",
       "    <tr>\n",
       "      <th>1998-02-10</th>\n",
       "      <td>0.291903</td>\n",
       "      <td>0.154534</td>\n",
       "      <td>0.363007</td>\n",
       "      <td>0.025068</td>\n",
       "      <td>8.404637</td>\n",
       "      <td>0.303119</td>\n",
       "      <td>0.078501</td>\n",
       "      <td>NaN</td>\n",
       "    </tr>\n",
       "    <tr>\n",
       "      <th>1998-02-11</th>\n",
       "      <td>0.269282</td>\n",
       "      <td>0.179072</td>\n",
       "      <td>0.365795</td>\n",
       "      <td>0.043227</td>\n",
       "      <td>13.070375</td>\n",
       "      <td>0.585262</td>\n",
       "      <td>0.078501</td>\n",
       "      <td>NaN</td>\n",
       "    </tr>\n",
       "    <tr>\n",
       "      <th>1998-02-12</th>\n",
       "      <td>0.290409</td>\n",
       "      <td>0.160366</td>\n",
       "      <td>0.377143</td>\n",
       "      <td>0.056165</td>\n",
       "      <td>8.922924</td>\n",
       "      <td>-0.216997</td>\n",
       "      <td>0.078501</td>\n",
       "      <td>NaN</td>\n",
       "    </tr>\n",
       "    <tr>\n",
       "      <th>1998-02-13</th>\n",
       "      <td>0.268346</td>\n",
       "      <td>0.149079</td>\n",
       "      <td>0.350271</td>\n",
       "      <td>0.074432</td>\n",
       "      <td>9.634514</td>\n",
       "      <td>0.225464</td>\n",
       "      <td>0.078501</td>\n",
       "      <td>NaN</td>\n",
       "    </tr>\n",
       "  </tbody>\n",
       "</table>\n",
       "</div>"
      ],
      "text/plain": [
       "            Return_with_Dividends  Return_without_Dividends  \\\n",
       "date                                                          \n",
       "1998-02-07               0.304277                  0.143167   \n",
       "1998-02-10               0.291903                  0.154534   \n",
       "1998-02-11               0.269282                  0.179072   \n",
       "1998-02-12               0.290409                  0.160366   \n",
       "1998-02-13               0.268346                  0.149079   \n",
       "\n",
       "            RiskFree_Rate_1Month_Forward  Return_1Month_Forward       PD_t  \\\n",
       "date                                                                         \n",
       "1998-02-07                      0.350638               0.055277   7.095540   \n",
       "1998-02-10                      0.363007               0.025068   8.404637   \n",
       "1998-02-11                      0.365795               0.043227  13.070375   \n",
       "1998-02-12                      0.377143               0.056165   8.922924   \n",
       "1998-02-13                      0.350271               0.074432   9.634514   \n",
       "\n",
       "             delta_d  Predicted R_t  Sigma  \n",
       "date                                        \n",
       "1998-02-07  0.303119       0.078501    NaN  \n",
       "1998-02-10  0.303119       0.078501    NaN  \n",
       "1998-02-11  0.585262       0.078501    NaN  \n",
       "1998-02-12 -0.216997       0.078501    NaN  \n",
       "1998-02-13  0.225464       0.078501    NaN  "
      ]
     },
     "execution_count": 5,
     "metadata": {},
     "output_type": "execute_result"
    }
   ],
   "source": [
    "#Print head of data\n",
    "aug_df.head()"
   ]
  },
  {
   "cell_type": "markdown",
   "id": "93d0d33e",
   "metadata": {},
   "source": [
    "## Data Augmentation"
   ]
  },
  {
   "cell_type": "markdown",
   "id": "b79e42d8",
   "metadata": {},
   "source": [
    "Since there are many NaN values in the Sigma category, we need to impute the values we do not observe."
   ]
  },
  {
   "cell_type": "code",
   "execution_count": 6,
   "id": "c80ec6f7",
   "metadata": {},
   "outputs": [
    {
     "data": {
      "image/png": "[encoded data removed]",
      "text/plain": [
       "<Figure size 640x480 with 1 Axes>"
      ]
     },
     "metadata": {},
     "output_type": "display_data"
    }
   ],
   "source": [
    "df.plot(x='date', y='Sigma')\n",
    "plt.show()"
   ]
  },
  {
   "cell_type": "markdown",
   "id": "3d878116",
   "metadata": {},
   "source": [
    "We observe that most sigma values fall in a certain range, and over the whole time frame it is reasonably stationary. We check this mathematically with the ADF test."
   ]
  },
  {
   "cell_type": "code",
   "execution_count": 7,
   "id": "6866a054",
   "metadata": {
    "scrolled": true
   },
   "outputs": [
    {
     "name": "stdout",
     "output_type": "stream",
     "text": [
      "ADF Statistic: -6.078401\n",
      "p-value: 0.000000\n",
      "Critical Values:\n",
      "\t1%: -3.431\n",
      "\t5%: -2.862\n",
      "\t10%: -2.567\n"
     ]
    }
   ],
   "source": [
    "#Calculate ADF Statistic\n",
    "sigma_adf = adfuller(aug_df[\"Sigma\"].dropna())\n",
    "\n",
    "#Print Statistic\n",
    "print('ADF Statistic: %f' % sigma_adf[0])\n",
    "\n",
    "#Print p-value for testing\n",
    "print('p-value: %f' % sigma_adf[1])\n",
    "\n",
    "#Print critical values\n",
    "print('Critical Values:')\n",
    "for key, value in sigma_adf[4].items():\n",
    "     print('\\t%s: %.3f' % (key, value))"
   ]
  },
  {
   "cell_type": "markdown",
   "id": "10f9f36e",
   "metadata": {},
   "source": [
    "The test backs up our intuition that the data is stationary. This means we can fit a simple autoregressive model, to impute these values. This is motivated by the fact that there are many null values, so we may wish to fit some model to 'back-cast'. We do this by reversing the time series and forecasting backwards."
   ]
  },
  {
   "cell_type": "code",
   "execution_count": 8,
   "id": "009ef5f4",
   "metadata": {},
   "outputs": [
    {
     "data": {
      "text/plain": [
       "PeriodIndex(['1998-02-07', '1998-02-10', '1998-02-11', '1998-02-12',\n",
       "             '1998-02-13', '1998-02-14', '1998-02-17', '1998-02-18',\n",
       "             '1998-02-19', '1998-02-20',\n",
       "             ...\n",
       "             '1999-01-26', '1999-01-27', '1999-01-28', '1999-01-29',\n",
       "             '1999-01-30', '1999-02-02', '1999-02-03', '1999-02-04',\n",
       "             '1999-02-05', '1999-02-06'],\n",
       "            dtype='period[D]', name='date', length=261)"
      ]
     },
     "execution_count": 8,
     "metadata": {},
     "output_type": "execute_result"
    }
   ],
   "source": [
    "#Index dataframe by boolean matrix depicting the index of null values\n",
    "aug_df[aug_df.isnull().any(axis = 1)].index"
   ]
  },
  {
   "cell_type": "markdown",
   "id": "1ac4f1f1",
   "metadata": {},
   "source": [
    "From this, we see that index 261 is where we start seeing non null values. We create two subsets, one containing the real-valued sigmas and the other with the NaNs, which we are predicting."
   ]
  },
  {
   "cell_type": "code",
   "execution_count": 9,
   "id": "88cf9045",
   "metadata": {},
   "outputs": [],
   "source": [
    "#Define null sigma indexes\n",
    "null_sigma = aug_df[aug_df.isnull().any(axis = 1)]['Sigma']\n",
    "\n",
    "#Define indexes with real sigmas\n",
    "real_sigma = pd.DataFrame(aug_df.iloc[len(null_sigma):,]['Sigma'])"
   ]
  },
  {
   "cell_type": "markdown",
   "id": "91fa5390",
   "metadata": {},
   "source": [
    "We now reset the index. Since the data is close to being daily, we can reverse the time series and use a numeric index."
   ]
  },
  {
   "cell_type": "code",
   "execution_count": 10,
   "id": "b7e72d82",
   "metadata": {},
   "outputs": [],
   "source": [
    "#Reverse time series and drop date index\n",
    "real_sigma = real_sigma.iloc[::-1].reset_index(drop = True)"
   ]
  },
  {
   "cell_type": "markdown",
   "id": "e05c49e9",
   "metadata": {},
   "source": [
    "We now fit the model and observe a summary."
   ]
  },
  {
   "cell_type": "code",
   "execution_count": 11,
   "id": "6e05af88",
   "metadata": {
    "scrolled": false
   },
   "outputs": [
    {
     "name": "stdout",
     "output_type": "stream",
     "text": [
      "                            AutoReg Model Results                             \n",
      "==============================================================================\n",
      "Dep. Variable:                  Sigma   No. Observations:                 5995\n",
      "Model:                    AutoReg(20)   Log Likelihood               21913.012\n",
      "Method:               Conditional MLE   S.D. of innovations              0.006\n",
      "Date:                Thu, 15 Jun 2023   AIC                         -43782.025\n",
      "Time:                        12:33:07   BIC                         -43634.727\n",
      "Sample:                            20   HQIC                        -43730.862\n",
      "                                 5995                                         \n",
      "==============================================================================\n",
      "                 coef    std err          z      P>|z|      [0.025      0.975]\n",
      "------------------------------------------------------------------------------\n",
      "const          0.0012      0.000      5.217      0.000       0.001       0.002\n",
      "Sigma.L1       0.7522      0.013     58.060      0.000       0.727       0.778\n",
      "Sigma.L2       0.1549      0.016      9.543      0.000       0.123       0.187\n",
      "Sigma.L3       0.0086      0.016      0.526      0.599      -0.023       0.041\n",
      "Sigma.L4       0.0545      0.016      3.329      0.001       0.022       0.087\n",
      "Sigma.L5      -0.0240      0.016     -1.466      0.143      -0.056       0.008\n",
      "Sigma.L6      -0.0051      0.016     -0.311      0.756      -0.037       0.027\n",
      "Sigma.L7       0.0291      0.016      1.773      0.076      -0.003       0.061\n",
      "Sigma.L8      -0.0017      0.016     -0.105      0.916      -0.034       0.030\n",
      "Sigma.L9       0.0245      0.016      1.493      0.136      -0.008       0.057\n",
      "Sigma.L10      0.0051      0.016      0.312      0.755      -0.027       0.037\n",
      "Sigma.L11     -0.0143      0.016     -0.877      0.381      -0.046       0.018\n",
      "Sigma.L12     -0.0388      0.016     -2.368      0.018      -0.071      -0.007\n",
      "Sigma.L13      0.0213      0.016      1.302      0.193      -0.011       0.053\n",
      "Sigma.L14      0.0163      0.016      0.993      0.321      -0.016       0.048\n",
      "Sigma.L15     -0.0025      0.016     -0.150      0.880      -0.035       0.030\n",
      "Sigma.L16      0.0114      0.016      0.699      0.485      -0.021       0.044\n",
      "Sigma.L17     -0.0235      0.016     -1.437      0.151      -0.056       0.009\n",
      "Sigma.L18      0.0020      0.016      0.124      0.901      -0.030       0.034\n",
      "Sigma.L19      0.0156      0.016      0.959      0.338      -0.016       0.047\n",
      "Sigma.L20     -0.0030      0.013     -0.234      0.815      -0.028       0.022\n",
      "                                    Roots                                     \n",
      "==============================================================================\n",
      "                   Real          Imaginary           Modulus         Frequency\n",
      "------------------------------------------------------------------------------\n",
      "AR.1            -1.1549           -0.5013j            1.2590           -0.4348\n",
      "AR.2            -1.1549           +0.5013j            1.2590            0.4348\n",
      "AR.3            -1.3593           -0.1817j            1.3713           -0.4788\n",
      "AR.4            -1.3593           +0.1817j            1.3713            0.4788\n",
      "AR.5            -0.8538           -0.8749j            1.2224           -0.3731\n",
      "AR.6            -0.8538           +0.8749j            1.2224            0.3731\n",
      "AR.7            -0.4543           -1.1429j            1.2299           -0.3102\n",
      "AR.8            -0.4543           +1.1429j            1.2299            0.3102\n",
      "AR.9            -0.0960           -1.2496j            1.2533           -0.2622\n",
      "AR.10           -0.0960           +1.2496j            1.2533            0.2622\n",
      "AR.11            0.3366           -1.1443j            1.1928           -0.2045\n",
      "AR.12            0.3366           +1.1443j            1.1928            0.2045\n",
      "AR.13            0.8278           -0.9490j            1.2593           -0.1358\n",
      "AR.14            0.8278           +0.9490j            1.2593            0.1358\n",
      "AR.15            1.0877           -0.7238j            1.3065           -0.0934\n",
      "AR.16            1.0877           +0.7238j            1.3065            0.0934\n",
      "AR.17            1.0114           -0.0000j            1.0114           -0.0000\n",
      "AR.18            1.2337           -0.2837j            1.2659           -0.0360\n",
      "AR.19            1.2337           +0.2837j            1.2659            0.0360\n",
      "AR.20            4.9858           -0.0000j            4.9858           -0.0000\n",
      "------------------------------------------------------------------------------\n"
     ]
    }
   ],
   "source": [
    "#Fit model with lag of 20, as deciphered in the previous question\n",
    "sigma_ar = AutoReg(real_sigma, lags = 20).fit()\n",
    "print(sigma_ar.summary())"
   ]
  },
  {
   "cell_type": "markdown",
   "id": "501ca422",
   "metadata": {},
   "source": [
    "We see that the model seems to have fit correctly."
   ]
  },
  {
   "cell_type": "markdown",
   "id": "d1226ffd",
   "metadata": {},
   "source": [
    "We then predict the next values in the time series (the null values). We then convert it to a dataframe for ease of use."
   ]
  },
  {
   "cell_type": "code",
   "execution_count": 12,
   "id": "51573d86",
   "metadata": {},
   "outputs": [],
   "source": [
    "#Predict values that come after the training set\n",
    "sigma_pred = sigma_ar.predict(start = len(real_sigma), end = len(real_sigma) + len(null_sigma) -1, dynamic = False)\n",
    "\n",
    "#Create and name a dataframe from the predictions\n",
    "sigma_pred = pd.DataFrame(sigma_pred.rename('Sigma'))"
   ]
  },
  {
   "cell_type": "markdown",
   "id": "1e724f8d",
   "metadata": {},
   "source": [
    "We now produce a plot to visualise the results of our predictions."
   ]
  },
  {
   "cell_type": "code",
   "execution_count": 13,
   "id": "98224df6",
   "metadata": {},
   "outputs": [
    {
     "data": {
      "image/png": "[encoded data removed]",
      "text/plain": [
       "<Figure size 640x480 with 1 Axes>"
      ]
     },
     "metadata": {},
     "output_type": "display_data"
    }
   ],
   "source": [
    "#Plot the prediction\n",
    "plt.plot(sigma_pred)\n",
    "\n",
    "#Plot the real valued sigma\n",
    "plt.plot(real_sigma)\n",
    "\n",
    "#Show plot\n",
    "plt.show()"
   ]
  },
  {
   "cell_type": "markdown",
   "id": "19da8438",
   "metadata": {},
   "source": [
    "Although does not mirror the large variation in the real values, it does show some variation, and it certainly in the expected range of sigma, and so we use this imputation."
   ]
  },
  {
   "cell_type": "markdown",
   "id": "d6a79cd6",
   "metadata": {},
   "source": [
    "Then we concatenate our results together, and replace the old sigma values in the original dataframe with the new ones."
   ]
  },
  {
   "cell_type": "code",
   "execution_count": 14,
   "id": "e9f13a59",
   "metadata": {
    "scrolled": true
   },
   "outputs": [],
   "source": [
    "#Concatenate row wise the reversed forecast, putting the predictions back in order\n",
    "final_sigma = pd.concat([real_sigma, sigma_pred], axis = 0)[::-1]\n",
    "\n",
    "#Replace the column sigma in the original dataframe with the new values\n",
    "aug_df['Sigma'] = final_sigma['Sigma'].values"
   ]
  },
  {
   "cell_type": "markdown",
   "id": "ead3cdeb",
   "metadata": {},
   "source": [
    "We now inspect our augmented data-frame."
   ]
  },
  {
   "cell_type": "code",
   "execution_count": 15,
   "id": "0a67ba43",
   "metadata": {},
   "outputs": [
    {
     "data": {
      "text/html": [
       "<div>\n",
       "<style scoped>\n",
       "    .dataframe tbody tr th:only-of-type {\n",
       "        vertical-align: middle;\n",
       "    }\n",
       "\n",
       "    .dataframe tbody tr th {\n",
       "        vertical-align: top;\n",
       "    }\n",
       "\n",
       "    .dataframe thead th {\n",
       "        text-align: right;\n",
       "    }\n",
       "</style>\n",
       "<table border=\"1\" class=\"dataframe\">\n",
       "  <thead>\n",
       "    <tr style=\"text-align: right;\">\n",
       "      <th></th>\n",
       "      <th>Return_with_Dividends</th>\n",
       "      <th>Return_without_Dividends</th>\n",
       "      <th>RiskFree_Rate_1Month_Forward</th>\n",
       "      <th>Return_1Month_Forward</th>\n",
       "      <th>PD_t</th>\n",
       "      <th>delta_d</th>\n",
       "      <th>Predicted R_t</th>\n",
       "      <th>Sigma</th>\n",
       "    </tr>\n",
       "    <tr>\n",
       "      <th>date</th>\n",
       "      <th></th>\n",
       "      <th></th>\n",
       "      <th></th>\n",
       "      <th></th>\n",
       "      <th></th>\n",
       "      <th></th>\n",
       "      <th></th>\n",
       "      <th></th>\n",
       "    </tr>\n",
       "  </thead>\n",
       "  <tbody>\n",
       "    <tr>\n",
       "      <th>1998-02-07</th>\n",
       "      <td>0.304277</td>\n",
       "      <td>0.143167</td>\n",
       "      <td>0.350638</td>\n",
       "      <td>0.055277</td>\n",
       "      <td>7.095540</td>\n",
       "      <td>0.303119</td>\n",
       "      <td>0.078501</td>\n",
       "      <td>0.069727</td>\n",
       "    </tr>\n",
       "    <tr>\n",
       "      <th>1998-02-10</th>\n",
       "      <td>0.291903</td>\n",
       "      <td>0.154534</td>\n",
       "      <td>0.363007</td>\n",
       "      <td>0.025068</td>\n",
       "      <td>8.404637</td>\n",
       "      <td>0.303119</td>\n",
       "      <td>0.078501</td>\n",
       "      <td>0.069727</td>\n",
       "    </tr>\n",
       "    <tr>\n",
       "      <th>1998-02-11</th>\n",
       "      <td>0.269282</td>\n",
       "      <td>0.179072</td>\n",
       "      <td>0.365795</td>\n",
       "      <td>0.043227</td>\n",
       "      <td>13.070375</td>\n",
       "      <td>0.585262</td>\n",
       "      <td>0.078501</td>\n",
       "      <td>0.069727</td>\n",
       "    </tr>\n",
       "    <tr>\n",
       "      <th>1998-02-12</th>\n",
       "      <td>0.290409</td>\n",
       "      <td>0.160366</td>\n",
       "      <td>0.377143</td>\n",
       "      <td>0.056165</td>\n",
       "      <td>8.922924</td>\n",
       "      <td>-0.216997</td>\n",
       "      <td>0.078501</td>\n",
       "      <td>0.069727</td>\n",
       "    </tr>\n",
       "    <tr>\n",
       "      <th>1998-02-13</th>\n",
       "      <td>0.268346</td>\n",
       "      <td>0.149079</td>\n",
       "      <td>0.350271</td>\n",
       "      <td>0.074432</td>\n",
       "      <td>9.634514</td>\n",
       "      <td>0.225464</td>\n",
       "      <td>0.078501</td>\n",
       "      <td>0.069727</td>\n",
       "    </tr>\n",
       "    <tr>\n",
       "      <th>...</th>\n",
       "      <td>...</td>\n",
       "      <td>...</td>\n",
       "      <td>...</td>\n",
       "      <td>...</td>\n",
       "      <td>...</td>\n",
       "      <td>...</td>\n",
       "      <td>...</td>\n",
       "      <td>...</td>\n",
       "    </tr>\n",
       "    <tr>\n",
       "      <th>2022-02-01</th>\n",
       "      <td>0.178304</td>\n",
       "      <td>0.067787</td>\n",
       "      <td>-0.005573</td>\n",
       "      <td>-0.042527</td>\n",
       "      <td>9.661689</td>\n",
       "      <td>0.160817</td>\n",
       "      <td>-0.014614</td>\n",
       "      <td>0.056470</td>\n",
       "    </tr>\n",
       "    <tr>\n",
       "      <th>2022-02-02</th>\n",
       "      <td>0.194420</td>\n",
       "      <td>0.077617</td>\n",
       "      <td>0.003521</td>\n",
       "      <td>-0.039765</td>\n",
       "      <td>9.225908</td>\n",
       "      <td>0.019435</td>\n",
       "      <td>-0.037701</td>\n",
       "      <td>0.057842</td>\n",
       "    </tr>\n",
       "    <tr>\n",
       "      <th>2022-02-03</th>\n",
       "      <td>0.178116</td>\n",
       "      <td>0.069139</td>\n",
       "      <td>0.000203</td>\n",
       "      <td>-0.047804</td>\n",
       "      <td>9.810701</td>\n",
       "      <td>0.136210</td>\n",
       "      <td>-0.046158</td>\n",
       "      <td>0.059506</td>\n",
       "    </tr>\n",
       "    <tr>\n",
       "      <th>2022-02-04</th>\n",
       "      <td>0.172267</td>\n",
       "      <td>0.064309</td>\n",
       "      <td>0.002355</td>\n",
       "      <td>-0.075907</td>\n",
       "      <td>9.858588</td>\n",
       "      <td>0.071723</td>\n",
       "      <td>-0.047590</td>\n",
       "      <td>0.058272</td>\n",
       "    </tr>\n",
       "    <tr>\n",
       "      <th>2022-02-05</th>\n",
       "      <td>0.186062</td>\n",
       "      <td>0.071981</td>\n",
       "      <td>-0.003421</td>\n",
       "      <td>-0.039052</td>\n",
       "      <td>9.396659</td>\n",
       "      <td>0.014337</td>\n",
       "      <td>-0.066069</td>\n",
       "      <td>0.056425</td>\n",
       "    </tr>\n",
       "  </tbody>\n",
       "</table>\n",
       "<p>6256 rows × 8 columns</p>\n",
       "</div>"
      ],
      "text/plain": [
       "            Return_with_Dividends  Return_without_Dividends  \\\n",
       "date                                                          \n",
       "1998-02-07               0.304277                  0.143167   \n",
       "1998-02-10               0.291903                  0.154534   \n",
       "1998-02-11               0.269282                  0.179072   \n",
       "1998-02-12               0.290409                  0.160366   \n",
       "1998-02-13               0.268346                  0.149079   \n",
       "...                           ...                       ...   \n",
       "2022-02-01               0.178304                  0.067787   \n",
       "2022-02-02               0.194420                  0.077617   \n",
       "2022-02-03               0.178116                  0.069139   \n",
       "2022-02-04               0.172267                  0.064309   \n",
       "2022-02-05               0.186062                  0.071981   \n",
       "\n",
       "            RiskFree_Rate_1Month_Forward  Return_1Month_Forward       PD_t  \\\n",
       "date                                                                         \n",
       "1998-02-07                      0.350638               0.055277   7.095540   \n",
       "1998-02-10                      0.363007               0.025068   8.404637   \n",
       "1998-02-11                      0.365795               0.043227  13.070375   \n",
       "1998-02-12                      0.377143               0.056165   8.922924   \n",
       "1998-02-13                      0.350271               0.074432   9.634514   \n",
       "...                                  ...                    ...        ...   \n",
       "2022-02-01                     -0.005573              -0.042527   9.661689   \n",
       "2022-02-02                      0.003521              -0.039765   9.225908   \n",
       "2022-02-03                      0.000203              -0.047804   9.810701   \n",
       "2022-02-04                      0.002355              -0.075907   9.858588   \n",
       "2022-02-05                     -0.003421              -0.039052   9.396659   \n",
       "\n",
       "             delta_d  Predicted R_t     Sigma  \n",
       "date                                           \n",
       "1998-02-07  0.303119       0.078501  0.069727  \n",
       "1998-02-10  0.303119       0.078501  0.069727  \n",
       "1998-02-11  0.585262       0.078501  0.069727  \n",
       "1998-02-12 -0.216997       0.078501  0.069727  \n",
       "1998-02-13  0.225464       0.078501  0.069727  \n",
       "...              ...            ...       ...  \n",
       "2022-02-01  0.160817      -0.014614  0.056470  \n",
       "2022-02-02  0.019435      -0.037701  0.057842  \n",
       "2022-02-03  0.136210      -0.046158  0.059506  \n",
       "2022-02-04  0.071723      -0.047590  0.058272  \n",
       "2022-02-05  0.014337      -0.066069  0.056425  \n",
       "\n",
       "[6256 rows x 8 columns]"
      ]
     },
     "execution_count": 15,
     "metadata": {},
     "output_type": "execute_result"
    }
   ],
   "source": [
    "aug_df"
   ]
  },
  {
   "cell_type": "markdown",
   "id": "dc335711",
   "metadata": {},
   "source": [
    "## Optimal Portfolio Allocation"
   ]
  },
  {
   "cell_type": "markdown",
   "id": "5c65215e",
   "metadata": {},
   "source": [
    "To determine the optimal portfolio decision $\\alpha_t (k)$, we use the fact that:\n",
    "\n",
    "$$ \\alpha_t = \\frac{E_t[R_t] - R_{f,t}}{k \\sigma_t^2} $$\n",
    "\n",
    "So we can simply augment our dataframe further, carrying out this calculation. It is important to note that each value in this column must be multiplied by some $k$. For this, we will now define a new variable $\\beta_t = k \\alpha_t$ for a given $k$"
   ]
  },
  {
   "cell_type": "code",
   "execution_count": 16,
   "id": "68eab1be",
   "metadata": {},
   "outputs": [],
   "source": [
    "#Define the Exp_R_t, R_ft and sigma_t columns\n",
    "Exp_R_t = aug_df[\"Predicted R_t\"]\n",
    "R_ft = aug_df[\"RiskFree_Rate_1Month_Forward\"]\n",
    "sigma_t = aug_df[\"Sigma\"]\n",
    "\n",
    "#Augment a column alpha_t(k) which applies the relevant function\n",
    "aug_df['beta_t'] = ((Exp_R_t - R_ft)/((sigma_t)**2)) "
   ]
  },
  {
   "cell_type": "markdown",
   "id": "57e6458b",
   "metadata": {},
   "source": [
    "Now we can generate summary statistics."
   ]
  },
  {
   "cell_type": "code",
   "execution_count": 17,
   "id": "e1b0767e",
   "metadata": {},
   "outputs": [
    {
     "data": {
      "text/html": [
       "<div>\n",
       "<style scoped>\n",
       "    .dataframe tbody tr th:only-of-type {\n",
       "        vertical-align: middle;\n",
       "    }\n",
       "\n",
       "    .dataframe tbody tr th {\n",
       "        vertical-align: top;\n",
       "    }\n",
       "\n",
       "    .dataframe thead th {\n",
       "        text-align: right;\n",
       "    }\n",
       "</style>\n",
       "<table border=\"1\" class=\"dataframe\">\n",
       "  <thead>\n",
       "    <tr style=\"text-align: right;\">\n",
       "      <th></th>\n",
       "      <th>Return_with_Dividends</th>\n",
       "      <th>Return_without_Dividends</th>\n",
       "      <th>RiskFree_Rate_1Month_Forward</th>\n",
       "      <th>Return_1Month_Forward</th>\n",
       "      <th>PD_t</th>\n",
       "      <th>delta_d</th>\n",
       "      <th>Predicted R_t</th>\n",
       "      <th>Sigma</th>\n",
       "      <th>beta_t</th>\n",
       "    </tr>\n",
       "  </thead>\n",
       "  <tbody>\n",
       "    <tr>\n",
       "      <th>count</th>\n",
       "      <td>6256.000000</td>\n",
       "      <td>6256.000000</td>\n",
       "      <td>6256.000000</td>\n",
       "      <td>6256.000000</td>\n",
       "      <td>6256.000000</td>\n",
       "      <td>6256.000000</td>\n",
       "      <td>6256.000000</td>\n",
       "      <td>6256.000000</td>\n",
       "      <td>6256.000000</td>\n",
       "    </tr>\n",
       "    <tr>\n",
       "      <th>mean</th>\n",
       "      <td>0.109455</td>\n",
       "      <td>-0.012911</td>\n",
       "      <td>0.130775</td>\n",
       "      <td>0.006074</td>\n",
       "      <td>8.500196</td>\n",
       "      <td>-0.017943</td>\n",
       "      <td>0.005711</td>\n",
       "      <td>0.069843</td>\n",
       "      <td>-28.034263</td>\n",
       "    </tr>\n",
       "    <tr>\n",
       "      <th>std</th>\n",
       "      <td>0.108956</td>\n",
       "      <td>0.096957</td>\n",
       "      <td>0.151515</td>\n",
       "      <td>0.057973</td>\n",
       "      <td>2.321165</td>\n",
       "      <td>0.249271</td>\n",
       "      <td>0.056488</td>\n",
       "      <td>0.026455</td>\n",
       "      <td>46.329467</td>\n",
       "    </tr>\n",
       "    <tr>\n",
       "      <th>min</th>\n",
       "      <td>-0.197034</td>\n",
       "      <td>-0.302599</td>\n",
       "      <td>-0.061559</td>\n",
       "      <td>-0.376489</td>\n",
       "      <td>4.326993</td>\n",
       "      <td>-1.404444</td>\n",
       "      <td>-0.364478</td>\n",
       "      <td>0.027157</td>\n",
       "      <td>-234.930591</td>\n",
       "    </tr>\n",
       "    <tr>\n",
       "      <th>25%</th>\n",
       "      <td>0.031608</td>\n",
       "      <td>-0.077261</td>\n",
       "      <td>-0.015332</td>\n",
       "      <td>-0.022522</td>\n",
       "      <td>7.013399</td>\n",
       "      <td>-0.170649</td>\n",
       "      <td>-0.020832</td>\n",
       "      <td>0.051867</td>\n",
       "      <td>-56.364743</td>\n",
       "    </tr>\n",
       "    <tr>\n",
       "      <th>50%</th>\n",
       "      <td>0.127174</td>\n",
       "      <td>0.005096</td>\n",
       "      <td>0.099123</td>\n",
       "      <td>0.011724</td>\n",
       "      <td>8.034640</td>\n",
       "      <td>-0.010764</td>\n",
       "      <td>0.011498</td>\n",
       "      <td>0.065440</td>\n",
       "      <td>-14.816942</td>\n",
       "    </tr>\n",
       "    <tr>\n",
       "      <th>75%</th>\n",
       "      <td>0.185965</td>\n",
       "      <td>0.052129</td>\n",
       "      <td>0.269003</td>\n",
       "      <td>0.040685</td>\n",
       "      <td>9.388610</td>\n",
       "      <td>0.140727</td>\n",
       "      <td>0.037303</td>\n",
       "      <td>0.078924</td>\n",
       "      <td>5.909063</td>\n",
       "    </tr>\n",
       "    <tr>\n",
       "      <th>max</th>\n",
       "      <td>0.406503</td>\n",
       "      <td>0.277510</td>\n",
       "      <td>0.490552</td>\n",
       "      <td>0.240728</td>\n",
       "      <td>54.194632</td>\n",
       "      <td>1.160398</td>\n",
       "      <td>0.242703</td>\n",
       "      <td>0.248792</td>\n",
       "      <td>87.805604</td>\n",
       "    </tr>\n",
       "  </tbody>\n",
       "</table>\n",
       "</div>"
      ],
      "text/plain": [
       "       Return_with_Dividends  Return_without_Dividends  \\\n",
       "count            6256.000000               6256.000000   \n",
       "mean                0.109455                 -0.012911   \n",
       "std                 0.108956                  0.096957   \n",
       "min                -0.197034                 -0.302599   \n",
       "25%                 0.031608                 -0.077261   \n",
       "50%                 0.127174                  0.005096   \n",
       "75%                 0.185965                  0.052129   \n",
       "max                 0.406503                  0.277510   \n",
       "\n",
       "       RiskFree_Rate_1Month_Forward  Return_1Month_Forward         PD_t  \\\n",
       "count                   6256.000000            6256.000000  6256.000000   \n",
       "mean                       0.130775               0.006074     8.500196   \n",
       "std                        0.151515               0.057973     2.321165   \n",
       "min                       -0.061559              -0.376489     4.326993   \n",
       "25%                       -0.015332              -0.022522     7.013399   \n",
       "50%                        0.099123               0.011724     8.034640   \n",
       "75%                        0.269003               0.040685     9.388610   \n",
       "max                        0.490552               0.240728    54.194632   \n",
       "\n",
       "           delta_d  Predicted R_t        Sigma       beta_t  \n",
       "count  6256.000000    6256.000000  6256.000000  6256.000000  \n",
       "mean     -0.017943       0.005711     0.069843   -28.034263  \n",
       "std       0.249271       0.056488     0.026455    46.329467  \n",
       "min      -1.404444      -0.364478     0.027157  -234.930591  \n",
       "25%      -0.170649      -0.020832     0.051867   -56.364743  \n",
       "50%      -0.010764       0.011498     0.065440   -14.816942  \n",
       "75%       0.140727       0.037303     0.078924     5.909063  \n",
       "max       1.160398       0.242703     0.248792    87.805604  "
      ]
     },
     "execution_count": 17,
     "metadata": {},
     "output_type": "execute_result"
    }
   ],
   "source": [
    "#Summary statistics on data\n",
    "aug_df.describe()"
   ]
  },
  {
   "cell_type": "markdown",
   "id": "0055ebf9",
   "metadata": {},
   "source": [
    "We observe that the mean decision is negative, which for us implies that often the equity will return a poor performance in some two asset model. Despite this, we have a comparitively large standard deviation, so there will be oppurtunities to capitalise on the equity"
   ]
  },
  {
   "cell_type": "markdown",
   "id": "c83a6af3",
   "metadata": {},
   "source": [
    "## Results"
   ]
  },
  {
   "cell_type": "markdown",
   "id": "3935a791",
   "metadata": {},
   "source": [
    "We now save our augmented dataframe for use in the next part"
   ]
  },
  {
   "cell_type": "code",
   "execution_count": 18,
   "id": "e30544e8",
   "metadata": {},
   "outputs": [],
   "source": [
    "#Save new augmented data\n",
    "aug_df.to_csv('../data/augmented_data_A3.csv')\n",
    "\n",
    "#Save optimal portfolio decision\n",
    "aug_df['beta_t'].to_csv('../data/optimal_portfolio_A3.csv')"
   ]
  }
 ],
 "metadata": {
  "kernelspec": {
   "display_name": "Python 3 (ipykernel)",
   "language": "python",
   "name": "python3"
  },
  "language_info": {
   "codemirror_mode": {
    "name": "ipython",
    "version": 3
   },
   "file_extension": ".py",
   "mimetype": "text/x-python",
   "name": "python",
   "nbconvert_exporter": "python",
   "pygments_lexer": "ipython3",
   "version": "3.10.11"
  }
 },
 "nbformat": 4,
 "nbformat_minor": 5
}
