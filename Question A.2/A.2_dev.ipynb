{
 "cells": [
  {
   "cell_type": "markdown",
   "id": "54696088",
   "metadata": {},
   "source": [
    "# Question A.2"
   ]
  },
  {
   "cell_type": "markdown",
   "id": "f28bf26d",
   "metadata": {},
   "source": [
    "This notebook documents the development of a model that predicts returns $R_t$ using the log dividend growth $\\Delta d_t$ and Price-to-Dividend ratio $PD_t$"
   ]
  },
  {
   "cell_type": "markdown",
   "id": "66eb6272",
   "metadata": {},
   "source": [
    "## Libraries"
   ]
  },
  {
   "cell_type": "markdown",
   "id": "50c7aea0",
   "metadata": {},
   "source": [
    "For our model, we want to import the following libraries"
   ]
  },
  {
   "cell_type": "code",
   "execution_count": 63,
   "id": "2a88a5d3",
   "metadata": {},
   "outputs": [],
   "source": [
    "import pandas as pd\n",
    "import numpy as np\n",
    "import matplotlib.pyplot as plt\n",
    "from scipy import stats\n",
    "from sklearn.linear_model import LinearRegression\n",
    "from statsmodels.tsa.stattools import acf, pacf\n",
    "from statsmodels.graphics.tsaplots import plot_acf, plot_pacf\n",
    "from statsmodels.tsa.vector_ar.var_model import VAR\n",
    "from sklearn.metrics import mean_squared_error\n",
    "from statsmodels.tsa.stattools import adfuller\n",
    "from sklearn.ensemble import GradientBoostingRegressor\n",
    "from sklearn.model_selection import RepeatedStratifiedKFold\n",
    "from sklearn.model_selection import GridSearchCV\n",
    "from sklearn.ensemble import GradientBoostingClassifier\n",
    "from sklearn.preprocessing import StandardScaler\n",
    "import tensorflow as tf\n",
    "import keras\n",
    "from keras import optimizers\n",
    "from keras.callbacks import History\n",
    "from keras.models import Model\n",
    "from keras.layers import Dense, Dropout, LSTM, Input, Activation, concatenate\n",
    "import math\n",
    "from sklearn.preprocessing import MinMaxScaler"
   ]
  },
  {
   "cell_type": "markdown",
   "id": "0c6e737a",
   "metadata": {},
   "source": [
    "## Data Loading"
   ]
  },
  {
   "cell_type": "markdown",
   "id": "3ea68fe8",
   "metadata": {},
   "source": [
    "Our data is found in the `data.csv` file, and we first want to load it in."
   ]
  },
  {
   "cell_type": "code",
   "execution_count": 7,
   "id": "0a1d989d",
   "metadata": {},
   "outputs": [
    {
     "data": {
      "text/html": [
       "<div>\n",
       "<style scoped>\n",
       "    .dataframe tbody tr th:only-of-type {\n",
       "        vertical-align: middle;\n",
       "    }\n",
       "\n",
       "    .dataframe tbody tr th {\n",
       "        vertical-align: top;\n",
       "    }\n",
       "\n",
       "    .dataframe thead th {\n",
       "        text-align: right;\n",
       "    }\n",
       "</style>\n",
       "<table border=\"1\" class=\"dataframe\">\n",
       "  <thead>\n",
       "    <tr style=\"text-align: right;\">\n",
       "      <th></th>\n",
       "      <th>date</th>\n",
       "      <th>Return_with_Dividends</th>\n",
       "      <th>Return_without_Dividends</th>\n",
       "      <th>RiskFree_Rate_1Month_Forward</th>\n",
       "      <th>Return_1Month_Forward</th>\n",
       "      <th>Sigma</th>\n",
       "    </tr>\n",
       "  </thead>\n",
       "  <tbody>\n",
       "    <tr>\n",
       "      <th>0</th>\n",
       "      <td>1998-02-07</td>\n",
       "      <td>0.304277</td>\n",
       "      <td>0.143167</td>\n",
       "      <td>0.350638</td>\n",
       "      <td>0.055277</td>\n",
       "      <td>NaN</td>\n",
       "    </tr>\n",
       "    <tr>\n",
       "      <th>1</th>\n",
       "      <td>1998-02-10</td>\n",
       "      <td>0.291903</td>\n",
       "      <td>0.154534</td>\n",
       "      <td>0.363007</td>\n",
       "      <td>0.025068</td>\n",
       "      <td>NaN</td>\n",
       "    </tr>\n",
       "    <tr>\n",
       "      <th>2</th>\n",
       "      <td>1998-02-11</td>\n",
       "      <td>0.269282</td>\n",
       "      <td>0.179072</td>\n",
       "      <td>0.365795</td>\n",
       "      <td>0.043227</td>\n",
       "      <td>NaN</td>\n",
       "    </tr>\n",
       "    <tr>\n",
       "      <th>3</th>\n",
       "      <td>1998-02-12</td>\n",
       "      <td>0.290409</td>\n",
       "      <td>0.160366</td>\n",
       "      <td>0.377143</td>\n",
       "      <td>0.056165</td>\n",
       "      <td>NaN</td>\n",
       "    </tr>\n",
       "    <tr>\n",
       "      <th>4</th>\n",
       "      <td>1998-02-13</td>\n",
       "      <td>0.268346</td>\n",
       "      <td>0.149079</td>\n",
       "      <td>0.350271</td>\n",
       "      <td>0.074432</td>\n",
       "      <td>NaN</td>\n",
       "    </tr>\n",
       "    <tr>\n",
       "      <th>...</th>\n",
       "      <td>...</td>\n",
       "      <td>...</td>\n",
       "      <td>...</td>\n",
       "      <td>...</td>\n",
       "      <td>...</td>\n",
       "      <td>...</td>\n",
       "    </tr>\n",
       "    <tr>\n",
       "      <th>6256</th>\n",
       "      <td>2022-02-01</td>\n",
       "      <td>0.178304</td>\n",
       "      <td>0.067787</td>\n",
       "      <td>-0.005573</td>\n",
       "      <td>-0.042527</td>\n",
       "      <td>0.056470</td>\n",
       "    </tr>\n",
       "    <tr>\n",
       "      <th>6257</th>\n",
       "      <td>2022-02-02</td>\n",
       "      <td>0.194420</td>\n",
       "      <td>0.077617</td>\n",
       "      <td>0.003521</td>\n",
       "      <td>-0.039765</td>\n",
       "      <td>0.057842</td>\n",
       "    </tr>\n",
       "    <tr>\n",
       "      <th>6258</th>\n",
       "      <td>2022-02-03</td>\n",
       "      <td>0.178116</td>\n",
       "      <td>0.069139</td>\n",
       "      <td>0.000203</td>\n",
       "      <td>-0.047804</td>\n",
       "      <td>0.059506</td>\n",
       "    </tr>\n",
       "    <tr>\n",
       "      <th>6259</th>\n",
       "      <td>2022-02-04</td>\n",
       "      <td>0.172267</td>\n",
       "      <td>0.064309</td>\n",
       "      <td>0.002355</td>\n",
       "      <td>-0.075907</td>\n",
       "      <td>0.058272</td>\n",
       "    </tr>\n",
       "    <tr>\n",
       "      <th>6260</th>\n",
       "      <td>2022-02-05</td>\n",
       "      <td>0.186062</td>\n",
       "      <td>0.071981</td>\n",
       "      <td>-0.003421</td>\n",
       "      <td>-0.039052</td>\n",
       "      <td>0.056425</td>\n",
       "    </tr>\n",
       "  </tbody>\n",
       "</table>\n",
       "<p>6261 rows × 6 columns</p>\n",
       "</div>"
      ],
      "text/plain": [
       "            date  Return_with_Dividends  Return_without_Dividends  \\\n",
       "0     1998-02-07               0.304277                  0.143167   \n",
       "1     1998-02-10               0.291903                  0.154534   \n",
       "2     1998-02-11               0.269282                  0.179072   \n",
       "3     1998-02-12               0.290409                  0.160366   \n",
       "4     1998-02-13               0.268346                  0.149079   \n",
       "...          ...                    ...                       ...   \n",
       "6256  2022-02-01               0.178304                  0.067787   \n",
       "6257  2022-02-02               0.194420                  0.077617   \n",
       "6258  2022-02-03               0.178116                  0.069139   \n",
       "6259  2022-02-04               0.172267                  0.064309   \n",
       "6260  2022-02-05               0.186062                  0.071981   \n",
       "\n",
       "      RiskFree_Rate_1Month_Forward  Return_1Month_Forward     Sigma  \n",
       "0                         0.350638               0.055277       NaN  \n",
       "1                         0.363007               0.025068       NaN  \n",
       "2                         0.365795               0.043227       NaN  \n",
       "3                         0.377143               0.056165       NaN  \n",
       "4                         0.350271               0.074432       NaN  \n",
       "...                            ...                    ...       ...  \n",
       "6256                     -0.005573              -0.042527  0.056470  \n",
       "6257                      0.003521              -0.039765  0.057842  \n",
       "6258                      0.000203              -0.047804  0.059506  \n",
       "6259                      0.002355              -0.075907  0.058272  \n",
       "6260                     -0.003421              -0.039052  0.056425  \n",
       "\n",
       "[6261 rows x 6 columns]"
      ]
     },
     "execution_count": 7,
     "metadata": {},
     "output_type": "execute_result"
    }
   ],
   "source": [
    "#Read data.csv file from the data directory\n",
    "df = pd.read_csv('../data/data.csv', index_col = [0], parse_dates = True)\n",
    "\n",
    "# Inspect data\n",
    "df"
   ]
  },
  {
   "cell_type": "markdown",
   "id": "ff2bd13a",
   "metadata": {},
   "source": [
    "We also want to convert the date to `datetime` format"
   ]
  },
  {
   "cell_type": "code",
   "execution_count": 8,
   "id": "b607c4d2",
   "metadata": {},
   "outputs": [],
   "source": [
    "df['date'] = pd.to_datetime(df['date'])"
   ]
  },
  {
   "cell_type": "markdown",
   "id": "bc9c977d",
   "metadata": {},
   "source": [
    "And then set this as the index"
   ]
  },
  {
   "cell_type": "code",
   "execution_count": 9,
   "id": "0a7045ec",
   "metadata": {},
   "outputs": [],
   "source": [
    "df.set_index('date', inplace = True)\n",
    "df.index = pd.DatetimeIndex(df.index).to_period('M')"
   ]
  },
  {
   "cell_type": "markdown",
   "id": "ed96a0a6",
   "metadata": {},
   "source": [
    "## Exploratory Data Analysis"
   ]
  },
  {
   "cell_type": "markdown",
   "id": "23e831bf",
   "metadata": {},
   "source": [
    "We now perform some exploratory data analysis to get a better feel for our data"
   ]
  },
  {
   "cell_type": "code",
   "execution_count": 10,
   "id": "1ac0cec2",
   "metadata": {
    "scrolled": false
   },
   "outputs": [
    {
     "data": {
      "image/png": "[encoded data removed]",
      "text/plain": [
       "<Figure size 640x480 with 1 Axes>"
      ]
     },
     "metadata": {},
     "output_type": "display_data"
    }
   ],
   "source": [
    "#Plot boxplots\n",
    "\n",
    "df.plot(kind = 'box')\n",
    "plt.xticks(rotation = 90)\n",
    "plt.show()"
   ]
  },
  {
   "cell_type": "markdown",
   "id": "627e18f1",
   "metadata": {},
   "source": [
    "We observe a severe outlier in `RiskFree_Rate_1Month_Forward`. Since it is almost -100, we can assume this is some measurement error, so to fit a model it will be wise to drop this"
   ]
  },
  {
   "cell_type": "code",
   "execution_count": 11,
   "id": "3843c806",
   "metadata": {},
   "outputs": [],
   "source": [
    "#Filter out observations where the foward riskfree rate is greater than 50\n",
    "df = df.loc[abs(df['RiskFree_Rate_1Month_Forward']) < 50].copy()"
   ]
  },
  {
   "cell_type": "code",
   "execution_count": 12,
   "id": "33d19dca",
   "metadata": {
    "scrolled": false
   },
   "outputs": [
    {
     "data": {
      "image/png": "[encoded data removed]",
      "text/plain": [
       "<Figure size 640x480 with 1 Axes>"
      ]
     },
     "metadata": {},
     "output_type": "display_data"
    }
   ],
   "source": [
    "#Plot boxplots\n",
    "\n",
    "df.plot(kind = 'box')\n",
    "plt.xticks(rotation = 90)\n",
    "plt.show()"
   ]
  },
  {
   "cell_type": "markdown",
   "id": "d9fbc9c5",
   "metadata": {},
   "source": [
    "Despite there still being outliers, these values are within a more reasonable range, and hence this will not effect the generalisation of our model"
   ]
  },
  {
   "cell_type": "markdown",
   "id": "44e4eda2",
   "metadata": {},
   "source": [
    "We now take a look at summary statistics of our data"
   ]
  },
  {
   "cell_type": "code",
   "execution_count": 13,
   "id": "7b2bc141",
   "metadata": {},
   "outputs": [
    {
     "data": {
      "text/html": [
       "<div>\n",
       "<style scoped>\n",
       "    .dataframe tbody tr th:only-of-type {\n",
       "        vertical-align: middle;\n",
       "    }\n",
       "\n",
       "    .dataframe tbody tr th {\n",
       "        vertical-align: top;\n",
       "    }\n",
       "\n",
       "    .dataframe thead th {\n",
       "        text-align: right;\n",
       "    }\n",
       "</style>\n",
       "<table border=\"1\" class=\"dataframe\">\n",
       "  <thead>\n",
       "    <tr style=\"text-align: right;\">\n",
       "      <th></th>\n",
       "      <th>Return_with_Dividends</th>\n",
       "      <th>Return_without_Dividends</th>\n",
       "      <th>RiskFree_Rate_1Month_Forward</th>\n",
       "      <th>Return_1Month_Forward</th>\n",
       "      <th>Sigma</th>\n",
       "    </tr>\n",
       "  </thead>\n",
       "  <tbody>\n",
       "    <tr>\n",
       "      <th>count</th>\n",
       "      <td>6256.000000</td>\n",
       "      <td>6256.000000</td>\n",
       "      <td>6256.000000</td>\n",
       "      <td>6231.000000</td>\n",
       "      <td>5995.000000</td>\n",
       "    </tr>\n",
       "    <tr>\n",
       "      <th>mean</th>\n",
       "      <td>0.109455</td>\n",
       "      <td>-0.012911</td>\n",
       "      <td>0.130775</td>\n",
       "      <td>0.006096</td>\n",
       "      <td>0.069852</td>\n",
       "    </tr>\n",
       "    <tr>\n",
       "      <th>std</th>\n",
       "      <td>0.108956</td>\n",
       "      <td>0.096957</td>\n",
       "      <td>0.151515</td>\n",
       "      <td>0.057892</td>\n",
       "      <td>0.027024</td>\n",
       "    </tr>\n",
       "    <tr>\n",
       "      <th>min</th>\n",
       "      <td>-0.197034</td>\n",
       "      <td>-0.302599</td>\n",
       "      <td>-0.061559</td>\n",
       "      <td>-0.376489</td>\n",
       "      <td>0.027157</td>\n",
       "    </tr>\n",
       "    <tr>\n",
       "      <th>25%</th>\n",
       "      <td>0.031608</td>\n",
       "      <td>-0.077261</td>\n",
       "      <td>-0.015332</td>\n",
       "      <td>-0.022481</td>\n",
       "      <td>0.051304</td>\n",
       "    </tr>\n",
       "    <tr>\n",
       "      <th>50%</th>\n",
       "      <td>0.127174</td>\n",
       "      <td>0.005096</td>\n",
       "      <td>0.099123</td>\n",
       "      <td>0.011737</td>\n",
       "      <td>0.064311</td>\n",
       "    </tr>\n",
       "    <tr>\n",
       "      <th>75%</th>\n",
       "      <td>0.185965</td>\n",
       "      <td>0.052129</td>\n",
       "      <td>0.269003</td>\n",
       "      <td>0.040565</td>\n",
       "      <td>0.079704</td>\n",
       "    </tr>\n",
       "    <tr>\n",
       "      <th>max</th>\n",
       "      <td>0.406503</td>\n",
       "      <td>0.277510</td>\n",
       "      <td>0.490552</td>\n",
       "      <td>0.240728</td>\n",
       "      <td>0.248792</td>\n",
       "    </tr>\n",
       "  </tbody>\n",
       "</table>\n",
       "</div>"
      ],
      "text/plain": [
       "       Return_with_Dividends  Return_without_Dividends  \\\n",
       "count            6256.000000               6256.000000   \n",
       "mean                0.109455                 -0.012911   \n",
       "std                 0.108956                  0.096957   \n",
       "min                -0.197034                 -0.302599   \n",
       "25%                 0.031608                 -0.077261   \n",
       "50%                 0.127174                  0.005096   \n",
       "75%                 0.185965                  0.052129   \n",
       "max                 0.406503                  0.277510   \n",
       "\n",
       "       RiskFree_Rate_1Month_Forward  Return_1Month_Forward        Sigma  \n",
       "count                   6256.000000            6231.000000  5995.000000  \n",
       "mean                       0.130775               0.006096     0.069852  \n",
       "std                        0.151515               0.057892     0.027024  \n",
       "min                       -0.061559              -0.376489     0.027157  \n",
       "25%                       -0.015332              -0.022481     0.051304  \n",
       "50%                        0.099123               0.011737     0.064311  \n",
       "75%                        0.269003               0.040565     0.079704  \n",
       "max                        0.490552               0.240728     0.248792  "
      ]
     },
     "execution_count": 13,
     "metadata": {},
     "output_type": "execute_result"
    }
   ],
   "source": [
    "#Summary statistics\n",
    "df.describe()"
   ]
  },
  {
   "cell_type": "markdown",
   "id": "18644a6c",
   "metadata": {},
   "source": [
    "Notably, we see that `Return_without_Dividends` has a negative mean, which implies that on average the value from the past year of the equity excluding dividends actually decreases. From this we can deduce that on average dividends plays a more important role in the value of the equity year on year"
   ]
  },
  {
   "cell_type": "markdown",
   "id": "2a112434",
   "metadata": {},
   "source": [
    "## Data Augmentation"
   ]
  },
  {
   "cell_type": "markdown",
   "id": "38abac8a",
   "metadata": {},
   "source": [
    "We now wish to construct the variables $\\Delta d_t$ and $PD_t$. Using the derivations from Question A.1, we have the following:"
   ]
  },
  {
   "cell_type": "markdown",
   "id": "020c484f",
   "metadata": {},
   "source": [
    "$$\n",
    "    PD_t = \\frac{V_t + 1}{H_t - V_t}\n",
    "$$\n",
    "\n",
    "$$\n",
    "  \\Delta d_t = \\log \\left ( (H_t - V_t)(V_{t-1} + 1 ) \\right) - \\log \\left ( H_{t-1} - V_{t-1} \\right)\n",
    "$$"
   ]
  },
  {
   "cell_type": "markdown",
   "id": "dc69e6e3",
   "metadata": {},
   "source": [
    "### Price-to-Dividend Ratio $PD_t$"
   ]
  },
  {
   "cell_type": "markdown",
   "id": "9b2a35f2",
   "metadata": {},
   "source": [
    "In order to calculate the Price-to-Dividend ratio, we can simply augment the dataframe `df` to calculate this value given the formula. "
   ]
  },
  {
   "cell_type": "code",
   "execution_count": 14,
   "id": "6fe1bf49",
   "metadata": {},
   "outputs": [],
   "source": [
    "#Define the H_t and V_t columns\n",
    "H_t = df[\"Return_with_Dividends\"]\n",
    "V_t = df[\"Return_without_Dividends\"]\n",
    "\n",
    "#Augment a column PD_t which applies the relevant function\n",
    "df['PD_t'] = (V_t+1)/(H_t - V_t)"
   ]
  },
  {
   "cell_type": "markdown",
   "id": "fb15f215",
   "metadata": {},
   "source": [
    "### Log dividend growth $\\Delta d_t$"
   ]
  },
  {
   "cell_type": "markdown",
   "id": "903200d7",
   "metadata": {},
   "source": [
    "We can again apply the formula for $\\Delta d_t$ listed above to augment the data."
   ]
  },
  {
   "cell_type": "code",
   "execution_count": 15,
   "id": "1eaba7d1",
   "metadata": {},
   "outputs": [],
   "source": [
    "#Augment a column delta_d which applies the relevant function\n",
    "df[\"delta_d\"] = np.log((H_t.shift() - V_t.shift())*(V_t+1)) - np.log(H_t - V_t)"
   ]
  },
  {
   "cell_type": "markdown",
   "id": "8e95189c",
   "metadata": {},
   "source": [
    "### Augmented data"
   ]
  },
  {
   "cell_type": "markdown",
   "id": "940a1afd",
   "metadata": {},
   "source": [
    "We can now inspect our new, augmented data."
   ]
  },
  {
   "cell_type": "code",
   "execution_count": 16,
   "id": "fbd3fe01",
   "metadata": {},
   "outputs": [
    {
     "data": {
      "text/html": [
       "<div>\n",
       "<style scoped>\n",
       "    .dataframe tbody tr th:only-of-type {\n",
       "        vertical-align: middle;\n",
       "    }\n",
       "\n",
       "    .dataframe tbody tr th {\n",
       "        vertical-align: top;\n",
       "    }\n",
       "\n",
       "    .dataframe thead th {\n",
       "        text-align: right;\n",
       "    }\n",
       "</style>\n",
       "<table border=\"1\" class=\"dataframe\">\n",
       "  <thead>\n",
       "    <tr style=\"text-align: right;\">\n",
       "      <th></th>\n",
       "      <th>Return_with_Dividends</th>\n",
       "      <th>Return_without_Dividends</th>\n",
       "      <th>RiskFree_Rate_1Month_Forward</th>\n",
       "      <th>Return_1Month_Forward</th>\n",
       "      <th>Sigma</th>\n",
       "      <th>PD_t</th>\n",
       "      <th>delta_d</th>\n",
       "    </tr>\n",
       "    <tr>\n",
       "      <th>date</th>\n",
       "      <th></th>\n",
       "      <th></th>\n",
       "      <th></th>\n",
       "      <th></th>\n",
       "      <th></th>\n",
       "      <th></th>\n",
       "      <th></th>\n",
       "    </tr>\n",
       "  </thead>\n",
       "  <tbody>\n",
       "    <tr>\n",
       "      <th>1998-02</th>\n",
       "      <td>0.304277</td>\n",
       "      <td>0.143167</td>\n",
       "      <td>0.350638</td>\n",
       "      <td>0.055277</td>\n",
       "      <td>NaN</td>\n",
       "      <td>7.095540</td>\n",
       "      <td>NaN</td>\n",
       "    </tr>\n",
       "    <tr>\n",
       "      <th>1998-02</th>\n",
       "      <td>0.291903</td>\n",
       "      <td>0.154534</td>\n",
       "      <td>0.363007</td>\n",
       "      <td>0.025068</td>\n",
       "      <td>NaN</td>\n",
       "      <td>8.404637</td>\n",
       "      <td>0.303119</td>\n",
       "    </tr>\n",
       "    <tr>\n",
       "      <th>1998-02</th>\n",
       "      <td>0.269282</td>\n",
       "      <td>0.179072</td>\n",
       "      <td>0.365795</td>\n",
       "      <td>0.043227</td>\n",
       "      <td>NaN</td>\n",
       "      <td>13.070375</td>\n",
       "      <td>0.585262</td>\n",
       "    </tr>\n",
       "    <tr>\n",
       "      <th>1998-02</th>\n",
       "      <td>0.290409</td>\n",
       "      <td>0.160366</td>\n",
       "      <td>0.377143</td>\n",
       "      <td>0.056165</td>\n",
       "      <td>NaN</td>\n",
       "      <td>8.922924</td>\n",
       "      <td>-0.216997</td>\n",
       "    </tr>\n",
       "    <tr>\n",
       "      <th>1998-02</th>\n",
       "      <td>0.268346</td>\n",
       "      <td>0.149079</td>\n",
       "      <td>0.350271</td>\n",
       "      <td>0.074432</td>\n",
       "      <td>NaN</td>\n",
       "      <td>9.634514</td>\n",
       "      <td>0.225464</td>\n",
       "    </tr>\n",
       "  </tbody>\n",
       "</table>\n",
       "</div>"
      ],
      "text/plain": [
       "         Return_with_Dividends  Return_without_Dividends  \\\n",
       "date                                                       \n",
       "1998-02               0.304277                  0.143167   \n",
       "1998-02               0.291903                  0.154534   \n",
       "1998-02               0.269282                  0.179072   \n",
       "1998-02               0.290409                  0.160366   \n",
       "1998-02               0.268346                  0.149079   \n",
       "\n",
       "         RiskFree_Rate_1Month_Forward  Return_1Month_Forward  Sigma  \\\n",
       "date                                                                  \n",
       "1998-02                      0.350638               0.055277    NaN   \n",
       "1998-02                      0.363007               0.025068    NaN   \n",
       "1998-02                      0.365795               0.043227    NaN   \n",
       "1998-02                      0.377143               0.056165    NaN   \n",
       "1998-02                      0.350271               0.074432    NaN   \n",
       "\n",
       "              PD_t   delta_d  \n",
       "date                          \n",
       "1998-02   7.095540       NaN  \n",
       "1998-02   8.404637  0.303119  \n",
       "1998-02  13.070375  0.585262  \n",
       "1998-02   8.922924 -0.216997  \n",
       "1998-02   9.634514  0.225464  "
      ]
     },
     "execution_count": 16,
     "metadata": {},
     "output_type": "execute_result"
    }
   ],
   "source": [
    "#Print data\n",
    "df.head()"
   ]
  },
  {
   "cell_type": "code",
   "execution_count": 17,
   "id": "32f6eb65",
   "metadata": {},
   "outputs": [],
   "source": [
    "df.dropna(inplace = True)"
   ]
  },
  {
   "cell_type": "markdown",
   "id": "689e7923",
   "metadata": {},
   "source": [
    "## Further Exploratory Data Analysis"
   ]
  },
  {
   "cell_type": "markdown",
   "id": "d3028f4d",
   "metadata": {},
   "source": [
    "Before fitting models, we can perform some more exploratory data analysis on our augmented data"
   ]
  },
  {
   "cell_type": "code",
   "execution_count": 18,
   "id": "890891b9",
   "metadata": {},
   "outputs": [
    {
     "data": {
      "text/html": [
       "<div>\n",
       "<style scoped>\n",
       "    .dataframe tbody tr th:only-of-type {\n",
       "        vertical-align: middle;\n",
       "    }\n",
       "\n",
       "    .dataframe tbody tr th {\n",
       "        vertical-align: top;\n",
       "    }\n",
       "\n",
       "    .dataframe thead th {\n",
       "        text-align: right;\n",
       "    }\n",
       "</style>\n",
       "<table border=\"1\" class=\"dataframe\">\n",
       "  <thead>\n",
       "    <tr style=\"text-align: right;\">\n",
       "      <th></th>\n",
       "      <th>Return_with_Dividends</th>\n",
       "      <th>Return_without_Dividends</th>\n",
       "      <th>RiskFree_Rate_1Month_Forward</th>\n",
       "      <th>Return_1Month_Forward</th>\n",
       "      <th>Sigma</th>\n",
       "      <th>PD_t</th>\n",
       "      <th>delta_d</th>\n",
       "    </tr>\n",
       "  </thead>\n",
       "  <tbody>\n",
       "    <tr>\n",
       "      <th>count</th>\n",
       "      <td>5971.000000</td>\n",
       "      <td>5971.000000</td>\n",
       "      <td>5971.000000</td>\n",
       "      <td>5971.000000</td>\n",
       "      <td>5971.000000</td>\n",
       "      <td>5971.000000</td>\n",
       "      <td>5971.000000</td>\n",
       "    </tr>\n",
       "    <tr>\n",
       "      <th>mean</th>\n",
       "      <td>0.102810</td>\n",
       "      <td>-0.018293</td>\n",
       "      <td>0.121496</td>\n",
       "      <td>0.005252</td>\n",
       "      <td>0.069832</td>\n",
       "      <td>8.535103</td>\n",
       "      <td>-0.023104</td>\n",
       "    </tr>\n",
       "    <tr>\n",
       "      <th>std</th>\n",
       "      <td>0.105308</td>\n",
       "      <td>0.094029</td>\n",
       "      <td>0.147965</td>\n",
       "      <td>0.056380</td>\n",
       "      <td>0.027029</td>\n",
       "      <td>2.327232</td>\n",
       "      <td>0.249851</td>\n",
       "    </tr>\n",
       "    <tr>\n",
       "      <th>min</th>\n",
       "      <td>-0.197034</td>\n",
       "      <td>-0.302599</td>\n",
       "      <td>-0.061559</td>\n",
       "      <td>-0.376489</td>\n",
       "      <td>0.027157</td>\n",
       "      <td>4.440278</td>\n",
       "      <td>-1.404444</td>\n",
       "    </tr>\n",
       "    <tr>\n",
       "      <th>25%</th>\n",
       "      <td>0.025011</td>\n",
       "      <td>-0.081317</td>\n",
       "      <td>-0.021998</td>\n",
       "      <td>-0.022905</td>\n",
       "      <td>0.051291</td>\n",
       "      <td>7.051794</td>\n",
       "      <td>-0.175724</td>\n",
       "    </tr>\n",
       "    <tr>\n",
       "      <th>50%</th>\n",
       "      <td>0.120728</td>\n",
       "      <td>0.001013</td>\n",
       "      <td>0.076496</td>\n",
       "      <td>0.010877</td>\n",
       "      <td>0.064296</td>\n",
       "      <td>8.063557</td>\n",
       "      <td>-0.015668</td>\n",
       "    </tr>\n",
       "    <tr>\n",
       "      <th>75%</th>\n",
       "      <td>0.178863</td>\n",
       "      <td>0.047718</td>\n",
       "      <td>0.250311</td>\n",
       "      <td>0.039029</td>\n",
       "      <td>0.079680</td>\n",
       "      <td>9.408249</td>\n",
       "      <td>0.135393</td>\n",
       "    </tr>\n",
       "    <tr>\n",
       "      <th>max</th>\n",
       "      <td>0.406503</td>\n",
       "      <td>0.277510</td>\n",
       "      <td>0.490552</td>\n",
       "      <td>0.211338</td>\n",
       "      <td>0.248792</td>\n",
       "      <td>54.194632</td>\n",
       "      <td>1.160398</td>\n",
       "    </tr>\n",
       "  </tbody>\n",
       "</table>\n",
       "</div>"
      ],
      "text/plain": [
       "       Return_with_Dividends  Return_without_Dividends  \\\n",
       "count            5971.000000               5971.000000   \n",
       "mean                0.102810                 -0.018293   \n",
       "std                 0.105308                  0.094029   \n",
       "min                -0.197034                 -0.302599   \n",
       "25%                 0.025011                 -0.081317   \n",
       "50%                 0.120728                  0.001013   \n",
       "75%                 0.178863                  0.047718   \n",
       "max                 0.406503                  0.277510   \n",
       "\n",
       "       RiskFree_Rate_1Month_Forward  Return_1Month_Forward        Sigma  \\\n",
       "count                   5971.000000            5971.000000  5971.000000   \n",
       "mean                       0.121496               0.005252     0.069832   \n",
       "std                        0.147965               0.056380     0.027029   \n",
       "min                       -0.061559              -0.376489     0.027157   \n",
       "25%                       -0.021998              -0.022905     0.051291   \n",
       "50%                        0.076496               0.010877     0.064296   \n",
       "75%                        0.250311               0.039029     0.079680   \n",
       "max                        0.490552               0.211338     0.248792   \n",
       "\n",
       "              PD_t      delta_d  \n",
       "count  5971.000000  5971.000000  \n",
       "mean      8.535103    -0.023104  \n",
       "std       2.327232     0.249851  \n",
       "min       4.440278    -1.404444  \n",
       "25%       7.051794    -0.175724  \n",
       "50%       8.063557    -0.015668  \n",
       "75%       9.408249     0.135393  \n",
       "max      54.194632     1.160398  "
      ]
     },
     "execution_count": 18,
     "metadata": {},
     "output_type": "execute_result"
    }
   ],
   "source": [
    "#Summary Statistics\n",
    "df.describe()"
   ]
  },
  {
   "cell_type": "markdown",
   "id": "f88a40fc",
   "metadata": {},
   "source": [
    "Although the Price-to-Dividend ratio has a far larger magnitude than the other predictors, since it is a calculated value from the clean data we will keep it in our models"
   ]
  },
  {
   "cell_type": "markdown",
   "id": "5489010d",
   "metadata": {},
   "source": [
    "As given, our team hypothesises that we can predict returns using $PD_t$ and $\\Delta d_t$. So we now wish to visualise the relationship between these two variables, to inform model selection."
   ]
  },
  {
   "cell_type": "code",
   "execution_count": 19,
   "id": "318b00eb",
   "metadata": {
    "scrolled": false
   },
   "outputs": [
    {
     "data": {
      "image/png": "[encoded data removed]",
      "text/plain": [
       "<Figure size 640x480 with 1 Axes>"
      ]
     },
     "metadata": {},
     "output_type": "display_data"
    }
   ],
   "source": [
    "df.plot(x='PD_t', y='Return_1Month_Forward', style='o')\n",
    "plt.show()"
   ]
  },
  {
   "cell_type": "code",
   "execution_count": 20,
   "id": "19ccdfbc",
   "metadata": {},
   "outputs": [
    {
     "data": {
      "image/png": "[encoded data removed]",
      "text/plain": [
       "<Figure size 640x480 with 1 Axes>"
      ]
     },
     "metadata": {},
     "output_type": "display_data"
    }
   ],
   "source": [
    "df.plot(x='delta_d', y='Return_1Month_Forward', style='o')\n",
    "plt.show()"
   ]
  },
  {
   "cell_type": "markdown",
   "id": "0ff0e43c",
   "metadata": {},
   "source": [
    "We observe that there may be a small non-linear relationship between $PD_t$ and $R_t$, but there appears to be no discernable relationship between $\\Delta d_t$ and $R_t$"
   ]
  },
  {
   "cell_type": "markdown",
   "id": "3ad587f9",
   "metadata": {},
   "source": [
    "We now inspect the considered variable over the time-frame"
   ]
  },
  {
   "cell_type": "code",
   "execution_count": 16,
   "id": "d060eca9",
   "metadata": {},
   "outputs": [
    {
     "ename": "KeyError",
     "evalue": "'date'",
     "output_type": "error",
     "traceback": [
      "\u001b[1;31m---------------------------------------------------------------------------\u001b[0m",
      "\u001b[1;31mKeyError\u001b[0m                                  Traceback (most recent call last)",
      "File \u001b[1;32mC:\\ProgramData\\anaconda3\\envs\\ultramarin\\lib\\site-packages\\pandas\\core\\indexes\\base.py:3802\u001b[0m, in \u001b[0;36mIndex.get_loc\u001b[1;34m(self, key, method, tolerance)\u001b[0m\n\u001b[0;32m   3801\u001b[0m \u001b[38;5;28;01mtry\u001b[39;00m:\n\u001b[1;32m-> 3802\u001b[0m     \u001b[38;5;28;01mreturn\u001b[39;00m \u001b[38;5;28;43mself\u001b[39;49m\u001b[38;5;241;43m.\u001b[39;49m\u001b[43m_engine\u001b[49m\u001b[38;5;241;43m.\u001b[39;49m\u001b[43mget_loc\u001b[49m\u001b[43m(\u001b[49m\u001b[43mcasted_key\u001b[49m\u001b[43m)\u001b[49m\n\u001b[0;32m   3803\u001b[0m \u001b[38;5;28;01mexcept\u001b[39;00m \u001b[38;5;167;01mKeyError\u001b[39;00m \u001b[38;5;28;01mas\u001b[39;00m err:\n",
      "File \u001b[1;32mC:\\ProgramData\\anaconda3\\envs\\ultramarin\\lib\\site-packages\\pandas\\_libs\\index.pyx:138\u001b[0m, in \u001b[0;36mpandas._libs.index.IndexEngine.get_loc\u001b[1;34m()\u001b[0m\n",
      "File \u001b[1;32mC:\\ProgramData\\anaconda3\\envs\\ultramarin\\lib\\site-packages\\pandas\\_libs\\index.pyx:165\u001b[0m, in \u001b[0;36mpandas._libs.index.IndexEngine.get_loc\u001b[1;34m()\u001b[0m\n",
      "File \u001b[1;32mpandas\\_libs\\hashtable_class_helper.pxi:5745\u001b[0m, in \u001b[0;36mpandas._libs.hashtable.PyObjectHashTable.get_item\u001b[1;34m()\u001b[0m\n",
      "File \u001b[1;32mpandas\\_libs\\hashtable_class_helper.pxi:5753\u001b[0m, in \u001b[0;36mpandas._libs.hashtable.PyObjectHashTable.get_item\u001b[1;34m()\u001b[0m\n",
      "\u001b[1;31mKeyError\u001b[0m: 'date'",
      "\nThe above exception was the direct cause of the following exception:\n",
      "\u001b[1;31mKeyError\u001b[0m                                  Traceback (most recent call last)",
      "Cell \u001b[1;32mIn[16], line 1\u001b[0m\n\u001b[1;32m----> 1\u001b[0m \u001b[43mdf\u001b[49m\u001b[38;5;241;43m.\u001b[39;49m\u001b[43mplot\u001b[49m\u001b[43m(\u001b[49m\u001b[43mx\u001b[49m\u001b[38;5;241;43m=\u001b[39;49m\u001b[38;5;124;43m'\u001b[39;49m\u001b[38;5;124;43mdate\u001b[39;49m\u001b[38;5;124;43m'\u001b[39;49m\u001b[43m,\u001b[49m\u001b[43m \u001b[49m\u001b[43my\u001b[49m\u001b[38;5;241;43m=\u001b[39;49m\u001b[38;5;124;43m'\u001b[39;49m\u001b[38;5;124;43mReturn_1Month_Forward\u001b[39;49m\u001b[38;5;124;43m'\u001b[39;49m\u001b[43m)\u001b[49m\n\u001b[0;32m      2\u001b[0m plt\u001b[38;5;241m.\u001b[39mshow()\n",
      "File \u001b[1;32mC:\\ProgramData\\anaconda3\\envs\\ultramarin\\lib\\site-packages\\pandas\\plotting\\_core.py:965\u001b[0m, in \u001b[0;36mPlotAccessor.__call__\u001b[1;34m(self, *args, **kwargs)\u001b[0m\n\u001b[0;32m    963\u001b[0m \u001b[38;5;28;01mif\u001b[39;00m is_integer(x) \u001b[38;5;129;01mand\u001b[39;00m \u001b[38;5;129;01mnot\u001b[39;00m data\u001b[38;5;241m.\u001b[39mcolumns\u001b[38;5;241m.\u001b[39mholds_integer():\n\u001b[0;32m    964\u001b[0m     x \u001b[38;5;241m=\u001b[39m data_cols[x]\n\u001b[1;32m--> 965\u001b[0m \u001b[38;5;28;01melif\u001b[39;00m \u001b[38;5;129;01mnot\u001b[39;00m \u001b[38;5;28misinstance\u001b[39m(\u001b[43mdata\u001b[49m\u001b[43m[\u001b[49m\u001b[43mx\u001b[49m\u001b[43m]\u001b[49m, ABCSeries):\n\u001b[0;32m    966\u001b[0m     \u001b[38;5;28;01mraise\u001b[39;00m \u001b[38;5;167;01mValueError\u001b[39;00m(\u001b[38;5;124m\"\u001b[39m\u001b[38;5;124mx must be a label or position\u001b[39m\u001b[38;5;124m\"\u001b[39m)\n\u001b[0;32m    967\u001b[0m data \u001b[38;5;241m=\u001b[39m data\u001b[38;5;241m.\u001b[39mset_index(x)\n",
      "File \u001b[1;32mC:\\ProgramData\\anaconda3\\envs\\ultramarin\\lib\\site-packages\\pandas\\core\\frame.py:3807\u001b[0m, in \u001b[0;36mDataFrame.__getitem__\u001b[1;34m(self, key)\u001b[0m\n\u001b[0;32m   3805\u001b[0m \u001b[38;5;28;01mif\u001b[39;00m \u001b[38;5;28mself\u001b[39m\u001b[38;5;241m.\u001b[39mcolumns\u001b[38;5;241m.\u001b[39mnlevels \u001b[38;5;241m>\u001b[39m \u001b[38;5;241m1\u001b[39m:\n\u001b[0;32m   3806\u001b[0m     \u001b[38;5;28;01mreturn\u001b[39;00m \u001b[38;5;28mself\u001b[39m\u001b[38;5;241m.\u001b[39m_getitem_multilevel(key)\n\u001b[1;32m-> 3807\u001b[0m indexer \u001b[38;5;241m=\u001b[39m \u001b[38;5;28;43mself\u001b[39;49m\u001b[38;5;241;43m.\u001b[39;49m\u001b[43mcolumns\u001b[49m\u001b[38;5;241;43m.\u001b[39;49m\u001b[43mget_loc\u001b[49m\u001b[43m(\u001b[49m\u001b[43mkey\u001b[49m\u001b[43m)\u001b[49m\n\u001b[0;32m   3808\u001b[0m \u001b[38;5;28;01mif\u001b[39;00m is_integer(indexer):\n\u001b[0;32m   3809\u001b[0m     indexer \u001b[38;5;241m=\u001b[39m [indexer]\n",
      "File \u001b[1;32mC:\\ProgramData\\anaconda3\\envs\\ultramarin\\lib\\site-packages\\pandas\\core\\indexes\\base.py:3804\u001b[0m, in \u001b[0;36mIndex.get_loc\u001b[1;34m(self, key, method, tolerance)\u001b[0m\n\u001b[0;32m   3802\u001b[0m     \u001b[38;5;28;01mreturn\u001b[39;00m \u001b[38;5;28mself\u001b[39m\u001b[38;5;241m.\u001b[39m_engine\u001b[38;5;241m.\u001b[39mget_loc(casted_key)\n\u001b[0;32m   3803\u001b[0m \u001b[38;5;28;01mexcept\u001b[39;00m \u001b[38;5;167;01mKeyError\u001b[39;00m \u001b[38;5;28;01mas\u001b[39;00m err:\n\u001b[1;32m-> 3804\u001b[0m     \u001b[38;5;28;01mraise\u001b[39;00m \u001b[38;5;167;01mKeyError\u001b[39;00m(key) \u001b[38;5;28;01mfrom\u001b[39;00m \u001b[38;5;21;01merr\u001b[39;00m\n\u001b[0;32m   3805\u001b[0m \u001b[38;5;28;01mexcept\u001b[39;00m \u001b[38;5;167;01mTypeError\u001b[39;00m:\n\u001b[0;32m   3806\u001b[0m     \u001b[38;5;66;03m# If we have a listlike key, _check_indexing_error will raise\u001b[39;00m\n\u001b[0;32m   3807\u001b[0m     \u001b[38;5;66;03m#  InvalidIndexError. Otherwise we fall through and re-raise\u001b[39;00m\n\u001b[0;32m   3808\u001b[0m     \u001b[38;5;66;03m#  the TypeError.\u001b[39;00m\n\u001b[0;32m   3809\u001b[0m     \u001b[38;5;28mself\u001b[39m\u001b[38;5;241m.\u001b[39m_check_indexing_error(key)\n",
      "\u001b[1;31mKeyError\u001b[0m: 'date'"
     ]
    }
   ],
   "source": [
    "# df.plot(x='date', y='Return_1Month_Forward')\n",
    "# plt.show()"
   ]
  },
  {
   "cell_type": "code",
   "execution_count": 70,
   "id": "e7f28e9e",
   "metadata": {},
   "outputs": [
    {
     "data": {
      "image/png": "[encoded data removed]",
      "text/plain": [
       "<Figure size 640x480 with 1 Axes>"
      ]
     },
     "metadata": {},
     "output_type": "display_data"
    }
   ],
   "source": [
    "# df.plot(x='date', y='PD_t')\n",
    "# plt.show()"
   ]
  },
  {
   "cell_type": "code",
   "execution_count": 71,
   "id": "9502ea04",
   "metadata": {},
   "outputs": [
    {
     "data": {
      "image/png": "[encoded data removed]",
      "text/plain": [
       "<Figure size 640x480 with 1 Axes>"
      ]
     },
     "metadata": {},
     "output_type": "display_data"
    }
   ],
   "source": [
    "# df.plot(x='date', y='delta_d')\n",
    "# plt.show()"
   ]
  },
  {
   "cell_type": "markdown",
   "id": "82c39152",
   "metadata": {},
   "source": [
    "We can now check autocorrelation plots, "
   ]
  },
  {
   "cell_type": "code",
   "execution_count": 42,
   "id": "5707ca81",
   "metadata": {
    "scrolled": false
   },
   "outputs": [
    {
     "data": {
      "image/png": "[encoded data removed]",
      "text/plain": [
       "<Figure size 1600x300 with 2 Axes>"
      ]
     },
     "execution_count": 42,
     "metadata": {},
     "output_type": "execute_result"
    },
    {
     "data": {
      "image/png": "[encoded data removed]",
      "text/plain": [
       "<Figure size 1600x300 with 2 Axes>"
      ]
     },
     "metadata": {},
     "output_type": "display_data"
    }
   ],
   "source": [
    "# df ['date'] = df ['date'].apply(mpl_dates.date2num)\n",
    "# df ['date'] = df ['date'].astype(float)\n",
    "# autocorrelation_plot(df['date'])\n",
    "# plt.show()\n",
    "\n",
    "# fig, axes = plt.subplots(1,2,figsize=(16,3), dpi= 100)\n",
    "# plot_acf(df['Return_1Month_Forward'].tolist(), lags=50, ax=axes[0])\n",
    "# plot_pacf(df['Return_1Month_Forward'].tolist(), lags=50, ax=axes[1], method = 'ywm')"
   ]
  },
  {
   "cell_type": "code",
   "execution_count": 43,
   "id": "4a76d4a1",
   "metadata": {},
   "outputs": [
    {
     "ename": "SyntaxError",
     "evalue": "incomplete input (3493033192.py, line 3)",
     "output_type": "error",
     "traceback": [
      "\u001b[1;36m  Cell \u001b[1;32mIn[43], line 3\u001b[1;36m\u001b[0m\n\u001b[1;33m    plot_pacf(df['Return_1Month_Forward'].tolist(), lags=20, ax=axes[1], method = 'ywm'\u001b[0m\n\u001b[1;37m                                                                                       ^\u001b[0m\n\u001b[1;31mSyntaxError\u001b[0m\u001b[1;31m:\u001b[0m incomplete input\n"
     ]
    }
   ],
   "source": [
    "# fig, axes = plt.subplots(1,2,figsize=(16,3), dpi= 100)\n",
    "# plot_acf(df['Return_1Month_Forward'].tolist(), lags=20, ax=axes[0])\n",
    "# plot_pacf(df['Return_1Month_Forward'].tolist(), lags=20, ax=axes[1], method = 'ywm')"
   ]
  },
  {
   "cell_type": "markdown",
   "id": "f9db77dd",
   "metadata": {},
   "source": [
    "## Fitting Models"
   ]
  },
  {
   "cell_type": "markdown",
   "id": "2aa7897d",
   "metadata": {},
   "source": [
    "In order to account for the time-series aspect of the data, we will fit models that account for this. This section documents the construction, fitting, and tuning of the various models"
   ]
  },
  {
   "cell_type": "markdown",
   "id": "ffbfdb38",
   "metadata": {},
   "source": [
    "### Train and Validation Split"
   ]
  },
  {
   "cell_type": "markdown",
   "id": "d37c548a",
   "metadata": {},
   "source": [
    "First we can isolate the variables of interest, namely $R_t$, $PD_t$ and $\\Delta d_t$"
   ]
  },
  {
   "cell_type": "code",
   "execution_count": 112,
   "id": "43b33f07",
   "metadata": {},
   "outputs": [],
   "source": [
    "df_iso = df.loc[:,['Return_1Month_Forward', 'PD_t', 'delta_d']]"
   ]
  },
  {
   "cell_type": "markdown",
   "id": "7a3554a0",
   "metadata": {},
   "source": [
    "Next we want to split our data into a train and validation set, we use a 0.8/0.2 split."
   ]
  },
  {
   "cell_type": "code",
   "execution_count": 132,
   "id": "f16d7407",
   "metadata": {},
   "outputs": [],
   "source": [
    "train = df_iso[:int(0.8*(len(df)))]\n",
    "valid = df_iso[int(0.2*(len(df))):]"
   ]
  },
  {
   "cell_type": "code",
   "execution_count": 133,
   "id": "a50d52a1",
   "metadata": {},
   "outputs": [
    {
     "data": {
      "text/html": [
       "<div>\n",
       "<style scoped>\n",
       "    .dataframe tbody tr th:only-of-type {\n",
       "        vertical-align: middle;\n",
       "    }\n",
       "\n",
       "    .dataframe tbody tr th {\n",
       "        vertical-align: top;\n",
       "    }\n",
       "\n",
       "    .dataframe thead th {\n",
       "        text-align: right;\n",
       "    }\n",
       "</style>\n",
       "<table border=\"1\" class=\"dataframe\">\n",
       "  <thead>\n",
       "    <tr style=\"text-align: right;\">\n",
       "      <th></th>\n",
       "      <th>Return_1Month_Forward</th>\n",
       "      <th>PD_t</th>\n",
       "      <th>delta_d</th>\n",
       "    </tr>\n",
       "    <tr>\n",
       "      <th>date</th>\n",
       "      <th></th>\n",
       "      <th></th>\n",
       "      <th></th>\n",
       "    </tr>\n",
       "  </thead>\n",
       "  <tbody>\n",
       "    <tr>\n",
       "      <th>1999-02</th>\n",
       "      <td>-0.021283</td>\n",
       "      <td>5.447025</td>\n",
       "      <td>-0.140135</td>\n",
       "    </tr>\n",
       "    <tr>\n",
       "      <th>1999-02</th>\n",
       "      <td>-0.034798</td>\n",
       "      <td>5.813693</td>\n",
       "      <td>0.131926</td>\n",
       "    </tr>\n",
       "    <tr>\n",
       "      <th>1999-02</th>\n",
       "      <td>-0.067520</td>\n",
       "      <td>5.482507</td>\n",
       "      <td>0.004190</td>\n",
       "    </tr>\n",
       "    <tr>\n",
       "      <th>1999-02</th>\n",
       "      <td>-0.045575</td>\n",
       "      <td>5.485589</td>\n",
       "      <td>0.073326</td>\n",
       "    </tr>\n",
       "    <tr>\n",
       "      <th>1999-02</th>\n",
       "      <td>-0.041374</td>\n",
       "      <td>5.973561</td>\n",
       "      <td>0.156477</td>\n",
       "    </tr>\n",
       "    <tr>\n",
       "      <th>...</th>\n",
       "      <td>...</td>\n",
       "      <td>...</td>\n",
       "      <td>...</td>\n",
       "    </tr>\n",
       "    <tr>\n",
       "      <th>2017-06</th>\n",
       "      <td>-0.018832</td>\n",
       "      <td>7.125652</td>\n",
       "      <td>0.132897</td>\n",
       "    </tr>\n",
       "    <tr>\n",
       "      <th>2017-06</th>\n",
       "      <td>-0.007089</td>\n",
       "      <td>8.243102</td>\n",
       "      <td>0.186274</td>\n",
       "    </tr>\n",
       "    <tr>\n",
       "      <th>2017-07</th>\n",
       "      <td>-0.004496</td>\n",
       "      <td>7.691065</td>\n",
       "      <td>-0.033880</td>\n",
       "    </tr>\n",
       "    <tr>\n",
       "      <th>2017-07</th>\n",
       "      <td>-0.007201</td>\n",
       "      <td>7.644377</td>\n",
       "      <td>0.032042</td>\n",
       "    </tr>\n",
       "    <tr>\n",
       "      <th>2017-07</th>\n",
       "      <td>-0.037389</td>\n",
       "      <td>7.473010</td>\n",
       "      <td>-0.002580</td>\n",
       "    </tr>\n",
       "  </tbody>\n",
       "</table>\n",
       "<p>4776 rows × 3 columns</p>\n",
       "</div>"
      ],
      "text/plain": [
       "         Return_1Month_Forward      PD_t   delta_d\n",
       "date                                              \n",
       "1999-02              -0.021283  5.447025 -0.140135\n",
       "1999-02              -0.034798  5.813693  0.131926\n",
       "1999-02              -0.067520  5.482507  0.004190\n",
       "1999-02              -0.045575  5.485589  0.073326\n",
       "1999-02              -0.041374  5.973561  0.156477\n",
       "...                        ...       ...       ...\n",
       "2017-06              -0.018832  7.125652  0.132897\n",
       "2017-06              -0.007089  8.243102  0.186274\n",
       "2017-07              -0.004496  7.691065 -0.033880\n",
       "2017-07              -0.007201  7.644377  0.032042\n",
       "2017-07              -0.037389  7.473010 -0.002580\n",
       "\n",
       "[4776 rows x 3 columns]"
      ]
     },
     "execution_count": 133,
     "metadata": {},
     "output_type": "execute_result"
    }
   ],
   "source": [
    "train"
   ]
  },
  {
   "cell_type": "markdown",
   "id": "3de96874",
   "metadata": {},
   "source": [
    "We will also split this set into X and y sets for model fitting."
   ]
  },
  {
   "cell_type": "code",
   "execution_count": 134,
   "id": "09e236b2",
   "metadata": {},
   "outputs": [],
   "source": [
    "X_train = train.loc[:,['PD_t', 'delta_d']]\n",
    "X_valid = valid.loc[:,['PD_t', 'delta_d']]\n",
    "\n",
    "y_train = train.loc[:,['Return_1Month_Forward']]\n",
    "y_valid = valid.loc[:,['Return_1Month_Forward']]"
   ]
  },
  {
   "cell_type": "markdown",
   "id": "68110d18",
   "metadata": {},
   "source": [
    "### Vector Auto-Regressive Model"
   ]
  },
  {
   "cell_type": "markdown",
   "id": "2d6dca09",
   "metadata": {},
   "source": [
    "Since the data is in a time-series, we want to make use of this as well as the the relevant variables. Due to this, we first fit a Vector Auto-Regressive model."
   ]
  },
  {
   "cell_type": "markdown",
   "id": "ed15c7eb",
   "metadata": {},
   "source": [
    "In order to assess whether this model is appropriate, we need to check the stationarity of our time series data."
   ]
  },
  {
   "cell_type": "code",
   "execution_count": 136,
   "id": "b6da2f2d",
   "metadata": {
    "scrolled": true
   },
   "outputs": [
    {
     "name": "stdout",
     "output_type": "stream",
     "text": [
      "ADF Statistic: -4.167407\n",
      "p-value: 0.000748\n",
      "Critical Values:\n",
      "\t1%: -3.431\n",
      "\t5%: -2.862\n",
      "\t10%: -2.567\n"
     ]
    }
   ],
   "source": [
    "PD_t_adf = adfuller(df_iso[\"PD_t\"])\n",
    "print('ADF Statistic: %f' % PD_t_adf[0])\n",
    "print('p-value: %f' % PD_t_adf[1])\n",
    "print('Critical Values:')\n",
    "for key, value in PD_t_adf[4].items():\n",
    "     print('\\t%s: %.3f' % (key, value))"
   ]
  },
  {
   "cell_type": "code",
   "execution_count": 137,
   "id": "c6a06b08",
   "metadata": {},
   "outputs": [
    {
     "name": "stdout",
     "output_type": "stream",
     "text": [
      "ADF Statistic: -3.097147\n",
      "p-value: 0.026765\n",
      "Critical Values:\n",
      "\t1%: -3.431\n",
      "\t5%: -2.862\n",
      "\t10%: -2.567\n"
     ]
    }
   ],
   "source": [
    "delta_d_adf = adfuller(df_iso[\"delta_d\"])\n",
    "print('ADF Statistic: %f' % delta_d_adf[0])\n",
    "print('p-value: %f' % delta_d_adf[1])\n",
    "print('Critical Values:')\n",
    "for key, value in delta_d_adf[4].items():\n",
    "     print('\\t%s: %.3f' % (key, value))"
   ]
  },
  {
   "cell_type": "code",
   "execution_count": 138,
   "id": "3ef5f3e2",
   "metadata": {
    "scrolled": true
   },
   "outputs": [
    {
     "name": "stdout",
     "output_type": "stream",
     "text": [
      "ADF Statistic: -10.891709\n",
      "p-value: 0.000000\n",
      "Critical Values:\n",
      "\t1%: -3.431\n",
      "\t5%: -2.862\n",
      "\t10%: -2.567\n"
     ]
    }
   ],
   "source": [
    "returns_adf = adfuller(df_iso['Return_1Month_Forward'])\n",
    "print('ADF Statistic: %f' % returns_adf[0])\n",
    "print('p-value: %f' % returns_adf[1])\n",
    "print('Critical Values:')\n",
    "for key, value in returns_adf[4].items():\n",
    "     print('\\t%s: %.3f' % (key, value))"
   ]
  },
  {
   "cell_type": "markdown",
   "id": "fd7ffb83",
   "metadata": {},
   "source": [
    "Our null-hypothesis is that the data is not stationary, and since in each variable he ADF statistic is lower than the 5% significance level, we can reject the null hypothesis in each case. This implies our data is sufficiently stationary"
   ]
  },
  {
   "cell_type": "markdown",
   "id": "4d8478f2",
   "metadata": {},
   "source": [
    "We now fit the model to the training set"
   ]
  },
  {
   "cell_type": "code",
   "execution_count": 139,
   "id": "86a49c3d",
   "metadata": {},
   "outputs": [],
   "source": [
    "var = VAR(endog=train)\n",
    "var_fit = var.fit()"
   ]
  },
  {
   "cell_type": "code",
   "execution_count": 140,
   "id": "070861ec",
   "metadata": {
    "scrolled": false
   },
   "outputs": [
    {
     "data": {
      "text/plain": [
       "  Summary of Regression Results   \n",
       "==================================\n",
       "Model:                         VAR\n",
       "Method:                        OLS\n",
       "Date:           Tue, 13, Jun, 2023\n",
       "Time:                     13:25:29\n",
       "--------------------------------------------------------------------\n",
       "No. of Equations:         3.00000    BIC:                   -10.1802\n",
       "Nobs:                     4775.00    HQIC:                  -10.1908\n",
       "Log likelihood:           4029.84    FPE:                3.73008e-05\n",
       "AIC:                     -10.1965    Det(Omega_mle):     3.72072e-05\n",
       "--------------------------------------------------------------------\n",
       "Results for equation Return_1Month_Forward\n",
       "===========================================================================================\n",
       "                              coefficient       std. error           t-stat            prob\n",
       "-------------------------------------------------------------------------------------------\n",
       "const                           -0.000634         0.001393           -0.455           0.649\n",
       "L1.Return_1Month_Forward         0.913352         0.005894          154.974           0.000\n",
       "L1.PD_t                          0.000123         0.000155            0.797           0.426\n",
       "L1.delta_d                       0.000163         0.001482            0.110           0.913\n",
       "===========================================================================================\n",
       "\n",
       "Results for equation PD_t\n",
       "===========================================================================================\n",
       "                              coefficient       std. error           t-stat            prob\n",
       "-------------------------------------------------------------------------------------------\n",
       "const                            3.504052         0.127669           27.446           0.000\n",
       "L1.Return_1Month_Forward         1.083057         0.540033            2.006           0.045\n",
       "L1.PD_t                          0.586377         0.014178           41.358           0.000\n",
       "L1.delta_d                      -2.204679         0.135818          -16.233           0.000\n",
       "===========================================================================================\n",
       "\n",
       "Results for equation delta_d\n",
       "===========================================================================================\n",
       "                              coefficient       std. error           t-stat            prob\n",
       "-------------------------------------------------------------------------------------------\n",
       "const                            0.307999         0.014250           21.614           0.000\n",
       "L1.Return_1Month_Forward         0.184920         0.060277            3.068           0.002\n",
       "L1.PD_t                         -0.039025         0.001583          -24.660           0.000\n",
       "L1.delta_d                      -0.051773         0.015160           -3.415           0.001\n",
       "===========================================================================================\n",
       "\n",
       "Correlation matrix of residuals\n",
       "                         Return_1Month_Forward      PD_t   delta_d\n",
       "Return_1Month_Forward                 1.000000  0.009331  0.024166\n",
       "PD_t                                  0.009331  1.000000  0.847547\n",
       "delta_d                               0.024166  0.847547  1.000000\n",
       "\n"
      ]
     },
     "execution_count": 140,
     "metadata": {},
     "output_type": "execute_result"
    }
   ],
   "source": [
    "var_fit.summary()"
   ]
  },
  {
   "cell_type": "markdown",
   "id": "1487f7e2",
   "metadata": {},
   "source": [
    "To assess performance, we make predictions on the testing set."
   ]
  },
  {
   "cell_type": "code",
   "execution_count": 141,
   "id": "e1c37916",
   "metadata": {},
   "outputs": [],
   "source": [
    "var_prediction = var_fit.forecast(var_fit.endog, steps=len(valid))"
   ]
  },
  {
   "cell_type": "code",
   "execution_count": 142,
   "id": "185a951a",
   "metadata": {},
   "outputs": [
    {
     "data": {
      "text/plain": [
       "0.0538241202854903"
      ]
     },
     "execution_count": 142,
     "metadata": {},
     "output_type": "execute_result"
    }
   ],
   "source": [
    "cols = df_iso.columns\n",
    "var_pred = pd.DataFrame(index=range(0,len(var_prediction)),columns=[cols])\n",
    "for j in range(0,3):\n",
    "    for i in range(0, len(var_prediction)):\n",
    "        var_pred.iloc[i][j] = var_prediction[i][j]\n",
    "\n",
    "np.sqrt(mean_squared_error(var_pred['Return_1Month_Forward'], valid['Return_1Month_Forward']))"
   ]
  },
  {
   "cell_type": "markdown",
   "id": "3707ea1b",
   "metadata": {},
   "source": [
    "For comparison, we also take the AIC score."
   ]
  },
  {
   "cell_type": "code",
   "execution_count": 143,
   "id": "cfc50d9c",
   "metadata": {},
   "outputs": [
    {
     "name": "stdout",
     "output_type": "stream",
     "text": [
      "-10.196495864304282\n"
     ]
    }
   ],
   "source": [
    "print(var_fit.aic)"
   ]
  },
  {
   "cell_type": "markdown",
   "id": "6ca89f7d",
   "metadata": {},
   "source": [
    "### Gradient Boosting Machine"
   ]
  },
  {
   "cell_type": "markdown",
   "id": "a25b33ad",
   "metadata": {},
   "source": [
    "In order to capture any non-linear relations, and to iteratively improve the fitness of the model."
   ]
  },
  {
   "cell_type": "markdown",
   "id": "7df51e94",
   "metadata": {},
   "source": [
    "We use a grid search cross-validation procedure to tune the model. We define a selection of standard values for the number of trees, the learning rate, the training subsample size for each tree, and the max depth of each tree"
   ]
  },
  {
   "cell_type": "code",
   "execution_count": 49,
   "id": "efa87d1d",
   "metadata": {},
   "outputs": [],
   "source": [
    "grid = dict()\n",
    "grid['n_estimators'] = [10,50, 100]\n",
    "grid['learning_rate'] = [0.1, 0.01, 0.001]\n",
    "grid['subsample'] = [0.5, 0.7, 1.0]\n",
    "grid['max_depth'] = [3,7, 9]"
   ]
  },
  {
   "cell_type": "code",
   "execution_count": null,
   "id": "0aae6a88",
   "metadata": {},
   "outputs": [],
   "source": [
    "grid_search = GridSearchCV(estimator=gbm, param_grid=grid, n_jobs=-1, cv=cv, scoring='neg_mean_squared_error')\n",
    "\n",
    "grid_result = grid_search.fit(X_train, y_train.values.ravel())\n",
    "\n",
    "print(\"Best: %f using %s\" % (grid_result.best_score_, grid_result.best_params_)"
   ]
  },
  {
   "cell_type": "markdown",
   "id": "44baca9b",
   "metadata": {},
   "source": [
    "We see from the output the optimal hyperparameters, and as such we fit a model according to these specifications"
   ]
  },
  {
   "cell_type": "code",
   "execution_count": 124,
   "id": "1b7ebb2e",
   "metadata": {},
   "outputs": [],
   "source": [
    "gbm = GradientBoostingRegressor(learning_rate = 0.01, n_estimators = 100, subsample = 0.5, max_depth = 3)\n",
    "gbm_fit = gbm.fit(X_train_std, y_train.values.ravel())"
   ]
  },
  {
   "cell_type": "code",
   "execution_count": 126,
   "id": "76c99a34",
   "metadata": {
    "scrolled": false
   },
   "outputs": [
    {
     "data": {
      "text/plain": [
       "0.05512498887833389"
      ]
     },
     "execution_count": 126,
     "metadata": {},
     "output_type": "execute_result"
    }
   ],
   "source": [
    "gbm_predict = gbm.predict(X_valid_std)\n",
    "np.sqrt(mean_squared_error(gbm_predict, y_valid))"
   ]
  },
  {
   "cell_type": "markdown",
   "id": "27c0fec4",
   "metadata": {},
   "source": [
    "### LSTM Model"
   ]
  },
  {
   "cell_type": "markdown",
   "id": "1a18df8b",
   "metadata": {},
   "source": [
    "Lastly, we implement a LSTM Neural Network that will again aim to extract the time-series data. We first scale our data"
   ]
  },
  {
   "cell_type": "code",
   "execution_count": 146,
   "id": "2b7b58d0",
   "metadata": {},
   "outputs": [
    {
     "ename": "AttributeError",
     "evalue": "'DataFrame' object has no attribute 'reshape'",
     "output_type": "error",
     "traceback": [
      "\u001b[1;31m---------------------------------------------------------------------------\u001b[0m",
      "\u001b[1;31mAttributeError\u001b[0m                            Traceback (most recent call last)",
      "Cell \u001b[1;32mIn[146], line 4\u001b[0m\n\u001b[0;32m      1\u001b[0m minmax \u001b[38;5;241m=\u001b[39m MinMaxScaler()\n\u001b[0;32m      2\u001b[0m minmax \u001b[38;5;241m=\u001b[39m minmax\u001b[38;5;241m.\u001b[39mfit(train)\n\u001b[1;32m----> 4\u001b[0m train_lstm \u001b[38;5;241m=\u001b[39m \u001b[43mtrain\u001b[49m\u001b[38;5;241;43m.\u001b[39;49m\u001b[43mreshape\u001b[49m(train\u001b[38;5;241m.\u001b[39mshape[\u001b[38;5;241m0\u001b[39m], train\u001b[38;5;241m.\u001b[39mshape[\u001b[38;5;241m1\u001b[39m])\n",
      "File \u001b[1;32mC:\\ProgramData\\anaconda3\\envs\\ultramarin\\lib\\site-packages\\pandas\\core\\generic.py:5902\u001b[0m, in \u001b[0;36mNDFrame.__getattr__\u001b[1;34m(self, name)\u001b[0m\n\u001b[0;32m   5895\u001b[0m \u001b[38;5;28;01mif\u001b[39;00m (\n\u001b[0;32m   5896\u001b[0m     name \u001b[38;5;129;01mnot\u001b[39;00m \u001b[38;5;129;01min\u001b[39;00m \u001b[38;5;28mself\u001b[39m\u001b[38;5;241m.\u001b[39m_internal_names_set\n\u001b[0;32m   5897\u001b[0m     \u001b[38;5;129;01mand\u001b[39;00m name \u001b[38;5;129;01mnot\u001b[39;00m \u001b[38;5;129;01min\u001b[39;00m \u001b[38;5;28mself\u001b[39m\u001b[38;5;241m.\u001b[39m_metadata\n\u001b[0;32m   5898\u001b[0m     \u001b[38;5;129;01mand\u001b[39;00m name \u001b[38;5;129;01mnot\u001b[39;00m \u001b[38;5;129;01min\u001b[39;00m \u001b[38;5;28mself\u001b[39m\u001b[38;5;241m.\u001b[39m_accessors\n\u001b[0;32m   5899\u001b[0m     \u001b[38;5;129;01mand\u001b[39;00m \u001b[38;5;28mself\u001b[39m\u001b[38;5;241m.\u001b[39m_info_axis\u001b[38;5;241m.\u001b[39m_can_hold_identifiers_and_holds_name(name)\n\u001b[0;32m   5900\u001b[0m ):\n\u001b[0;32m   5901\u001b[0m     \u001b[38;5;28;01mreturn\u001b[39;00m \u001b[38;5;28mself\u001b[39m[name]\n\u001b[1;32m-> 5902\u001b[0m \u001b[38;5;28;01mreturn\u001b[39;00m \u001b[38;5;28;43mobject\u001b[39;49m\u001b[38;5;241;43m.\u001b[39;49m\u001b[38;5;21;43m__getattribute__\u001b[39;49m\u001b[43m(\u001b[49m\u001b[38;5;28;43mself\u001b[39;49m\u001b[43m,\u001b[49m\u001b[43m \u001b[49m\u001b[43mname\u001b[49m\u001b[43m)\u001b[49m\n",
      "\u001b[1;31mAttributeError\u001b[0m: 'DataFrame' object has no attribute 'reshape'"
     ]
    }
   ],
   "source": [
    "minmax = MinMaxScaler()\n",
    "minmax = minmax.fit(train)\n",
    "\n",
    "train_lstm = train.reshape(train.shape[0], train.shape[1])"
   ]
  },
  {
   "cell_type": "code",
   "execution_count": 102,
   "id": "64ce3e00",
   "metadata": {},
   "outputs": [],
   "source": [
    "normaliser = MinMaxScaler()\n",
    "\n",
    "train_normalised_data = normaliser.fit_transform(train)\n",
    "\n",
    "test_normalised_data = normaliser.transform(valid)"
   ]
  },
  {
   "cell_type": "code",
   "execution_count": 103,
   "id": "72959fcd",
   "metadata": {},
   "outputs": [],
   "source": [
    "history_points = 1\n",
    "\n",
    "X_train = np.array([train_normalised_data[i : i + history_points].copy() for i in range(len(train_normalised_data) - history_points)])\n",
    "\n",
    "y_train = np.array([train_normalised_data[:,0][i + history_points].copy() for i in range(len(train_normalised_data) - history_points)])\n",
    "\n",
    "X_test = np.array([test_normalised_data[i : i + history_points].copy() for i in range(len(test_normalised_data) - history_points)])\n",
    "\n",
    "y_test = np.array([test_data[:,0][i + history_points].copy() for i in range(len(test_normalised_data) - history_points)])"
   ]
  },
  {
   "cell_type": "code",
   "execution_count": 104,
   "id": "c3d003f0",
   "metadata": {},
   "outputs": [],
   "source": [
    "y_normaliser = MinMaxScaler()\n",
    "\n",
    "y_test_norm = np.expand_dims(y_test, -1)\n",
    "\n",
    "y_normalised = y_normaliser.fit(y_test_norm)"
   ]
  },
  {
   "cell_type": "code",
   "execution_count": 105,
   "id": "0dc146df",
   "metadata": {},
   "outputs": [
    {
     "name": "stdout",
     "output_type": "stream",
     "text": [
      "Epoch 1/30\n",
      "287/287 [==============================] - 3s 4ms/step - loss: 0.1179 - val_loss: 0.0121\n",
      "Epoch 2/30\n",
      "287/287 [==============================] - 1s 2ms/step - loss: 0.0106 - val_loss: 0.0067\n",
      "Epoch 3/30\n",
      "287/287 [==============================] - 1s 2ms/step - loss: 0.0096 - val_loss: 0.0064\n",
      "Epoch 4/30\n",
      "287/287 [==============================] - 1s 2ms/step - loss: 0.0090 - val_loss: 0.0059\n",
      "Epoch 5/30\n",
      "287/287 [==============================] - 1s 2ms/step - loss: 0.0083 - val_loss: 0.0054\n",
      "Epoch 6/30\n",
      "287/287 [==============================] - 1s 2ms/step - loss: 0.0075 - val_loss: 0.0049\n",
      "Epoch 7/30\n",
      "287/287 [==============================] - 1s 2ms/step - loss: 0.0067 - val_loss: 0.0043\n",
      "Epoch 8/30\n",
      "287/287 [==============================] - 0s 2ms/step - loss: 0.0058 - val_loss: 0.0037\n",
      "Epoch 9/30\n",
      "287/287 [==============================] - 0s 2ms/step - loss: 0.0050 - val_loss: 0.0032\n",
      "Epoch 10/30\n",
      "287/287 [==============================] - 1s 2ms/step - loss: 0.0043 - val_loss: 0.0027\n",
      "Epoch 11/30\n",
      "287/287 [==============================] - 1s 2ms/step - loss: 0.0036 - val_loss: 0.0023\n",
      "Epoch 12/30\n",
      "287/287 [==============================] - 1s 2ms/step - loss: 0.0031 - val_loss: 0.0020\n",
      "Epoch 13/30\n",
      "287/287 [==============================] - 1s 2ms/step - loss: 0.0028 - val_loss: 0.0019\n",
      "Epoch 14/30\n",
      "287/287 [==============================] - 0s 2ms/step - loss: 0.0026 - val_loss: 0.0018\n",
      "Epoch 15/30\n",
      "287/287 [==============================] - 1s 2ms/step - loss: 0.0025 - val_loss: 0.0018\n",
      "Epoch 16/30\n",
      "287/287 [==============================] - 1s 2ms/step - loss: 0.0024 - val_loss: 0.0018\n",
      "Epoch 17/30\n",
      "287/287 [==============================] - 1s 2ms/step - loss: 0.0024 - val_loss: 0.0017\n",
      "Epoch 18/30\n",
      "287/287 [==============================] - 0s 2ms/step - loss: 0.0024 - val_loss: 0.0017\n",
      "Epoch 19/30\n",
      "287/287 [==============================] - 1s 2ms/step - loss: 0.0024 - val_loss: 0.0017\n",
      "Epoch 20/30\n",
      "287/287 [==============================] - 1s 2ms/step - loss: 0.0024 - val_loss: 0.0018\n",
      "Epoch 21/30\n",
      "287/287 [==============================] - 1s 2ms/step - loss: 0.0024 - val_loss: 0.0018\n",
      "Epoch 22/30\n",
      "287/287 [==============================] - 0s 2ms/step - loss: 0.0024 - val_loss: 0.0018\n",
      "Epoch 23/30\n",
      "287/287 [==============================] - 0s 2ms/step - loss: 0.0024 - val_loss: 0.0018\n",
      "Epoch 24/30\n",
      "287/287 [==============================] - 0s 2ms/step - loss: 0.0024 - val_loss: 0.0017\n",
      "Epoch 25/30\n",
      "287/287 [==============================] - 0s 2ms/step - loss: 0.0024 - val_loss: 0.0018\n",
      "Epoch 26/30\n",
      "287/287 [==============================] - 1s 2ms/step - loss: 0.0024 - val_loss: 0.0018\n",
      "Epoch 27/30\n",
      "287/287 [==============================] - 1s 2ms/step - loss: 0.0024 - val_loss: 0.0017\n",
      "Epoch 28/30\n",
      "287/287 [==============================] - 1s 2ms/step - loss: 0.0024 - val_loss: 0.0018\n",
      "Epoch 29/30\n",
      "287/287 [==============================] - 1s 2ms/step - loss: 0.0024 - val_loss: 0.0018\n",
      "Epoch 30/30\n",
      "287/287 [==============================] - 1s 2ms/step - loss: 0.0024 - val_loss: 0.0017\n"
     ]
    },
    {
     "data": {
      "text/plain": [
       "<keras.callbacks.History at 0x1715e683b50>"
      ]
     },
     "execution_count": 105,
     "metadata": {},
     "output_type": "execute_result"
    }
   ],
   "source": [
    "lstm_input = Input(shape=(history_points, 3), name='lstm_input')\n",
    "inputs = LSTM(1, name='first_layer')(lstm_input)\n",
    "inputs = Dense(1, name='dense_layer')(inputs)\n",
    "\n",
    "output = Activation('linear', name='output')(inputs)\n",
    "model = Model(inputs=lstm_input, outputs=output)\n",
    "\n",
    "adam = optimizers.Adam()\n",
    "\n",
    "model.compile(optimizer=adam, loss='mse')\n",
    "\n",
    "model.fit(x=X_train, y=y_train, batch_size=15, epochs=30, shuffle=True, validation_split = 0.1)"
   ]
  },
  {
   "cell_type": "code",
   "execution_count": 106,
   "id": "9d2165cd",
   "metadata": {
    "scrolled": true
   },
   "outputs": [
    {
     "name": "stdout",
     "output_type": "stream",
     "text": [
      "38/38 [==============================] - 0s 2ms/step\n"
     ]
    }
   ],
   "source": [
    "y_pred = model.predict(X_test)"
   ]
  },
  {
   "cell_type": "code",
   "execution_count": 107,
   "id": "17c30373",
   "metadata": {
    "scrolled": true
   },
   "outputs": [],
   "source": [
    "y_pred = y_normaliser.inverse_transform(y_pred)"
   ]
  },
  {
   "cell_type": "code",
   "execution_count": 109,
   "id": "24e95890",
   "metadata": {
    "scrolled": true
   },
   "outputs": [
    {
     "name": "stdout",
     "output_type": "stream",
     "text": [
      "0.025339087555953356\n"
     ]
    }
   ],
   "source": [
    "print(mean_squared_error(y_test, y_pred))"
   ]
  },
  {
   "cell_type": "markdown",
   "id": "7cb099eb",
   "metadata": {},
   "source": [
    "### Linear Regression"
   ]
  },
  {
   "cell_type": "code",
   "execution_count": 140,
   "id": "abf890e6",
   "metadata": {},
   "outputs": [],
   "source": [
    "X = df[['PD_t', 'delta_d']]\n",
    "y = df['Return_1Month_Forward']\n",
    "model = LinearRegression().fit(X,y)"
   ]
  },
  {
   "cell_type": "code",
   "execution_count": 142,
   "id": "10aab9a8",
   "metadata": {
    "scrolled": true
   },
   "outputs": [
    {
     "name": "stdout",
     "output_type": "stream",
     "text": [
      "coefficient of determination: 0.0015781006173752887\n",
      "intercept: -0.0037632647933491152\n",
      "coefficients: [ 0.00105069 -0.00206148]\n"
     ]
    }
   ],
   "source": [
    "print(f\"coefficient of determination: {model.score(X,y)}\")\n",
    "print(f\"intercept: {model.intercept_}\")\n",
    "print(f\"coefficients: {model.coef_}\")"
   ]
  },
  {
   "cell_type": "markdown",
   "id": "85520c05",
   "metadata": {},
   "source": [
    "By the low coefficient of determination, we observe that this model is extremely poor"
   ]
  },
  {
   "cell_type": "code",
   "execution_count": null,
   "id": "4bdbcdce",
   "metadata": {},
   "outputs": [],
   "source": []
  }
 ],
 "metadata": {
  "kernelspec": {
   "display_name": "Python 3 (ipykernel)",
   "language": "python",
   "name": "python3"
  },
  "language_info": {
   "codemirror_mode": {
    "name": "ipython",
    "version": 3
   },
   "file_extension": ".py",
   "mimetype": "text/x-python",
   "name": "python",
   "nbconvert_exporter": "python",
   "pygments_lexer": "ipython3",
   "version": "3.10.11"
  }
 },
 "nbformat": 4,
 "nbformat_minor": 5
}
