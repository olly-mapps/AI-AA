{
 "cells": [
  {
   "cell_type": "markdown",
   "id": "7c51a831",
   "metadata": {},
   "source": [
    "# Question A.4"
   ]
  },
  {
   "cell_type": "markdown",
   "id": "c3577dce",
   "metadata": {},
   "source": [
    "This notebook documents the development of plots for average portfolio return $E[R_{p,t}]$ and the volatility $Var(R_{p,t})$ as a function of $k > 0$, the risk aversion coefficient."
   ]
  },
  {
   "cell_type": "markdown",
   "id": "729ca695",
   "metadata": {},
   "source": [
    "## Libraries"
   ]
  },
  {
   "cell_type": "markdown",
   "id": "abf3d5de",
   "metadata": {},
   "source": [
    "For our calculations and plots, we want to import the following libraries."
   ]
  },
  {
   "cell_type": "code",
   "execution_count": 1,
   "id": "22a8f9eb",
   "metadata": {},
   "outputs": [],
   "source": [
    "import pandas as pd\n",
    "import numpy as np\n",
    "import matplotlib.pyplot as plt"
   ]
  },
  {
   "cell_type": "markdown",
   "id": "04d55ac7",
   "metadata": {},
   "source": [
    "## Data Loading"
   ]
  },
  {
   "cell_type": "markdown",
   "id": "9bf5fe91",
   "metadata": {},
   "source": [
    "We first read in the most recent augmentation of the dataframe."
   ]
  },
  {
   "cell_type": "code",
   "execution_count": 2,
   "id": "1a9bd980",
   "metadata": {},
   "outputs": [],
   "source": [
    "#Read in newest augmented dataframe\n",
    "df = pd.read_csv('../data/augmented_data_A3.csv', index_col = [0], parse_dates = True)"
   ]
  },
  {
   "cell_type": "markdown",
   "id": "e3ac75ec",
   "metadata": {},
   "source": [
    "We now view the data."
   ]
  },
  {
   "cell_type": "code",
   "execution_count": 3,
   "id": "468ddfd9",
   "metadata": {},
   "outputs": [
    {
     "data": {
      "text/html": [
       "<div>\n",
       "<style scoped>\n",
       "    .dataframe tbody tr th:only-of-type {\n",
       "        vertical-align: middle;\n",
       "    }\n",
       "\n",
       "    .dataframe tbody tr th {\n",
       "        vertical-align: top;\n",
       "    }\n",
       "\n",
       "    .dataframe thead th {\n",
       "        text-align: right;\n",
       "    }\n",
       "</style>\n",
       "<table border=\"1\" class=\"dataframe\">\n",
       "  <thead>\n",
       "    <tr style=\"text-align: right;\">\n",
       "      <th></th>\n",
       "      <th>Return_with_Dividends</th>\n",
       "      <th>Return_without_Dividends</th>\n",
       "      <th>RiskFree_Rate_1Month_Forward</th>\n",
       "      <th>Return_1Month_Forward</th>\n",
       "      <th>PD_t</th>\n",
       "      <th>delta_d</th>\n",
       "      <th>Predicted R_t</th>\n",
       "      <th>Sigma</th>\n",
       "      <th>beta_t</th>\n",
       "    </tr>\n",
       "    <tr>\n",
       "      <th>date</th>\n",
       "      <th></th>\n",
       "      <th></th>\n",
       "      <th></th>\n",
       "      <th></th>\n",
       "      <th></th>\n",
       "      <th></th>\n",
       "      <th></th>\n",
       "      <th></th>\n",
       "      <th></th>\n",
       "    </tr>\n",
       "  </thead>\n",
       "  <tbody>\n",
       "    <tr>\n",
       "      <th>1998-02-07</th>\n",
       "      <td>0.304277</td>\n",
       "      <td>0.143167</td>\n",
       "      <td>0.350638</td>\n",
       "      <td>0.055277</td>\n",
       "      <td>7.095540</td>\n",
       "      <td>0.303119</td>\n",
       "      <td>0.078501</td>\n",
       "      <td>0.069727</td>\n",
       "      <td>-55.973845</td>\n",
       "    </tr>\n",
       "    <tr>\n",
       "      <th>1998-02-10</th>\n",
       "      <td>0.291903</td>\n",
       "      <td>0.154534</td>\n",
       "      <td>0.363007</td>\n",
       "      <td>0.025068</td>\n",
       "      <td>8.404637</td>\n",
       "      <td>0.303119</td>\n",
       "      <td>0.078501</td>\n",
       "      <td>0.069727</td>\n",
       "      <td>-58.517826</td>\n",
       "    </tr>\n",
       "    <tr>\n",
       "      <th>1998-02-11</th>\n",
       "      <td>0.269282</td>\n",
       "      <td>0.179072</td>\n",
       "      <td>0.365795</td>\n",
       "      <td>0.043227</td>\n",
       "      <td>13.070375</td>\n",
       "      <td>0.585262</td>\n",
       "      <td>0.078501</td>\n",
       "      <td>0.069727</td>\n",
       "      <td>-59.091427</td>\n",
       "    </tr>\n",
       "    <tr>\n",
       "      <th>1998-02-12</th>\n",
       "      <td>0.290409</td>\n",
       "      <td>0.160366</td>\n",
       "      <td>0.377143</td>\n",
       "      <td>0.056165</td>\n",
       "      <td>8.922924</td>\n",
       "      <td>-0.216997</td>\n",
       "      <td>0.078501</td>\n",
       "      <td>0.069727</td>\n",
       "      <td>-61.425462</td>\n",
       "    </tr>\n",
       "    <tr>\n",
       "      <th>1998-02-13</th>\n",
       "      <td>0.268346</td>\n",
       "      <td>0.149079</td>\n",
       "      <td>0.350271</td>\n",
       "      <td>0.074432</td>\n",
       "      <td>9.634514</td>\n",
       "      <td>0.225464</td>\n",
       "      <td>0.078501</td>\n",
       "      <td>0.069727</td>\n",
       "      <td>-55.898266</td>\n",
       "    </tr>\n",
       "  </tbody>\n",
       "</table>\n",
       "</div>"
      ],
      "text/plain": [
       "            Return_with_Dividends  Return_without_Dividends  \\\n",
       "date                                                          \n",
       "1998-02-07               0.304277                  0.143167   \n",
       "1998-02-10               0.291903                  0.154534   \n",
       "1998-02-11               0.269282                  0.179072   \n",
       "1998-02-12               0.290409                  0.160366   \n",
       "1998-02-13               0.268346                  0.149079   \n",
       "\n",
       "            RiskFree_Rate_1Month_Forward  Return_1Month_Forward       PD_t  \\\n",
       "date                                                                         \n",
       "1998-02-07                      0.350638               0.055277   7.095540   \n",
       "1998-02-10                      0.363007               0.025068   8.404637   \n",
       "1998-02-11                      0.365795               0.043227  13.070375   \n",
       "1998-02-12                      0.377143               0.056165   8.922924   \n",
       "1998-02-13                      0.350271               0.074432   9.634514   \n",
       "\n",
       "             delta_d  Predicted R_t     Sigma     beta_t  \n",
       "date                                                      \n",
       "1998-02-07  0.303119       0.078501  0.069727 -55.973845  \n",
       "1998-02-10  0.303119       0.078501  0.069727 -58.517826  \n",
       "1998-02-11  0.585262       0.078501  0.069727 -59.091427  \n",
       "1998-02-12 -0.216997       0.078501  0.069727 -61.425462  \n",
       "1998-02-13  0.225464       0.078501  0.069727 -55.898266  "
      ]
     },
     "execution_count": 3,
     "metadata": {},
     "output_type": "execute_result"
    }
   ],
   "source": [
    "df.head()"
   ]
  },
  {
   "cell_type": "markdown",
   "id": "747ee6cf",
   "metadata": {},
   "source": [
    "## Plotting $E[R_{p,t}]$"
   ]
  },
  {
   "cell_type": "markdown",
   "id": "3701b624",
   "metadata": {},
   "source": [
    "Now as a function of $k$, as explained in the accompanying pdf, we need to augment the data using the following calculation.\n",
    "\n",
    "$$R_{p,t} = \\frac{\\beta_t (R_t - R_{f,t})}{k} + R_{f,t}$$"
   ]
  },
  {
   "cell_type": "markdown",
   "id": "3aacfc64",
   "metadata": {},
   "source": [
    "We do this by first defining the function as specified:"
   ]
  },
  {
   "cell_type": "code",
   "execution_count": 6,
   "id": "af43d9e9",
   "metadata": {},
   "outputs": [],
   "source": [
    "#Define function that carries out the calculation\n",
    "def Exp_R_pt_k (k):\n",
    "\n",
    "    #Define variables using the columns\n",
    "    beta_t = df[\"beta_t\"]\n",
    "    R_t = df[\"Return_1Month_Forward\"]\n",
    "    R_ft = df[\"RiskFree_Rate_1Month_Forward\"]\n",
    "    sigma_t = df[\"Sigma\"]\n",
    "    \n",
    "    #Define R_pt using the formula above\n",
    "    R_pt = (beta_t*(R_t - R_ft))/(k) + R_ft\n",
    "    \n",
    "    #Return the mean of this value\n",
    "    return R_pt.mean()"
   ]
  },
  {
   "cell_type": "markdown",
   "id": "e49d11ad",
   "metadata": {},
   "source": [
    "We can then define a reasonable set of $k$ values, and produce the plot."
   ]
  },
  {
   "cell_type": "code",
   "execution_count": 7,
   "id": "616437f6",
   "metadata": {},
   "outputs": [
    {
     "data": {
      "image/png": "[encoded data removed]",
      "text/plain": [
       "<Figure size 640x480 with 1 Axes>"
      ]
     },
     "metadata": {},
     "output_type": "display_data"
    }
   ],
   "source": [
    "#Define range of values of k to plot\n",
    "k_exp = np.linspace(0.1, 1 , 100)\n",
    "\n",
    "#Define list to store the function values\n",
    "exp_line = []\n",
    "\n",
    "#Define for loop to iterate through the domain, and produce its function value\n",
    "for k in k_exp:\n",
    "    exp_line.append(Exp_R_pt_k(k))\n",
    "\n",
    "#Plot the domain and the codomain\n",
    "plt.plot(k_exp, exp_line)\n",
    "\n",
    "#Rename the plot labels\n",
    "plt.title(r'Average portfolio return $E[R_{p,t}]$ as a function of $k$')\n",
    "plt.ylabel(r'$E[R_{p,t}]$')\n",
    "plt.xlabel(r'$k$')\n",
    "\n",
    "#Save figure in the relavent directory\n",
    "plt.savefig('../figures/Exp_R_pt_k.png')\n",
    "\n",
    "#Print plot\n",
    "plt.show()"
   ]
  },
  {
   "cell_type": "markdown",
   "id": "08f42a71",
   "metadata": {},
   "source": [
    "## Plotting $Var(R_{p,t})$"
   ]
  },
  {
   "cell_type": "markdown",
   "id": "3ffd27fe",
   "metadata": {},
   "source": [
    "Now as a function of $k$, as explained in the accompanying pdf, we use the same calculation, namely:\n",
    "\n",
    "$$R_{p,t} = \\frac{\\beta_t (R_t - R_{f,t})}{k} + R_{f,t}$$"
   ]
  },
  {
   "cell_type": "code",
   "execution_count": 10,
   "id": "b3efe539",
   "metadata": {},
   "outputs": [],
   "source": [
    "#Define function to carry out the calculation above\n",
    "def Var_R_pt_k(k):\n",
    "    \n",
    "    #Define variables using the columns\n",
    "    beta_t = df[\"beta_t\"]\n",
    "    R_t = df[\"Return_1Month_Forward\"]\n",
    "    R_ft = df[\"RiskFree_Rate_1Month_Forward\"]\n",
    "    sigma_t = df[\"Sigma\"]\n",
    "    \n",
    "    #Calculate the R_pt column for this particular k\n",
    "    R_pt = (beta_t*(R_t - R_ft))/(k) + R_ft\n",
    "    \n",
    "    #Return the variance of this estimate\n",
    "    return np.var(R_pt) "
   ]
  },
  {
   "cell_type": "markdown",
   "id": "4208d78f",
   "metadata": {},
   "source": [
    "Once again we define a range of suitable $k$ values, and then produce a plot."
   ]
  },
  {
   "cell_type": "code",
   "execution_count": 11,
   "id": "b62aeb12",
   "metadata": {},
   "outputs": [
    {
     "data": {
      "image/png": "[encoded data removed]",
      "text/plain": [
       "<Figure size 640x480 with 1 Axes>"
      ]
     },
     "metadata": {},
     "output_type": "display_data"
    }
   ],
   "source": [
    "#Define a range of suitable values for k to plot on\n",
    "k_var = np.linspace(0.1, 1 ,100)\n",
    "\n",
    "#Plot k and its function output\n",
    "var_line = []\n",
    "\n",
    "#Define for loop to iterate through the domain, and produce its function value\n",
    "for k in k_var:\n",
    "    var_line.append(Var_R_pt_k(k))\n",
    "    \n",
    "#Plot the domain and the codomain\n",
    "plt.plot(k_var, var_line)\n",
    "\n",
    "#Rename labels\n",
    "plt.title(r'Volatility of portfolio return $Var(R_{p,t})$ as a function of $k$')\n",
    "plt.ylabel(r'$Var(R_{p,t})$')\n",
    "plt.xlabel(r'$k$')\n",
    "\n",
    "#Save figure to data folder\n",
    "plt.savefig('../figures/Var_R_pt_k.png')\n",
    "\n",
    "#Print plot\n",
    "plt.show()"
   ]
  }
 ],
 "metadata": {
  "kernelspec": {
   "display_name": "ultramarin",
   "language": "python",
   "name": "ultramarin"
  },
  "language_info": {
   "codemirror_mode": {
    "name": "ipython",
    "version": 3
   },
   "file_extension": ".py",
   "mimetype": "text/x-python",
   "name": "python",
   "nbconvert_exporter": "python",
   "pygments_lexer": "ipython3",
   "version": "3.10.9"
  }
 },
 "nbformat": 4,
 "nbformat_minor": 5
}
