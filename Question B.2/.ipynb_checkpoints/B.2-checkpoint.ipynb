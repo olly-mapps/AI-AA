{
 "cells": [
  {
   "cell_type": "markdown",
   "id": "7c51a831",
   "metadata": {},
   "source": [
    "# Question A.4"
   ]
  },
  {
   "cell_type": "markdown",
   "id": "c3577dce",
   "metadata": {},
   "source": [
    "This notebook documents the development of plots for average portfolio return $E[R_{p,t}]$ and the volatility $Var(R_{p,t})$ as a function of $k > 0$, the risk aversion coefficient."
   ]
  },
  {
   "cell_type": "markdown",
   "id": "729ca695",
   "metadata": {},
   "source": [
    "## Libraries"
   ]
  },
  {
   "cell_type": "markdown",
   "id": "abf3d5de",
   "metadata": {},
   "source": [
    "For our calculations and plots, we want to import the following libraries."
   ]
  },
  {
   "cell_type": "code",
   "execution_count": 1,
   "id": "22a8f9eb",
   "metadata": {},
   "outputs": [],
   "source": [
    "import pandas as pd\n",
    "import numpy as np\n",
    "import matplotlib.pyplot as plt"
   ]
  },
  {
   "cell_type": "markdown",
   "id": "04d55ac7",
   "metadata": {},
   "source": [
    "## Data Loading"
   ]
  },
  {
   "cell_type": "markdown",
   "id": "9bf5fe91",
   "metadata": {},
   "source": [
    "We first read in the most recent augmentation of the dataframe."
   ]
  },
  {
   "cell_type": "code",
   "execution_count": 2,
   "id": "1a9bd980",
   "metadata": {},
   "outputs": [],
   "source": [
    "#Read in newest augmented dataframe\n",
    "df = pd.read_csv('../data/augmented_data_A3.csv', index_col = [0], parse_dates = True)"
   ]
  },
  {
   "cell_type": "markdown",
   "id": "771f1b7d",
   "metadata": {},
   "source": [
    "## Data Augmentation"
   ]
  },
  {
   "cell_type": "markdown",
   "id": "459f4f3a",
   "metadata": {},
   "source": [
    "First, we need to augment our data further for a time series of $R_{p,t}$. Using:\n",
    "\n",
    "$$ R_{p,t} = \\alpha_t R_t + (1-\\alpha_t)R_{f,t} $$\n",
    "\n",
    "We use our columns from Question B.1, and we can calculate the necessary value in the following way.  "
   ]
  },
  {
   "cell_type": "code",
   "execution_count": 3,
   "id": "0548b7c0",
   "metadata": {},
   "outputs": [],
   "source": [
    "#Define the Exp_R_t, R_ft and sigma_t columns\n",
    "alpha_t = df[\"alpha_t(k)\"]\n",
    "R_ft = df[\"RiskFree_Rate_1Month_Forward\"]\n",
    "R_t = df[\"Return_1Month_Forward\"]\n",
    "\n",
    "#Augment a column alpha_t(k) which applies the relevant function\n",
    "df['R_pt'] = (alpha_t*R_t) + ((1 - alpha_t)*R_ft) "
   ]
  },
  {
   "cell_type": "markdown",
   "id": "e3ac75ec",
   "metadata": {},
   "source": [
    "We now view the data."
   ]
  },
  {
   "cell_type": "code",
   "execution_count": 4,
   "id": "468ddfd9",
   "metadata": {},
   "outputs": [
    {
     "data": {
      "text/html": [
       "<div>\n",
       "<style scoped>\n",
       "    .dataframe tbody tr th:only-of-type {\n",
       "        vertical-align: middle;\n",
       "    }\n",
       "\n",
       "    .dataframe tbody tr th {\n",
       "        vertical-align: top;\n",
       "    }\n",
       "\n",
       "    .dataframe thead th {\n",
       "        text-align: right;\n",
       "    }\n",
       "</style>\n",
       "<table border=\"1\" class=\"dataframe\">\n",
       "  <thead>\n",
       "    <tr style=\"text-align: right;\">\n",
       "      <th></th>\n",
       "      <th>Return_with_Dividends</th>\n",
       "      <th>Return_without_Dividends</th>\n",
       "      <th>RiskFree_Rate_1Month_Forward</th>\n",
       "      <th>Return_1Month_Forward</th>\n",
       "      <th>PD_t</th>\n",
       "      <th>delta_d</th>\n",
       "      <th>Predicted R_t</th>\n",
       "      <th>Sigma</th>\n",
       "      <th>alpha_t(k)</th>\n",
       "      <th>R_pt</th>\n",
       "    </tr>\n",
       "    <tr>\n",
       "      <th>date</th>\n",
       "      <th></th>\n",
       "      <th></th>\n",
       "      <th></th>\n",
       "      <th></th>\n",
       "      <th></th>\n",
       "      <th></th>\n",
       "      <th></th>\n",
       "      <th></th>\n",
       "      <th></th>\n",
       "      <th></th>\n",
       "    </tr>\n",
       "  </thead>\n",
       "  <tbody>\n",
       "    <tr>\n",
       "      <th>1998-02-07</th>\n",
       "      <td>0.304277</td>\n",
       "      <td>0.143167</td>\n",
       "      <td>0.350638</td>\n",
       "      <td>0.055277</td>\n",
       "      <td>7.095540</td>\n",
       "      <td>0.303119</td>\n",
       "      <td>0.088694</td>\n",
       "      <td>0.069727</td>\n",
       "      <td>-53.877365</td>\n",
       "      <td>16.263911</td>\n",
       "    </tr>\n",
       "    <tr>\n",
       "      <th>1998-02-10</th>\n",
       "      <td>0.291903</td>\n",
       "      <td>0.154534</td>\n",
       "      <td>0.363007</td>\n",
       "      <td>0.025068</td>\n",
       "      <td>8.404637</td>\n",
       "      <td>0.303119</td>\n",
       "      <td>0.088694</td>\n",
       "      <td>0.069727</td>\n",
       "      <td>-56.421345</td>\n",
       "      <td>19.429974</td>\n",
       "    </tr>\n",
       "    <tr>\n",
       "      <th>1998-02-11</th>\n",
       "      <td>0.269282</td>\n",
       "      <td>0.179072</td>\n",
       "      <td>0.365795</td>\n",
       "      <td>0.043227</td>\n",
       "      <td>13.070375</td>\n",
       "      <td>0.585262</td>\n",
       "      <td>0.088694</td>\n",
       "      <td>0.069727</td>\n",
       "      <td>-56.994946</td>\n",
       "      <td>18.750538</td>\n",
       "    </tr>\n",
       "    <tr>\n",
       "      <th>1998-02-12</th>\n",
       "      <td>0.290409</td>\n",
       "      <td>0.160366</td>\n",
       "      <td>0.377143</td>\n",
       "      <td>0.056165</td>\n",
       "      <td>8.922924</td>\n",
       "      <td>-0.216997</td>\n",
       "      <td>0.088694</td>\n",
       "      <td>0.069727</td>\n",
       "      <td>-59.328981</td>\n",
       "      <td>19.420420</td>\n",
       "    </tr>\n",
       "    <tr>\n",
       "      <th>1998-02-13</th>\n",
       "      <td>0.268346</td>\n",
       "      <td>0.149079</td>\n",
       "      <td>0.350271</td>\n",
       "      <td>0.074432</td>\n",
       "      <td>9.634514</td>\n",
       "      <td>0.225464</td>\n",
       "      <td>0.088694</td>\n",
       "      <td>0.069727</td>\n",
       "      <td>-53.801784</td>\n",
       "      <td>15.190856</td>\n",
       "    </tr>\n",
       "  </tbody>\n",
       "</table>\n",
       "</div>"
      ],
      "text/plain": [
       "            Return_with_Dividends  Return_without_Dividends  \\\n",
       "date                                                          \n",
       "1998-02-07               0.304277                  0.143167   \n",
       "1998-02-10               0.291903                  0.154534   \n",
       "1998-02-11               0.269282                  0.179072   \n",
       "1998-02-12               0.290409                  0.160366   \n",
       "1998-02-13               0.268346                  0.149079   \n",
       "\n",
       "            RiskFree_Rate_1Month_Forward  Return_1Month_Forward       PD_t  \\\n",
       "date                                                                         \n",
       "1998-02-07                      0.350638               0.055277   7.095540   \n",
       "1998-02-10                      0.363007               0.025068   8.404637   \n",
       "1998-02-11                      0.365795               0.043227  13.070375   \n",
       "1998-02-12                      0.377143               0.056165   8.922924   \n",
       "1998-02-13                      0.350271               0.074432   9.634514   \n",
       "\n",
       "             delta_d  Predicted R_t     Sigma  alpha_t(k)       R_pt  \n",
       "date                                                                  \n",
       "1998-02-07  0.303119       0.088694  0.069727  -53.877365  16.263911  \n",
       "1998-02-10  0.303119       0.088694  0.069727  -56.421345  19.429974  \n",
       "1998-02-11  0.585262       0.088694  0.069727  -56.994946  18.750538  \n",
       "1998-02-12 -0.216997       0.088694  0.069727  -59.328981  19.420420  \n",
       "1998-02-13  0.225464       0.088694  0.069727  -53.801784  15.190856  "
      ]
     },
     "execution_count": 4,
     "metadata": {},
     "output_type": "execute_result"
    }
   ],
   "source": [
    "df.head()"
   ]
  },
  {
   "cell_type": "markdown",
   "id": "747ee6cf",
   "metadata": {},
   "source": [
    "## Plotting $E[R_{p,t}]$"
   ]
  },
  {
   "cell_type": "markdown",
   "id": "f183e798",
   "metadata": {},
   "source": [
    "In order to plot the value as a function of $k$, we need to find the average of $R_{p,t}$. So:"
   ]
  },
  {
   "cell_type": "code",
   "execution_count": 5,
   "id": "2214ead2",
   "metadata": {},
   "outputs": [
    {
     "name": "stdout",
     "output_type": "stream",
     "text": [
      "9.754251385926654\n"
     ]
    }
   ],
   "source": [
    "#Calculate mean of the portfolio returns\n",
    "Exp_R_pt = df['R_pt'].mean()\n",
    "\n",
    "#Print this mean\n",
    "print(Exp_R_pt)"
   ]
  },
  {
   "cell_type": "markdown",
   "id": "3701b624",
   "metadata": {},
   "source": [
    "Now as a function of $k$, as explained in the accompanying pdf, we need to divide the `Exp_R_pt` by $k$:\n",
    "\n",
    "$$ E[R_{p,t}](k) = \\frac{E[R_{p,t}]}{k} $$"
   ]
  },
  {
   "cell_type": "markdown",
   "id": "3aacfc64",
   "metadata": {},
   "source": [
    "We do this by first defining the function as specified:"
   ]
  },
  {
   "cell_type": "code",
   "execution_count": 6,
   "id": "af43d9e9",
   "metadata": {},
   "outputs": [],
   "source": [
    "#Define function that carries out the calculation\n",
    "def Exp_R_pt_k (exp, k):\n",
    "    return exp/k"
   ]
  },
  {
   "cell_type": "markdown",
   "id": "e49d11ad",
   "metadata": {},
   "source": [
    "We can then define a reasonable set of $k$ values, and produce the plot."
   ]
  },
  {
   "cell_type": "code",
   "execution_count": 7,
   "id": "616437f6",
   "metadata": {},
   "outputs": [
    {
     "data": {
      "image/png": "[encoded data removed]",
      "text/plain": [
       "<Figure size 640x480 with 1 Axes>"
      ]
     },
     "metadata": {},
     "output_type": "display_data"
    }
   ],
   "source": [
    "#Define range of values of k to plot\n",
    "k_exp = np.linspace(0.1, 1 ,100)\n",
    "\n",
    "#Define plot of k, and its function value\n",
    "plt.plot(k_exp, Exp_R_pt_k(Exp_R_pt, k_exp))\n",
    "\n",
    "#Rename the plot labels\n",
    "plt.title(r'Average portfolio return $E[R_{p,t}]$ as a function of $k$')\n",
    "plt.ylabel(r'$E[R_{p,t}]$')\n",
    "plt.xlabel(r'$k$')\n",
    "\n",
    "#Save figure in the relavent directory\n",
    "plt.savefig('../figures/Exp_R_pt_k.png')\n",
    "\n",
    "#Print plot\n",
    "plt.show()"
   ]
  },
  {
   "cell_type": "markdown",
   "id": "08f42a71",
   "metadata": {},
   "source": [
    "## Plotting $Var(R_{p,t})$"
   ]
  },
  {
   "cell_type": "markdown",
   "id": "5708c0b4",
   "metadata": {},
   "source": [
    "In order to plot the value as a function of $k$, we need to find the \n",
    "variance of $R_{p,t}$. So:"
   ]
  },
  {
   "cell_type": "code",
   "execution_count": 8,
   "id": "a0363e33",
   "metadata": {},
   "outputs": [
    {
     "name": "stdout",
     "output_type": "stream",
     "text": [
      "222.73459827931595\n"
     ]
    }
   ],
   "source": [
    "#Calculate variance of the portfolio returns\n",
    "Var_R_pt = np.var(df['R_pt'])\n",
    "\n",
    "#Print this value\n",
    "print(Var_R_pt)"
   ]
  },
  {
   "cell_type": "markdown",
   "id": "3ffd27fe",
   "metadata": {},
   "source": [
    "Now as a function of $k$, as explained in the accompanying pdf, we need to divide the `Var_R_pt` by $k^2$:\n",
    "\n",
    "$$ Var(R_{p,t})(k) = \\frac{Var(R_{p,t})}{k^2} $$"
   ]
  },
  {
   "cell_type": "code",
   "execution_count": 9,
   "id": "b3efe539",
   "metadata": {},
   "outputs": [],
   "source": [
    "#Define function to carry out the calculation above\n",
    "def Var_R_pt_k (var, k):\n",
    "    return var/(k**2)"
   ]
  },
  {
   "cell_type": "markdown",
   "id": "4208d78f",
   "metadata": {},
   "source": [
    "Once again we define a range of suitable $k$ values, and then produce a plot."
   ]
  },
  {
   "cell_type": "code",
   "execution_count": 10,
   "id": "b62aeb12",
   "metadata": {},
   "outputs": [
    {
     "data": {
      "image/png": "[encoded data removed]",
      "text/plain": [
       "<Figure size 640x480 with 1 Axes>"
      ]
     },
     "metadata": {},
     "output_type": "display_data"
    }
   ],
   "source": [
    "#Define a range of suitable values for k to plot on\n",
    "k_var = np.linspace(0.1, 1 ,100)\n",
    "\n",
    "#Plot k and its function output\n",
    "plt.plot(k_var, Var_R_pt_k(Var_R_pt, k_var))\n",
    "\n",
    "#Rename labels\n",
    "plt.title(r'Volatility of portfolio return $Var(R_{p,t})$ as a function of $k$')\n",
    "plt.ylabel(r'$Var(R_{p,t})$')\n",
    "plt.xlabel(r'$k$')\n",
    "\n",
    "#Save figure to data folder\n",
    "plt.savefig('../figures/Var_R_pt_k.png')\n",
    "\n",
    "#Print plot\n",
    "plt.show()"
   ]
  }
 ],
 "metadata": {
  "kernelspec": {
   "display_name": "ultramarin",
   "language": "python",
   "name": "ultramarin"
  },
  "language_info": {
   "codemirror_mode": {
    "name": "ipython",
    "version": 3
   },
   "file_extension": ".py",
   "mimetype": "text/x-python",
   "name": "python",
   "nbconvert_exporter": "python",
   "pygments_lexer": "ipython3",
   "version": "3.10.9"
  }
 },
 "nbformat": 4,
 "nbformat_minor": 5
}
