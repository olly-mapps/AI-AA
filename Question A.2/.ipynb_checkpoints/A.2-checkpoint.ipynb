{
 "cells": [
  {
   "cell_type": "markdown",
   "id": "54696088",
   "metadata": {},
   "source": [
    "# Question A.2"
   ]
  },
  {
   "cell_type": "markdown",
   "id": "f28bf26d",
   "metadata": {},
   "source": [
    "This notebook documents the development of a model that predicts returns $R_t$ using the log dividend growth $\\Delta d_t$ and Price-to-Dividend ratio $PD_t$."
   ]
  },
  {
   "cell_type": "markdown",
   "id": "66eb6272",
   "metadata": {},
   "source": [
    "## Libraries"
   ]
  },
  {
   "cell_type": "markdown",
   "id": "50c7aea0",
   "metadata": {},
   "source": [
    "For our model, we want to import the following libraries."
   ]
  },
  {
   "cell_type": "code",
   "execution_count": 1,
   "id": "2a88a5d3",
   "metadata": {},
   "outputs": [],
   "source": [
    "import pandas as pd\n",
    "import numpy as np\n",
    "import matplotlib.pyplot as plt\n",
    "from scipy import stats\n",
    "from sklearn.linear_model import LinearRegression\n",
    "from statsmodels.tsa.stattools import acf, pacf\n",
    "from statsmodels.graphics.tsaplots import plot_acf, plot_pacf\n",
    "from statsmodels.tsa.vector_ar.var_model import VAR\n",
    "from sklearn.metrics import mean_squared_error\n",
    "from sklearn.metrics import mean_absolute_error\n",
    "from statsmodels.tsa.stattools import adfuller\n",
    "from sklearn.ensemble import GradientBoostingRegressor\n",
    "from sklearn.model_selection import GridSearchCV\n",
    "from sklearn.preprocessing import StandardScaler\n",
    "import tensorflow as tf\n",
    "import keras\n",
    "from keras import optimizers\n",
    "from keras.callbacks import History\n",
    "from keras.models import Model, Sequential\n",
    "from keras.layers import Dense, Bidirectional, Dropout, LSTM, Input, Activation, concatenate\n",
    "import math\n",
    "from sklearn.preprocessing import MinMaxScaler\n",
    "from sklearn.model_selection import RepeatedKFold"
   ]
  },
  {
   "cell_type": "markdown",
   "id": "0c6e737a",
   "metadata": {},
   "source": [
    "## Data Loading"
   ]
  },
  {
   "cell_type": "markdown",
   "id": "3ea68fe8",
   "metadata": {},
   "source": [
    "Our data is found in the `data.csv` file, and we first want to load it in."
   ]
  },
  {
   "cell_type": "code",
   "execution_count": 2,
   "id": "0a1d989d",
   "metadata": {},
   "outputs": [
    {
     "data": {
      "text/html": [
       "<div>\n",
       "<style scoped>\n",
       "    .dataframe tbody tr th:only-of-type {\n",
       "        vertical-align: middle;\n",
       "    }\n",
       "\n",
       "    .dataframe tbody tr th {\n",
       "        vertical-align: top;\n",
       "    }\n",
       "\n",
       "    .dataframe thead th {\n",
       "        text-align: right;\n",
       "    }\n",
       "</style>\n",
       "<table border=\"1\" class=\"dataframe\">\n",
       "  <thead>\n",
       "    <tr style=\"text-align: right;\">\n",
       "      <th></th>\n",
       "      <th>date</th>\n",
       "      <th>Return_with_Dividends</th>\n",
       "      <th>Return_without_Dividends</th>\n",
       "      <th>RiskFree_Rate_1Month_Forward</th>\n",
       "      <th>Return_1Month_Forward</th>\n",
       "      <th>Sigma</th>\n",
       "    </tr>\n",
       "  </thead>\n",
       "  <tbody>\n",
       "    <tr>\n",
       "      <th>0</th>\n",
       "      <td>1998-02-07</td>\n",
       "      <td>0.304277</td>\n",
       "      <td>0.143167</td>\n",
       "      <td>0.350638</td>\n",
       "      <td>0.055277</td>\n",
       "      <td>NaN</td>\n",
       "    </tr>\n",
       "    <tr>\n",
       "      <th>1</th>\n",
       "      <td>1998-02-10</td>\n",
       "      <td>0.291903</td>\n",
       "      <td>0.154534</td>\n",
       "      <td>0.363007</td>\n",
       "      <td>0.025068</td>\n",
       "      <td>NaN</td>\n",
       "    </tr>\n",
       "    <tr>\n",
       "      <th>2</th>\n",
       "      <td>1998-02-11</td>\n",
       "      <td>0.269282</td>\n",
       "      <td>0.179072</td>\n",
       "      <td>0.365795</td>\n",
       "      <td>0.043227</td>\n",
       "      <td>NaN</td>\n",
       "    </tr>\n",
       "    <tr>\n",
       "      <th>3</th>\n",
       "      <td>1998-02-12</td>\n",
       "      <td>0.290409</td>\n",
       "      <td>0.160366</td>\n",
       "      <td>0.377143</td>\n",
       "      <td>0.056165</td>\n",
       "      <td>NaN</td>\n",
       "    </tr>\n",
       "    <tr>\n",
       "      <th>4</th>\n",
       "      <td>1998-02-13</td>\n",
       "      <td>0.268346</td>\n",
       "      <td>0.149079</td>\n",
       "      <td>0.350271</td>\n",
       "      <td>0.074432</td>\n",
       "      <td>NaN</td>\n",
       "    </tr>\n",
       "    <tr>\n",
       "      <th>...</th>\n",
       "      <td>...</td>\n",
       "      <td>...</td>\n",
       "      <td>...</td>\n",
       "      <td>...</td>\n",
       "      <td>...</td>\n",
       "      <td>...</td>\n",
       "    </tr>\n",
       "    <tr>\n",
       "      <th>6256</th>\n",
       "      <td>2022-02-01</td>\n",
       "      <td>0.178304</td>\n",
       "      <td>0.067787</td>\n",
       "      <td>-0.005573</td>\n",
       "      <td>-0.042527</td>\n",
       "      <td>0.056470</td>\n",
       "    </tr>\n",
       "    <tr>\n",
       "      <th>6257</th>\n",
       "      <td>2022-02-02</td>\n",
       "      <td>0.194420</td>\n",
       "      <td>0.077617</td>\n",
       "      <td>0.003521</td>\n",
       "      <td>-0.039765</td>\n",
       "      <td>0.057842</td>\n",
       "    </tr>\n",
       "    <tr>\n",
       "      <th>6258</th>\n",
       "      <td>2022-02-03</td>\n",
       "      <td>0.178116</td>\n",
       "      <td>0.069139</td>\n",
       "      <td>0.000203</td>\n",
       "      <td>-0.047804</td>\n",
       "      <td>0.059506</td>\n",
       "    </tr>\n",
       "    <tr>\n",
       "      <th>6259</th>\n",
       "      <td>2022-02-04</td>\n",
       "      <td>0.172267</td>\n",
       "      <td>0.064309</td>\n",
       "      <td>0.002355</td>\n",
       "      <td>-0.075907</td>\n",
       "      <td>0.058272</td>\n",
       "    </tr>\n",
       "    <tr>\n",
       "      <th>6260</th>\n",
       "      <td>2022-02-05</td>\n",
       "      <td>0.186062</td>\n",
       "      <td>0.071981</td>\n",
       "      <td>-0.003421</td>\n",
       "      <td>-0.039052</td>\n",
       "      <td>0.056425</td>\n",
       "    </tr>\n",
       "  </tbody>\n",
       "</table>\n",
       "<p>6261 rows × 6 columns</p>\n",
       "</div>"
      ],
      "text/plain": [
       "            date  Return_with_Dividends  Return_without_Dividends  \\\n",
       "0     1998-02-07               0.304277                  0.143167   \n",
       "1     1998-02-10               0.291903                  0.154534   \n",
       "2     1998-02-11               0.269282                  0.179072   \n",
       "3     1998-02-12               0.290409                  0.160366   \n",
       "4     1998-02-13               0.268346                  0.149079   \n",
       "...          ...                    ...                       ...   \n",
       "6256  2022-02-01               0.178304                  0.067787   \n",
       "6257  2022-02-02               0.194420                  0.077617   \n",
       "6258  2022-02-03               0.178116                  0.069139   \n",
       "6259  2022-02-04               0.172267                  0.064309   \n",
       "6260  2022-02-05               0.186062                  0.071981   \n",
       "\n",
       "      RiskFree_Rate_1Month_Forward  Return_1Month_Forward     Sigma  \n",
       "0                         0.350638               0.055277       NaN  \n",
       "1                         0.363007               0.025068       NaN  \n",
       "2                         0.365795               0.043227       NaN  \n",
       "3                         0.377143               0.056165       NaN  \n",
       "4                         0.350271               0.074432       NaN  \n",
       "...                            ...                    ...       ...  \n",
       "6256                     -0.005573              -0.042527  0.056470  \n",
       "6257                      0.003521              -0.039765  0.057842  \n",
       "6258                      0.000203              -0.047804  0.059506  \n",
       "6259                      0.002355              -0.075907  0.058272  \n",
       "6260                     -0.003421              -0.039052  0.056425  \n",
       "\n",
       "[6261 rows x 6 columns]"
      ]
     },
     "execution_count": 2,
     "metadata": {},
     "output_type": "execute_result"
    }
   ],
   "source": [
    "#Read data.csv file from the data directory\n",
    "df = pd.read_csv('../data/data.csv', index_col = [0], parse_dates = True)\n",
    "\n",
    "# Inspect data\n",
    "df"
   ]
  },
  {
   "cell_type": "markdown",
   "id": "ff2bd13a",
   "metadata": {},
   "source": [
    "We also want to convert the date to `datetime` format."
   ]
  },
  {
   "cell_type": "code",
   "execution_count": 3,
   "id": "b607c4d2",
   "metadata": {},
   "outputs": [],
   "source": [
    "#Convert the date column to datetime\n",
    "df['date'] = pd.to_datetime(df['date'])"
   ]
  },
  {
   "cell_type": "markdown",
   "id": "bc9c977d",
   "metadata": {},
   "source": [
    "And then set this as the index. We also convert the index into a daily `Period`, which is suitable since the data is an almost daily time series."
   ]
  },
  {
   "cell_type": "code",
   "execution_count": 4,
   "id": "0a7045ec",
   "metadata": {},
   "outputs": [],
   "source": [
    "#Set the date column as the index\n",
    "df.set_index('date', inplace = True)\n",
    "\n",
    "#Set the 'period' of the time series to daily\n",
    "df.index = pd.DatetimeIndex(df.index).to_period('D')"
   ]
  },
  {
   "cell_type": "markdown",
   "id": "4bcdbd7a",
   "metadata": {},
   "source": [
    "### Imputing Null Values"
   ]
  },
  {
   "cell_type": "markdown",
   "id": "fcc5e2c2",
   "metadata": {},
   "source": [
    "We also see that sigma has NaN values, since we are not using them in this part, we will drop that column."
   ]
  },
  {
   "cell_type": "code",
   "execution_count": 5,
   "id": "8731e2f6",
   "metadata": {},
   "outputs": [],
   "source": [
    "#Drop the column labelled Sigma\n",
    "df.drop(['Sigma'], axis = 1, inplace = True)"
   ]
  },
  {
   "cell_type": "markdown",
   "id": "a4809be0",
   "metadata": {},
   "source": [
    "We also impute any other missing values. First we check where these are located."
   ]
  },
  {
   "cell_type": "code",
   "execution_count": 6,
   "id": "158f187c",
   "metadata": {},
   "outputs": [
    {
     "data": {
      "text/plain": [
       "PeriodIndex(['1998-04-25', '1999-11-12', '2003-01-03', '2004-06-12',\n",
       "             '2005-04-15', '2006-05-23', '2006-11-02', '2007-05-05',\n",
       "             '2007-10-02', '2007-10-18', '2008-04-15', '2008-10-31',\n",
       "             '2009-01-14', '2010-02-23', '2010-07-07', '2014-11-07',\n",
       "             '2015-02-26', '2015-07-02', '2015-08-27', '2015-10-09',\n",
       "             '2016-03-15', '2016-06-24', '2018-12-07', '2019-04-18',\n",
       "             '2020-07-23'],\n",
       "            dtype='period[D]', name='date')"
      ]
     },
     "execution_count": 6,
     "metadata": {},
     "output_type": "execute_result"
    }
   ],
   "source": [
    "#Filter the dataframe by a boolean matrix indicating whether there is a null value\n",
    "df[df.isnull().any(axis = 1)].index"
   ]
  },
  {
   "cell_type": "markdown",
   "id": "f74beec2",
   "metadata": {},
   "source": [
    "Since these happen at seemingly sporadic intervals, we can simply impute the values from the previous observation. We define a function to carry this work out."
   ]
  },
  {
   "cell_type": "code",
   "execution_count": 7,
   "id": "8e0773e8",
   "metadata": {},
   "outputs": [],
   "source": [
    "#Define function \n",
    "def fill_missing(values):\n",
    "    \n",
    "    #Define the value by which we step backwards. Since it is the previous obseration, we set to 1\n",
    "    back_trace = 1\n",
    "    \n",
    "    #Define for loop to iterate over the dataframe rows\n",
    "    for row in range(df.shape[0]):\n",
    "        \n",
    "        #Define for loop to iterate over each column in the row\n",
    "        for col in range(df.shape[1]):\n",
    "            \n",
    "            #If there exists a null value\n",
    "            if np.isnan(values[row][col]):\n",
    "                \n",
    "                #Impute with the previous value in that column\n",
    "                values[row,col] = values[row-back_trace,col]\n",
    "                \n",
    "#Run function on the dataframe\n",
    "fill_missing(df.values)"
   ]
  },
  {
   "cell_type": "markdown",
   "id": "20c2aefd",
   "metadata": {},
   "source": [
    "Now to check our work."
   ]
  },
  {
   "cell_type": "code",
   "execution_count": 8,
   "id": "acefecfa",
   "metadata": {
    "scrolled": false
   },
   "outputs": [
    {
     "data": {
      "text/plain": [
       "False"
      ]
     },
     "execution_count": 8,
     "metadata": {},
     "output_type": "execute_result"
    }
   ],
   "source": [
    "#Check if there exist any null values\n",
    "df.isnull().values.any()"
   ]
  },
  {
   "cell_type": "markdown",
   "id": "cbc7e36f",
   "metadata": {},
   "source": [
    "Since this returns false, we have that there are no more null values. We now inspect our current dataframe"
   ]
  },
  {
   "cell_type": "code",
   "execution_count": 9,
   "id": "4dbd200d",
   "metadata": {},
   "outputs": [
    {
     "data": {
      "text/html": [
       "<div>\n",
       "<style scoped>\n",
       "    .dataframe tbody tr th:only-of-type {\n",
       "        vertical-align: middle;\n",
       "    }\n",
       "\n",
       "    .dataframe tbody tr th {\n",
       "        vertical-align: top;\n",
       "    }\n",
       "\n",
       "    .dataframe thead th {\n",
       "        text-align: right;\n",
       "    }\n",
       "</style>\n",
       "<table border=\"1\" class=\"dataframe\">\n",
       "  <thead>\n",
       "    <tr style=\"text-align: right;\">\n",
       "      <th></th>\n",
       "      <th>Return_with_Dividends</th>\n",
       "      <th>Return_without_Dividends</th>\n",
       "      <th>RiskFree_Rate_1Month_Forward</th>\n",
       "      <th>Return_1Month_Forward</th>\n",
       "    </tr>\n",
       "    <tr>\n",
       "      <th>date</th>\n",
       "      <th></th>\n",
       "      <th></th>\n",
       "      <th></th>\n",
       "      <th></th>\n",
       "    </tr>\n",
       "  </thead>\n",
       "  <tbody>\n",
       "    <tr>\n",
       "      <th>1998-02-07</th>\n",
       "      <td>0.304277</td>\n",
       "      <td>0.143167</td>\n",
       "      <td>0.350638</td>\n",
       "      <td>0.055277</td>\n",
       "    </tr>\n",
       "    <tr>\n",
       "      <th>1998-02-10</th>\n",
       "      <td>0.291903</td>\n",
       "      <td>0.154534</td>\n",
       "      <td>0.363007</td>\n",
       "      <td>0.025068</td>\n",
       "    </tr>\n",
       "    <tr>\n",
       "      <th>1998-02-11</th>\n",
       "      <td>0.269282</td>\n",
       "      <td>0.179072</td>\n",
       "      <td>0.365795</td>\n",
       "      <td>0.043227</td>\n",
       "    </tr>\n",
       "    <tr>\n",
       "      <th>1998-02-12</th>\n",
       "      <td>0.290409</td>\n",
       "      <td>0.160366</td>\n",
       "      <td>0.377143</td>\n",
       "      <td>0.056165</td>\n",
       "    </tr>\n",
       "    <tr>\n",
       "      <th>1998-02-13</th>\n",
       "      <td>0.268346</td>\n",
       "      <td>0.149079</td>\n",
       "      <td>0.350271</td>\n",
       "      <td>0.074432</td>\n",
       "    </tr>\n",
       "  </tbody>\n",
       "</table>\n",
       "</div>"
      ],
      "text/plain": [
       "            Return_with_Dividends  Return_without_Dividends  \\\n",
       "date                                                          \n",
       "1998-02-07               0.304277                  0.143167   \n",
       "1998-02-10               0.291903                  0.154534   \n",
       "1998-02-11               0.269282                  0.179072   \n",
       "1998-02-12               0.290409                  0.160366   \n",
       "1998-02-13               0.268346                  0.149079   \n",
       "\n",
       "            RiskFree_Rate_1Month_Forward  Return_1Month_Forward  \n",
       "date                                                             \n",
       "1998-02-07                      0.350638               0.055277  \n",
       "1998-02-10                      0.363007               0.025068  \n",
       "1998-02-11                      0.365795               0.043227  \n",
       "1998-02-12                      0.377143               0.056165  \n",
       "1998-02-13                      0.350271               0.074432  "
      ]
     },
     "execution_count": 9,
     "metadata": {},
     "output_type": "execute_result"
    }
   ],
   "source": [
    "#View top of dataframe\n",
    "df.head()"
   ]
  },
  {
   "cell_type": "markdown",
   "id": "ed96a0a6",
   "metadata": {},
   "source": [
    "## Exploratory Data Analysis"
   ]
  },
  {
   "cell_type": "markdown",
   "id": "23e831bf",
   "metadata": {},
   "source": [
    "We now perform some exploratory data analysis to get a better feel for our data. We first plot a box plot to get a feel for the variance of our observations."
   ]
  },
  {
   "cell_type": "code",
   "execution_count": 10,
   "id": "1ac0cec2",
   "metadata": {
    "scrolled": false
   },
   "outputs": [
    {
     "data": {
      "image/png": "[encoded data removed]",
      "text/plain": [
       "<Figure size 640x480 with 1 Axes>"
      ]
     },
     "metadata": {},
     "output_type": "display_data"
    }
   ],
   "source": [
    "#Plot boxplots\n",
    "df.plot(kind = 'box')\n",
    "\n",
    "#Rotate labels\n",
    "plt.xticks(rotation = 90)\n",
    "\n",
    "#Print plot\n",
    "plt.show()"
   ]
  },
  {
   "cell_type": "markdown",
   "id": "627e18f1",
   "metadata": {},
   "source": [
    "We observe a severe outlier in `RiskFree_Rate_1Month_Forward`. Since it is almost -100, we can assume this is some measurement error, so to fit a model it will be wise to drop this."
   ]
  },
  {
   "cell_type": "code",
   "execution_count": 11,
   "id": "3843c806",
   "metadata": {},
   "outputs": [],
   "source": [
    "#Filter out observations where the foward riskfree rate is greater than 50\n",
    "df = df.loc[abs(df['RiskFree_Rate_1Month_Forward']) < 50].copy()"
   ]
  },
  {
   "cell_type": "code",
   "execution_count": 12,
   "id": "33d19dca",
   "metadata": {
    "scrolled": false
   },
   "outputs": [
    {
     "data": {
      "image/png": "[encoded data removed]",
      "text/plain": [
       "<Figure size 640x480 with 1 Axes>"
      ]
     },
     "metadata": {},
     "output_type": "display_data"
    }
   ],
   "source": [
    "#Plot boxplots\n",
    "\n",
    "df.plot(kind = 'box')\n",
    "plt.xticks(rotation = 90)\n",
    "plt.show()"
   ]
  },
  {
   "cell_type": "markdown",
   "id": "d9fbc9c5",
   "metadata": {},
   "source": [
    "Despite there still being statistical outliers, these values are within a more reasonable range, and hence this will not effect the generalisation of our model to greatly."
   ]
  },
  {
   "cell_type": "markdown",
   "id": "44e4eda2",
   "metadata": {},
   "source": [
    "We now take a look at summary statistics of our data."
   ]
  },
  {
   "cell_type": "code",
   "execution_count": 13,
   "id": "7b2bc141",
   "metadata": {},
   "outputs": [
    {
     "data": {
      "text/html": [
       "<div>\n",
       "<style scoped>\n",
       "    .dataframe tbody tr th:only-of-type {\n",
       "        vertical-align: middle;\n",
       "    }\n",
       "\n",
       "    .dataframe tbody tr th {\n",
       "        vertical-align: top;\n",
       "    }\n",
       "\n",
       "    .dataframe thead th {\n",
       "        text-align: right;\n",
       "    }\n",
       "</style>\n",
       "<table border=\"1\" class=\"dataframe\">\n",
       "  <thead>\n",
       "    <tr style=\"text-align: right;\">\n",
       "      <th></th>\n",
       "      <th>Return_with_Dividends</th>\n",
       "      <th>Return_without_Dividends</th>\n",
       "      <th>RiskFree_Rate_1Month_Forward</th>\n",
       "      <th>Return_1Month_Forward</th>\n",
       "    </tr>\n",
       "  </thead>\n",
       "  <tbody>\n",
       "    <tr>\n",
       "      <th>count</th>\n",
       "      <td>6256.000000</td>\n",
       "      <td>6256.000000</td>\n",
       "      <td>6256.000000</td>\n",
       "      <td>6256.000000</td>\n",
       "    </tr>\n",
       "    <tr>\n",
       "      <th>mean</th>\n",
       "      <td>0.109455</td>\n",
       "      <td>-0.012911</td>\n",
       "      <td>0.130775</td>\n",
       "      <td>0.006074</td>\n",
       "    </tr>\n",
       "    <tr>\n",
       "      <th>std</th>\n",
       "      <td>0.108956</td>\n",
       "      <td>0.096957</td>\n",
       "      <td>0.151515</td>\n",
       "      <td>0.057973</td>\n",
       "    </tr>\n",
       "    <tr>\n",
       "      <th>min</th>\n",
       "      <td>-0.197034</td>\n",
       "      <td>-0.302599</td>\n",
       "      <td>-0.061559</td>\n",
       "      <td>-0.376489</td>\n",
       "    </tr>\n",
       "    <tr>\n",
       "      <th>25%</th>\n",
       "      <td>0.031608</td>\n",
       "      <td>-0.077261</td>\n",
       "      <td>-0.015332</td>\n",
       "      <td>-0.022522</td>\n",
       "    </tr>\n",
       "    <tr>\n",
       "      <th>50%</th>\n",
       "      <td>0.127174</td>\n",
       "      <td>0.005096</td>\n",
       "      <td>0.099123</td>\n",
       "      <td>0.011724</td>\n",
       "    </tr>\n",
       "    <tr>\n",
       "      <th>75%</th>\n",
       "      <td>0.185965</td>\n",
       "      <td>0.052129</td>\n",
       "      <td>0.269003</td>\n",
       "      <td>0.040685</td>\n",
       "    </tr>\n",
       "    <tr>\n",
       "      <th>max</th>\n",
       "      <td>0.406503</td>\n",
       "      <td>0.277510</td>\n",
       "      <td>0.490552</td>\n",
       "      <td>0.240728</td>\n",
       "    </tr>\n",
       "  </tbody>\n",
       "</table>\n",
       "</div>"
      ],
      "text/plain": [
       "       Return_with_Dividends  Return_without_Dividends  \\\n",
       "count            6256.000000               6256.000000   \n",
       "mean                0.109455                 -0.012911   \n",
       "std                 0.108956                  0.096957   \n",
       "min                -0.197034                 -0.302599   \n",
       "25%                 0.031608                 -0.077261   \n",
       "50%                 0.127174                  0.005096   \n",
       "75%                 0.185965                  0.052129   \n",
       "max                 0.406503                  0.277510   \n",
       "\n",
       "       RiskFree_Rate_1Month_Forward  Return_1Month_Forward  \n",
       "count                   6256.000000            6256.000000  \n",
       "mean                       0.130775               0.006074  \n",
       "std                        0.151515               0.057973  \n",
       "min                       -0.061559              -0.376489  \n",
       "25%                       -0.015332              -0.022522  \n",
       "50%                        0.099123               0.011724  \n",
       "75%                        0.269003               0.040685  \n",
       "max                        0.490552               0.240728  "
      ]
     },
     "execution_count": 13,
     "metadata": {},
     "output_type": "execute_result"
    }
   ],
   "source": [
    "#Summary statistics\n",
    "df.describe()"
   ]
  },
  {
   "cell_type": "markdown",
   "id": "18644a6c",
   "metadata": {},
   "source": [
    "Notably, we see that `Return_without_Dividends` has a negative mean, which implies that on average the value from the past year of the equity excluding dividends actually decreases. From this we can deduce that on average dividends plays a more important role in the value of the equity year on year."
   ]
  },
  {
   "cell_type": "markdown",
   "id": "2a112434",
   "metadata": {},
   "source": [
    "## Data Augmentation"
   ]
  },
  {
   "cell_type": "markdown",
   "id": "38abac8a",
   "metadata": {},
   "source": [
    "We now wish to construct the variables $\\Delta d_t$ and $PD_t$. Using the derivations from Question A.1, we have the following:"
   ]
  },
  {
   "cell_type": "markdown",
   "id": "020c484f",
   "metadata": {},
   "source": [
    "$$\n",
    "    PD_t = \\frac{V_t + 1}{H_t - V_t}\n",
    "$$\n",
    "\n",
    "$$\n",
    "  \\Delta d_t = \\log \\left ( (H_t - V_t)(V_{t-1} + 1 ) \\right) - \\log \\left ( H_{t-1} - V_{t-1} \\right)\n",
    "$$"
   ]
  },
  {
   "cell_type": "markdown",
   "id": "dc69e6e3",
   "metadata": {},
   "source": [
    "### Price-to-Dividend Ratio $PD_t$"
   ]
  },
  {
   "cell_type": "markdown",
   "id": "9b2a35f2",
   "metadata": {},
   "source": [
    "In order to calculate the Price-to-Dividend ratio, we can simply augment the dataframe `df` to calculate this value given the formula. "
   ]
  },
  {
   "cell_type": "code",
   "execution_count": 14,
   "id": "6fe1bf49",
   "metadata": {},
   "outputs": [],
   "source": [
    "#Define the H_t and V_t columns\n",
    "H_t = df[\"Return_with_Dividends\"]\n",
    "V_t = df[\"Return_without_Dividends\"]\n",
    "\n",
    "#Augment a column PD_t which applies the relevant function\n",
    "df['PD_t'] = (V_t+1)/(H_t - V_t)"
   ]
  },
  {
   "cell_type": "markdown",
   "id": "fb15f215",
   "metadata": {},
   "source": [
    "### Log dividend growth $\\Delta d_t$"
   ]
  },
  {
   "cell_type": "markdown",
   "id": "903200d7",
   "metadata": {},
   "source": [
    "We can again apply the formula for $\\Delta d_t$ listed above to augment the data."
   ]
  },
  {
   "cell_type": "code",
   "execution_count": 15,
   "id": "1eaba7d1",
   "metadata": {},
   "outputs": [],
   "source": [
    "#Augment a column delta_d which applies the relevant function\n",
    "df[\"delta_d\"] = np.log((H_t.shift() - V_t.shift())*(V_t+1)) - np.log(H_t - V_t)"
   ]
  },
  {
   "cell_type": "markdown",
   "id": "8e95189c",
   "metadata": {},
   "source": [
    "### Augmented data"
   ]
  },
  {
   "cell_type": "markdown",
   "id": "940a1afd",
   "metadata": {},
   "source": [
    "We can now inspect our new, augmented data."
   ]
  },
  {
   "cell_type": "code",
   "execution_count": 16,
   "id": "fbd3fe01",
   "metadata": {
    "scrolled": true
   },
   "outputs": [
    {
     "data": {
      "text/html": [
       "<div>\n",
       "<style scoped>\n",
       "    .dataframe tbody tr th:only-of-type {\n",
       "        vertical-align: middle;\n",
       "    }\n",
       "\n",
       "    .dataframe tbody tr th {\n",
       "        vertical-align: top;\n",
       "    }\n",
       "\n",
       "    .dataframe thead th {\n",
       "        text-align: right;\n",
       "    }\n",
       "</style>\n",
       "<table border=\"1\" class=\"dataframe\">\n",
       "  <thead>\n",
       "    <tr style=\"text-align: right;\">\n",
       "      <th></th>\n",
       "      <th>Return_with_Dividends</th>\n",
       "      <th>Return_without_Dividends</th>\n",
       "      <th>RiskFree_Rate_1Month_Forward</th>\n",
       "      <th>Return_1Month_Forward</th>\n",
       "      <th>PD_t</th>\n",
       "      <th>delta_d</th>\n",
       "    </tr>\n",
       "    <tr>\n",
       "      <th>date</th>\n",
       "      <th></th>\n",
       "      <th></th>\n",
       "      <th></th>\n",
       "      <th></th>\n",
       "      <th></th>\n",
       "      <th></th>\n",
       "    </tr>\n",
       "  </thead>\n",
       "  <tbody>\n",
       "    <tr>\n",
       "      <th>1998-02-07</th>\n",
       "      <td>0.304277</td>\n",
       "      <td>0.143167</td>\n",
       "      <td>0.350638</td>\n",
       "      <td>0.055277</td>\n",
       "      <td>7.095540</td>\n",
       "      <td>NaN</td>\n",
       "    </tr>\n",
       "    <tr>\n",
       "      <th>1998-02-10</th>\n",
       "      <td>0.291903</td>\n",
       "      <td>0.154534</td>\n",
       "      <td>0.363007</td>\n",
       "      <td>0.025068</td>\n",
       "      <td>8.404637</td>\n",
       "      <td>0.303119</td>\n",
       "    </tr>\n",
       "    <tr>\n",
       "      <th>1998-02-11</th>\n",
       "      <td>0.269282</td>\n",
       "      <td>0.179072</td>\n",
       "      <td>0.365795</td>\n",
       "      <td>0.043227</td>\n",
       "      <td>13.070375</td>\n",
       "      <td>0.585262</td>\n",
       "    </tr>\n",
       "    <tr>\n",
       "      <th>1998-02-12</th>\n",
       "      <td>0.290409</td>\n",
       "      <td>0.160366</td>\n",
       "      <td>0.377143</td>\n",
       "      <td>0.056165</td>\n",
       "      <td>8.922924</td>\n",
       "      <td>-0.216997</td>\n",
       "    </tr>\n",
       "    <tr>\n",
       "      <th>1998-02-13</th>\n",
       "      <td>0.268346</td>\n",
       "      <td>0.149079</td>\n",
       "      <td>0.350271</td>\n",
       "      <td>0.074432</td>\n",
       "      <td>9.634514</td>\n",
       "      <td>0.225464</td>\n",
       "    </tr>\n",
       "  </tbody>\n",
       "</table>\n",
       "</div>"
      ],
      "text/plain": [
       "            Return_with_Dividends  Return_without_Dividends  \\\n",
       "date                                                          \n",
       "1998-02-07               0.304277                  0.143167   \n",
       "1998-02-10               0.291903                  0.154534   \n",
       "1998-02-11               0.269282                  0.179072   \n",
       "1998-02-12               0.290409                  0.160366   \n",
       "1998-02-13               0.268346                  0.149079   \n",
       "\n",
       "            RiskFree_Rate_1Month_Forward  Return_1Month_Forward       PD_t  \\\n",
       "date                                                                         \n",
       "1998-02-07                      0.350638               0.055277   7.095540   \n",
       "1998-02-10                      0.363007               0.025068   8.404637   \n",
       "1998-02-11                      0.365795               0.043227  13.070375   \n",
       "1998-02-12                      0.377143               0.056165   8.922924   \n",
       "1998-02-13                      0.350271               0.074432   9.634514   \n",
       "\n",
       "             delta_d  \n",
       "date                  \n",
       "1998-02-07       NaN  \n",
       "1998-02-10  0.303119  \n",
       "1998-02-11  0.585262  \n",
       "1998-02-12 -0.216997  \n",
       "1998-02-13  0.225464  "
      ]
     },
     "execution_count": 16,
     "metadata": {},
     "output_type": "execute_result"
    }
   ],
   "source": [
    "#Print data\n",
    "df.head()"
   ]
  },
  {
   "cell_type": "markdown",
   "id": "eb598826",
   "metadata": {},
   "source": [
    "Since we dont have enough data for the first observation, we will once again impute this value with the time period after it"
   ]
  },
  {
   "cell_type": "code",
   "execution_count": 17,
   "id": "fc4f1acf",
   "metadata": {},
   "outputs": [],
   "source": [
    "df['delta_d'][0] = df['delta_d'][1]"
   ]
  },
  {
   "cell_type": "markdown",
   "id": "3510f129",
   "metadata": {},
   "source": [
    "Which works as expected."
   ]
  },
  {
   "cell_type": "code",
   "execution_count": 18,
   "id": "7686694f",
   "metadata": {},
   "outputs": [
    {
     "data": {
      "text/html": [
       "<div>\n",
       "<style scoped>\n",
       "    .dataframe tbody tr th:only-of-type {\n",
       "        vertical-align: middle;\n",
       "    }\n",
       "\n",
       "    .dataframe tbody tr th {\n",
       "        vertical-align: top;\n",
       "    }\n",
       "\n",
       "    .dataframe thead th {\n",
       "        text-align: right;\n",
       "    }\n",
       "</style>\n",
       "<table border=\"1\" class=\"dataframe\">\n",
       "  <thead>\n",
       "    <tr style=\"text-align: right;\">\n",
       "      <th></th>\n",
       "      <th>Return_with_Dividends</th>\n",
       "      <th>Return_without_Dividends</th>\n",
       "      <th>RiskFree_Rate_1Month_Forward</th>\n",
       "      <th>Return_1Month_Forward</th>\n",
       "      <th>PD_t</th>\n",
       "      <th>delta_d</th>\n",
       "    </tr>\n",
       "    <tr>\n",
       "      <th>date</th>\n",
       "      <th></th>\n",
       "      <th></th>\n",
       "      <th></th>\n",
       "      <th></th>\n",
       "      <th></th>\n",
       "      <th></th>\n",
       "    </tr>\n",
       "  </thead>\n",
       "  <tbody>\n",
       "    <tr>\n",
       "      <th>1998-02-07</th>\n",
       "      <td>0.304277</td>\n",
       "      <td>0.143167</td>\n",
       "      <td>0.350638</td>\n",
       "      <td>0.055277</td>\n",
       "      <td>7.095540</td>\n",
       "      <td>0.303119</td>\n",
       "    </tr>\n",
       "    <tr>\n",
       "      <th>1998-02-10</th>\n",
       "      <td>0.291903</td>\n",
       "      <td>0.154534</td>\n",
       "      <td>0.363007</td>\n",
       "      <td>0.025068</td>\n",
       "      <td>8.404637</td>\n",
       "      <td>0.303119</td>\n",
       "    </tr>\n",
       "    <tr>\n",
       "      <th>1998-02-11</th>\n",
       "      <td>0.269282</td>\n",
       "      <td>0.179072</td>\n",
       "      <td>0.365795</td>\n",
       "      <td>0.043227</td>\n",
       "      <td>13.070375</td>\n",
       "      <td>0.585262</td>\n",
       "    </tr>\n",
       "    <tr>\n",
       "      <th>1998-02-12</th>\n",
       "      <td>0.290409</td>\n",
       "      <td>0.160366</td>\n",
       "      <td>0.377143</td>\n",
       "      <td>0.056165</td>\n",
       "      <td>8.922924</td>\n",
       "      <td>-0.216997</td>\n",
       "    </tr>\n",
       "    <tr>\n",
       "      <th>1998-02-13</th>\n",
       "      <td>0.268346</td>\n",
       "      <td>0.149079</td>\n",
       "      <td>0.350271</td>\n",
       "      <td>0.074432</td>\n",
       "      <td>9.634514</td>\n",
       "      <td>0.225464</td>\n",
       "    </tr>\n",
       "  </tbody>\n",
       "</table>\n",
       "</div>"
      ],
      "text/plain": [
       "            Return_with_Dividends  Return_without_Dividends  \\\n",
       "date                                                          \n",
       "1998-02-07               0.304277                  0.143167   \n",
       "1998-02-10               0.291903                  0.154534   \n",
       "1998-02-11               0.269282                  0.179072   \n",
       "1998-02-12               0.290409                  0.160366   \n",
       "1998-02-13               0.268346                  0.149079   \n",
       "\n",
       "            RiskFree_Rate_1Month_Forward  Return_1Month_Forward       PD_t  \\\n",
       "date                                                                         \n",
       "1998-02-07                      0.350638               0.055277   7.095540   \n",
       "1998-02-10                      0.363007               0.025068   8.404637   \n",
       "1998-02-11                      0.365795               0.043227  13.070375   \n",
       "1998-02-12                      0.377143               0.056165   8.922924   \n",
       "1998-02-13                      0.350271               0.074432   9.634514   \n",
       "\n",
       "             delta_d  \n",
       "date                  \n",
       "1998-02-07  0.303119  \n",
       "1998-02-10  0.303119  \n",
       "1998-02-11  0.585262  \n",
       "1998-02-12 -0.216997  \n",
       "1998-02-13  0.225464  "
      ]
     },
     "execution_count": 18,
     "metadata": {},
     "output_type": "execute_result"
    }
   ],
   "source": [
    "df.head()"
   ]
  },
  {
   "cell_type": "markdown",
   "id": "689e7923",
   "metadata": {},
   "source": [
    "## Further Exploratory Data Analysis"
   ]
  },
  {
   "cell_type": "markdown",
   "id": "d3028f4d",
   "metadata": {},
   "source": [
    "Before fitting models, we can perform some more exploratory data analysis on our augmented data."
   ]
  },
  {
   "cell_type": "code",
   "execution_count": 19,
   "id": "890891b9",
   "metadata": {},
   "outputs": [
    {
     "data": {
      "text/html": [
       "<div>\n",
       "<style scoped>\n",
       "    .dataframe tbody tr th:only-of-type {\n",
       "        vertical-align: middle;\n",
       "    }\n",
       "\n",
       "    .dataframe tbody tr th {\n",
       "        vertical-align: top;\n",
       "    }\n",
       "\n",
       "    .dataframe thead th {\n",
       "        text-align: right;\n",
       "    }\n",
       "</style>\n",
       "<table border=\"1\" class=\"dataframe\">\n",
       "  <thead>\n",
       "    <tr style=\"text-align: right;\">\n",
       "      <th></th>\n",
       "      <th>Return_with_Dividends</th>\n",
       "      <th>Return_without_Dividends</th>\n",
       "      <th>RiskFree_Rate_1Month_Forward</th>\n",
       "      <th>Return_1Month_Forward</th>\n",
       "      <th>PD_t</th>\n",
       "      <th>delta_d</th>\n",
       "    </tr>\n",
       "  </thead>\n",
       "  <tbody>\n",
       "    <tr>\n",
       "      <th>count</th>\n",
       "      <td>6256.000000</td>\n",
       "      <td>6256.000000</td>\n",
       "      <td>6256.000000</td>\n",
       "      <td>6256.000000</td>\n",
       "      <td>6256.000000</td>\n",
       "      <td>6256.000000</td>\n",
       "    </tr>\n",
       "    <tr>\n",
       "      <th>mean</th>\n",
       "      <td>0.109455</td>\n",
       "      <td>-0.012911</td>\n",
       "      <td>0.130775</td>\n",
       "      <td>0.006074</td>\n",
       "      <td>8.500196</td>\n",
       "      <td>-0.017943</td>\n",
       "    </tr>\n",
       "    <tr>\n",
       "      <th>std</th>\n",
       "      <td>0.108956</td>\n",
       "      <td>0.096957</td>\n",
       "      <td>0.151515</td>\n",
       "      <td>0.057973</td>\n",
       "      <td>2.321165</td>\n",
       "      <td>0.249271</td>\n",
       "    </tr>\n",
       "    <tr>\n",
       "      <th>min</th>\n",
       "      <td>-0.197034</td>\n",
       "      <td>-0.302599</td>\n",
       "      <td>-0.061559</td>\n",
       "      <td>-0.376489</td>\n",
       "      <td>4.326993</td>\n",
       "      <td>-1.404444</td>\n",
       "    </tr>\n",
       "    <tr>\n",
       "      <th>25%</th>\n",
       "      <td>0.031608</td>\n",
       "      <td>-0.077261</td>\n",
       "      <td>-0.015332</td>\n",
       "      <td>-0.022522</td>\n",
       "      <td>7.013399</td>\n",
       "      <td>-0.170649</td>\n",
       "    </tr>\n",
       "    <tr>\n",
       "      <th>50%</th>\n",
       "      <td>0.127174</td>\n",
       "      <td>0.005096</td>\n",
       "      <td>0.099123</td>\n",
       "      <td>0.011724</td>\n",
       "      <td>8.034640</td>\n",
       "      <td>-0.010764</td>\n",
       "    </tr>\n",
       "    <tr>\n",
       "      <th>75%</th>\n",
       "      <td>0.185965</td>\n",
       "      <td>0.052129</td>\n",
       "      <td>0.269003</td>\n",
       "      <td>0.040685</td>\n",
       "      <td>9.388610</td>\n",
       "      <td>0.140727</td>\n",
       "    </tr>\n",
       "    <tr>\n",
       "      <th>max</th>\n",
       "      <td>0.406503</td>\n",
       "      <td>0.277510</td>\n",
       "      <td>0.490552</td>\n",
       "      <td>0.240728</td>\n",
       "      <td>54.194632</td>\n",
       "      <td>1.160398</td>\n",
       "    </tr>\n",
       "  </tbody>\n",
       "</table>\n",
       "</div>"
      ],
      "text/plain": [
       "       Return_with_Dividends  Return_without_Dividends  \\\n",
       "count            6256.000000               6256.000000   \n",
       "mean                0.109455                 -0.012911   \n",
       "std                 0.108956                  0.096957   \n",
       "min                -0.197034                 -0.302599   \n",
       "25%                 0.031608                 -0.077261   \n",
       "50%                 0.127174                  0.005096   \n",
       "75%                 0.185965                  0.052129   \n",
       "max                 0.406503                  0.277510   \n",
       "\n",
       "       RiskFree_Rate_1Month_Forward  Return_1Month_Forward         PD_t  \\\n",
       "count                   6256.000000            6256.000000  6256.000000   \n",
       "mean                       0.130775               0.006074     8.500196   \n",
       "std                        0.151515               0.057973     2.321165   \n",
       "min                       -0.061559              -0.376489     4.326993   \n",
       "25%                       -0.015332              -0.022522     7.013399   \n",
       "50%                        0.099123               0.011724     8.034640   \n",
       "75%                        0.269003               0.040685     9.388610   \n",
       "max                        0.490552               0.240728    54.194632   \n",
       "\n",
       "           delta_d  \n",
       "count  6256.000000  \n",
       "mean     -0.017943  \n",
       "std       0.249271  \n",
       "min      -1.404444  \n",
       "25%      -0.170649  \n",
       "50%      -0.010764  \n",
       "75%       0.140727  \n",
       "max       1.160398  "
      ]
     },
     "execution_count": 19,
     "metadata": {},
     "output_type": "execute_result"
    }
   ],
   "source": [
    "#Summary Statistics\n",
    "df.describe()"
   ]
  },
  {
   "cell_type": "markdown",
   "id": "f88a40fc",
   "metadata": {},
   "source": [
    "Although the Price-to-Dividend ratio has a far larger magnitude than the other predictors, since it is a calculated value from the clean data we will keep it in our models."
   ]
  },
  {
   "cell_type": "markdown",
   "id": "5489010d",
   "metadata": {},
   "source": [
    "As given, our team hypothesises that we can predict returns using $PD_t$ and $\\Delta d_t$. So we now wish to visualise the relationship between these two variables, to inform model selection."
   ]
  },
  {
   "cell_type": "code",
   "execution_count": 20,
   "id": "318b00eb",
   "metadata": {
    "scrolled": false
   },
   "outputs": [
    {
     "data": {
      "image/png": "[encoded data removed]",
      "text/plain": [
       "<Figure size 640x480 with 1 Axes>"
      ]
     },
     "metadata": {},
     "output_type": "display_data"
    }
   ],
   "source": [
    "#Plot relationship between PD_t and 1 month foward returns\n",
    "df.plot(x='PD_t', y='Return_1Month_Forward', style='o')\n",
    "\n",
    "#Print plot\n",
    "plt.show()"
   ]
  },
  {
   "cell_type": "code",
   "execution_count": 21,
   "id": "19ccdfbc",
   "metadata": {},
   "outputs": [
    {
     "data": {
      "image/png": "[encoded data removed]",
      "text/plain": [
       "<Figure size 640x480 with 1 Axes>"
      ]
     },
     "metadata": {},
     "output_type": "display_data"
    }
   ],
   "source": [
    "#Plot relationship between the log dividend growth and 1 month forward returns \n",
    "df.plot(x='delta_d', y='Return_1Month_Forward', style='o')\n",
    "\n",
    "#Print plot\n",
    "plt.show()"
   ]
  },
  {
   "cell_type": "markdown",
   "id": "0ff0e43c",
   "metadata": {},
   "source": [
    "We observe that there may be a small non-linear relationship between $PD_t$ and $R_t$, but there appears to be no discernable relationship between $\\Delta d_t$ and $R_t$."
   ]
  },
  {
   "cell_type": "markdown",
   "id": "3ad587f9",
   "metadata": {},
   "source": [
    "We now inspect the considered variables over the time-frame."
   ]
  },
  {
   "cell_type": "code",
   "execution_count": 22,
   "id": "d060eca9",
   "metadata": {},
   "outputs": [
    {
     "data": {
      "image/png": "[encoded data removed]",
      "text/plain": [
       "<Figure size 640x480 with 1 Axes>"
      ]
     },
     "metadata": {},
     "output_type": "display_data"
    }
   ],
   "source": [
    "#Plot the returns over the time frame\n",
    "df.plot(y='Return_1Month_Forward')\n",
    "\n",
    "#Print plot\n",
    "plt.show()"
   ]
  },
  {
   "cell_type": "code",
   "execution_count": 23,
   "id": "e7f28e9e",
   "metadata": {},
   "outputs": [
    {
     "data": {
      "image/png": "[encoded data removed]",
      "text/plain": [
       "<Figure size 640x480 with 1 Axes>"
      ]
     },
     "metadata": {},
     "output_type": "display_data"
    }
   ],
   "source": [
    "#Plot PD_t over the time frame\n",
    "df.plot(y='PD_t')\n",
    "\n",
    "#Print plot\n",
    "plt.show()"
   ]
  },
  {
   "cell_type": "code",
   "execution_count": 24,
   "id": "9502ea04",
   "metadata": {},
   "outputs": [
    {
     "data": {
      "image/png": "[encoded data removed]",
      "text/plain": [
       "<Figure size 640x480 with 1 Axes>"
      ]
     },
     "metadata": {},
     "output_type": "display_data"
    }
   ],
   "source": [
    "#Print delta_d over the time frame\n",
    "df.plot(y='delta_d')\n",
    "\n",
    "#Print plot\n",
    "plt.show()"
   ]
  },
  {
   "cell_type": "markdown",
   "id": "805e84d1",
   "metadata": {},
   "source": [
    "We observe that over time our variables appear stationary, this motivates the use of some time-series based models."
   ]
  },
  {
   "cell_type": "markdown",
   "id": "82c39152",
   "metadata": {},
   "source": [
    "We can now check autocorrelation plots, "
   ]
  },
  {
   "cell_type": "code",
   "execution_count": 25,
   "id": "5707ca81",
   "metadata": {
    "scrolled": false
   },
   "outputs": [
    {
     "data": {
      "image/png": "[encoded data removed]",
      "text/plain": [
       "<Figure size 1600x300 with 2 Axes>"
      ]
     },
     "execution_count": 25,
     "metadata": {},
     "output_type": "execute_result"
    },
    {
     "data": {
      "image/png": "[encoded data removed]",
      "text/plain": [
       "<Figure size 1600x300 with 2 Axes>"
      ]
     },
     "metadata": {},
     "output_type": "display_data"
    }
   ],
   "source": [
    "fig, axes = plt.subplots(1,2,figsize=(16,3), dpi= 100)\n",
    "plot_acf(df['Return_1Month_Forward'].tolist(), lags=50, ax=axes[0])\n",
    "plot_pacf(df['Return_1Month_Forward'].tolist(), lags=50, ax=axes[1], method = 'ywm')"
   ]
  },
  {
   "cell_type": "markdown",
   "id": "979d3e55",
   "metadata": {},
   "source": [
    "We observe here that there is a large correlation between the time series and the returns up to a time lag of roughly 20, we will use this to inform our model tuning."
   ]
  },
  {
   "cell_type": "code",
   "execution_count": 26,
   "id": "4a76d4a1",
   "metadata": {},
   "outputs": [
    {
     "data": {
      "image/png": "[encoded data removed]",
      "text/plain": [
       "<Figure size 1600x300 with 2 Axes>"
      ]
     },
     "execution_count": 26,
     "metadata": {},
     "output_type": "execute_result"
    },
    {
     "data": {
      "image/png": "[encoded data removed]",
      "text/plain": [
       "<Figure size 1600x300 with 2 Axes>"
      ]
     },
     "metadata": {},
     "output_type": "display_data"
    }
   ],
   "source": [
    "fig, axes = plt.subplots(1,2,figsize=(16,3), dpi= 100)\n",
    "plot_acf(df['PD_t'].tolist(), lags=20, ax=axes[0])\n",
    "plot_pacf(df['PD_t'].tolist(), lags=20, ax=axes[1], method = 'ywm')"
   ]
  },
  {
   "cell_type": "code",
   "execution_count": 27,
   "id": "6ba39b29",
   "metadata": {},
   "outputs": [
    {
     "data": {
      "image/png": "[encoded data removed]",
      "text/plain": [
       "<Figure size 1600x300 with 2 Axes>"
      ]
     },
     "execution_count": 27,
     "metadata": {},
     "output_type": "execute_result"
    },
    {
     "data": {
      "image/png": "[encoded data removed]",
      "text/plain": [
       "<Figure size 1600x300 with 2 Axes>"
      ]
     },
     "metadata": {},
     "output_type": "display_data"
    }
   ],
   "source": [
    "fig, axes = plt.subplots(1,2,figsize=(16,3), dpi= 100)\n",
    "plot_acf(df['delta_d'].tolist(), lags=20, ax=axes[0])\n",
    "plot_pacf(df['delta_d'].tolist(), lags=20, ax=axes[1], method = 'ywm')"
   ]
  },
  {
   "cell_type": "markdown",
   "id": "9f3b1ed6",
   "metadata": {},
   "source": [
    "We also see that there is a pretty constant correlation between the time series and the predictor variables, we will again use this to inform the tuning of our model hyperparameters."
   ]
  },
  {
   "cell_type": "markdown",
   "id": "94e85acc",
   "metadata": {},
   "source": [
    "Lastly, we will observe the correlations between our predictor variables and the returns."
   ]
  },
  {
   "cell_type": "code",
   "execution_count": 28,
   "id": "5a00e2ac",
   "metadata": {
    "scrolled": false
   },
   "outputs": [
    {
     "name": "stdout",
     "output_type": "stream",
     "text": [
      "                              Return_with_Dividends  Return_without_Dividends  \\\n",
      "Return_with_Dividends                      1.000000                  0.970287   \n",
      "Return_without_Dividends                   0.970287                  1.000000   \n",
      "RiskFree_Rate_1Month_Forward              -0.075272                 -0.109633   \n",
      "Return_1Month_Forward                      0.022405                  0.037340   \n",
      "PD_t                                      -0.115500                  0.105933   \n",
      "delta_d                                    0.342113                  0.459074   \n",
      "\n",
      "                              RiskFree_Rate_1Month_Forward  \\\n",
      "Return_with_Dividends                            -0.075272   \n",
      "Return_without_Dividends                         -0.109633   \n",
      "RiskFree_Rate_1Month_Forward                      1.000000   \n",
      "Return_1Month_Forward                            -0.114434   \n",
      "PD_t                                             -0.117620   \n",
      "delta_d                                          -0.052925   \n",
      "\n",
      "                              Return_1Month_Forward      PD_t   delta_d  \n",
      "Return_with_Dividends                      0.022405 -0.115500  0.342113  \n",
      "Return_without_Dividends                   0.037340  0.105933  0.459074  \n",
      "RiskFree_Rate_1Month_Forward              -0.114434 -0.117620 -0.052925  \n",
      "Return_1Month_Forward                      1.000000  0.046641  0.018154  \n",
      "PD_t                                       0.046641  1.000000  0.478411  \n",
      "delta_d                                    0.018154  0.478411  1.000000  \n"
     ]
    }
   ],
   "source": [
    "print(df.corr())"
   ]
  },
  {
   "cell_type": "markdown",
   "id": "75423e1f",
   "metadata": {},
   "source": [
    "We see that there is an almost negligable correlation between returns and our predictors, however we press on to try and fit an accruate predictive model."
   ]
  },
  {
   "cell_type": "markdown",
   "id": "f9db77dd",
   "metadata": {},
   "source": [
    "## Fitting Models"
   ]
  },
  {
   "cell_type": "markdown",
   "id": "2aa7897d",
   "metadata": {},
   "source": [
    "In order to account for the time-series aspect of the data, we will fit models that account for this. This section documents the construction, fitting, and tuning of the various models. Since our problem prioritises predictive performance, we use the mean squared error and root mean abolute error to compare models."
   ]
  },
  {
   "cell_type": "markdown",
   "id": "ffbfdb38",
   "metadata": {},
   "source": [
    "### Train and Validation Split"
   ]
  },
  {
   "cell_type": "markdown",
   "id": "d37c548a",
   "metadata": {},
   "source": [
    "First we can isolate the variables of interest, namely $R_t$, $PD_t$ and $\\Delta d_t$."
   ]
  },
  {
   "cell_type": "code",
   "execution_count": 29,
   "id": "43b33f07",
   "metadata": {},
   "outputs": [],
   "source": [
    "#Filter dataframe based on the selection of columns\n",
    "df_iso = df.loc[:,['Return_1Month_Forward', 'PD_t', 'delta_d']]"
   ]
  },
  {
   "cell_type": "markdown",
   "id": "7a3554a0",
   "metadata": {},
   "source": [
    "Next we want to split our data into a train and validation set, we use a 0.8/0.2 split. Due to the time series nature, we use the first 80% of observations as training and the rest as test observations."
   ]
  },
  {
   "cell_type": "code",
   "execution_count": 30,
   "id": "f16d7407",
   "metadata": {},
   "outputs": [],
   "source": [
    "#Define training and test sets using indexes defined by the ratio\n",
    "train = df_iso[:int(0.8*(len(df)))]\n",
    "valid = df_iso[int(0.8*(len(df))):]"
   ]
  },
  {
   "cell_type": "markdown",
   "id": "3de96874",
   "metadata": {},
   "source": [
    "We will also split this set into predictor and target sets for model fitting."
   ]
  },
  {
   "cell_type": "code",
   "execution_count": 31,
   "id": "09e236b2",
   "metadata": {},
   "outputs": [],
   "source": [
    "#Define the predictor observations\n",
    "X_train = train.loc[:,['PD_t', 'delta_d']]\n",
    "X_valid = valid.loc[:,['PD_t', 'delta_d']]\n",
    "\n",
    "#Define the target variable observations\n",
    "y_train = train.loc[:,['Return_1Month_Forward']]\n",
    "y_valid = valid.loc[:,['Return_1Month_Forward']]"
   ]
  },
  {
   "cell_type": "markdown",
   "id": "68110d18",
   "metadata": {},
   "source": [
    "### Vector Auto-Regressive Model"
   ]
  },
  {
   "cell_type": "markdown",
   "id": "2d6dca09",
   "metadata": {},
   "source": [
    "Since the data is in a time-series, we want to make use of this as well as the relevant variables. Due to this, we first fit a Vector Auto-Regressive model."
   ]
  },
  {
   "cell_type": "markdown",
   "id": "ed15c7eb",
   "metadata": {},
   "source": [
    "In order to assess whether this model is appropriate, we need to check the stationarity of our time series data."
   ]
  },
  {
   "cell_type": "code",
   "execution_count": 32,
   "id": "b6da2f2d",
   "metadata": {
    "scrolled": true
   },
   "outputs": [
    {
     "name": "stdout",
     "output_type": "stream",
     "text": [
      "ADF Statistic: -4.149992\n",
      "p-value: 0.000800\n",
      "Critical Values:\n",
      "\t1%: -3.431\n",
      "\t5%: -2.862\n",
      "\t10%: -2.567\n"
     ]
    }
   ],
   "source": [
    "#Calculate the ADF statistic\n",
    "PD_t_adf = adfuller(df_iso[\"PD_t\"])\n",
    "\n",
    "#Print the statistic\n",
    "print('ADF Statistic: %f' % PD_t_adf[0])\n",
    "\n",
    "#Print the p-value for testing\n",
    "print('p-value: %f' % PD_t_adf[1])\n",
    "\n",
    "#Print the corresponding critical values\n",
    "print('Critical Values:')\n",
    "\n",
    "#For loop to print these values\n",
    "for key, value in PD_t_adf[4].items():\n",
    "     print('\\t%s: %.3f' % (key, value))"
   ]
  },
  {
   "cell_type": "code",
   "execution_count": 33,
   "id": "c6a06b08",
   "metadata": {},
   "outputs": [
    {
     "name": "stdout",
     "output_type": "stream",
     "text": [
      "ADF Statistic: -3.217632\n",
      "p-value: 0.018986\n",
      "Critical Values:\n",
      "\t1%: -3.431\n",
      "\t5%: -2.862\n",
      "\t10%: -2.567\n"
     ]
    }
   ],
   "source": [
    "#Calculate the ADF statistic\n",
    "delta_d_adf = adfuller(df_iso[\"delta_d\"])\n",
    "\n",
    "#Print the statistic\n",
    "print('ADF Statistic: %f' % delta_d_adf[0])\n",
    "\n",
    "#Print the p-value for testing\n",
    "print('p-value: %f' % delta_d_adf[1])\n",
    "\n",
    "#Print the corresponding critical values\n",
    "print('Critical Values:')\n",
    "\n",
    "#For loop to print these values\n",
    "for key, value in delta_d_adf[4].items():\n",
    "     print('\\t%s: %.3f' % (key, value))"
   ]
  },
  {
   "cell_type": "code",
   "execution_count": 34,
   "id": "3ef5f3e2",
   "metadata": {
    "scrolled": true
   },
   "outputs": [
    {
     "name": "stdout",
     "output_type": "stream",
     "text": [
      "ADF Statistic: -11.176374\n",
      "p-value: 0.000000\n",
      "Critical Values:\n",
      "\t1%: -3.431\n",
      "\t5%: -2.862\n",
      "\t10%: -2.567\n"
     ]
    }
   ],
   "source": [
    "#Calculate the ADF statistic\n",
    "returns_adf = adfuller(df_iso['Return_1Month_Forward'])\n",
    "\n",
    "#Print the statistic\n",
    "print('ADF Statistic: %f' % returns_adf[0])\n",
    "\n",
    "#Print the p-value for testing\n",
    "print('p-value: %f' % returns_adf[1])\n",
    "\n",
    "#Print the corresponding critical values\n",
    "print('Critical Values:')\n",
    "\n",
    "#For loop to print these values\n",
    "for key, value in returns_adf[4].items():\n",
    "     print('\\t%s: %.3f' % (key, value))"
   ]
  },
  {
   "cell_type": "markdown",
   "id": "fd7ffb83",
   "metadata": {},
   "source": [
    "Our null-hypothesis is that the data is not stationary, and since in each variable the ADF statistic is lower than the 5% significance level, we can reject the null hypothesis in each case. This implies our data is sufficiently stationary."
   ]
  },
  {
   "cell_type": "markdown",
   "id": "4d8478f2",
   "metadata": {},
   "source": [
    "We now fit the model to the training set"
   ]
  },
  {
   "cell_type": "code",
   "execution_count": 35,
   "id": "86a49c3d",
   "metadata": {},
   "outputs": [],
   "source": [
    "#Define instance of model\n",
    "var = VAR(endog=train)\n",
    "\n",
    "#Fit model to training set\n",
    "var_fit = var.fit()"
   ]
  },
  {
   "cell_type": "markdown",
   "id": "6bd7c77e",
   "metadata": {},
   "source": [
    "We can now check the summary data on our model."
   ]
  },
  {
   "cell_type": "code",
   "execution_count": 36,
   "id": "070861ec",
   "metadata": {
    "scrolled": false
   },
   "outputs": [
    {
     "data": {
      "text/plain": [
       "  Summary of Regression Results   \n",
       "==================================\n",
       "Model:                         VAR\n",
       "Method:                        OLS\n",
       "Date:           Thu, 15, Jun, 2023\n",
       "Time:                     12:13:40\n",
       "--------------------------------------------------------------------\n",
       "No. of Equations:         3.00000    BIC:                   -10.1757\n",
       "Nobs:                     5003.00    HQIC:                  -10.1859\n",
       "Log likelihood:           4208.83    FPE:                3.74929e-05\n",
       "AIC:                     -10.1914    Det(Omega_mle):     3.74032e-05\n",
       "--------------------------------------------------------------------\n",
       "Results for equation Return_1Month_Forward\n",
       "===========================================================================================\n",
       "                              coefficient       std. error           t-stat            prob\n",
       "-------------------------------------------------------------------------------------------\n",
       "const                           -0.000620         0.001359           -0.456           0.648\n",
       "L1.Return_1Month_Forward         0.918202         0.005598          164.009           0.000\n",
       "L1.PD_t                          0.000127         0.000152            0.834           0.404\n",
       "L1.delta_d                       0.000136         0.001454            0.094           0.925\n",
       "===========================================================================================\n",
       "\n",
       "Results for equation PD_t\n",
       "===========================================================================================\n",
       "                              coefficient       std. error           t-stat            prob\n",
       "-------------------------------------------------------------------------------------------\n",
       "const                            3.431635         0.122185           28.086           0.000\n",
       "L1.Return_1Month_Forward         1.246552         0.503422            2.476           0.013\n",
       "L1.PD_t                          0.594397         0.013667           43.493           0.000\n",
       "L1.delta_d                      -2.223929         0.130755          -17.008           0.000\n",
       "===========================================================================================\n",
       "\n",
       "Results for equation delta_d\n",
       "===========================================================================================\n",
       "                              coefficient       std. error           t-stat            prob\n",
       "-------------------------------------------------------------------------------------------\n",
       "const                            0.317416         0.013762           23.065           0.000\n",
       "L1.Return_1Month_Forward         0.218231         0.056702            3.849           0.000\n",
       "L1.PD_t                         -0.039564         0.001539          -25.702           0.000\n",
       "L1.delta_d                      -0.040988         0.014727           -2.783           0.005\n",
       "===========================================================================================\n",
       "\n",
       "Correlation matrix of residuals\n",
       "                         Return_1Month_Forward      PD_t   delta_d\n",
       "Return_1Month_Forward                 1.000000  0.010685  0.026014\n",
       "PD_t                                  0.010685  1.000000  0.846189\n",
       "delta_d                               0.026014  0.846189  1.000000\n",
       "\n"
      ]
     },
     "execution_count": 36,
     "metadata": {},
     "output_type": "execute_result"
    }
   ],
   "source": [
    "#Print summary of the model\n",
    "var_fit.summary()"
   ]
  },
  {
   "cell_type": "markdown",
   "id": "63397091",
   "metadata": {},
   "source": [
    "We observe that is has correctly fit, and so to assess performance we make predictions using the testing set."
   ]
  },
  {
   "cell_type": "code",
   "execution_count": 37,
   "id": "e1c37916",
   "metadata": {},
   "outputs": [],
   "source": [
    "#Forecast onto the testing set\n",
    "var_prediction = var_fit.forecast(var_fit.endog, steps=len(valid))"
   ]
  },
  {
   "cell_type": "markdown",
   "id": "7bdd6f54",
   "metadata": {},
   "source": [
    "We now cycle through the predictions to calculate the mean squared error and mean absolute error."
   ]
  },
  {
   "cell_type": "code",
   "execution_count": 38,
   "id": "185a951a",
   "metadata": {
    "scrolled": true
   },
   "outputs": [
    {
     "name": "stdout",
     "output_type": "stream",
     "text": [
      "0.05415271212149864\n",
      "0.03440652197095613\n"
     ]
    }
   ],
   "source": [
    "#Define set of columns to iterate through\n",
    "cols = df_iso.columns\n",
    "\n",
    "#Define empty dataframe to hold these predictions\n",
    "var_pred = pd.DataFrame(index=range(0,len(var_prediction)),columns=[cols])\n",
    "\n",
    "#Define for loop to iterate through each autoregression equation\n",
    "for j in range(0,3):\n",
    "    \n",
    "    #Define for loop to iterate through each row of this equation\n",
    "    for i in range(0, len(var_prediction)):\n",
    "        \n",
    "        #Store prediction in the correct index in the empty dataframe\n",
    "        var_pred.iloc[i][j] = var_prediction[i][j]\n",
    "\n",
    "#Print error statistics\n",
    "print(np.sqrt(mean_squared_error(var_pred['Return_1Month_Forward'], valid['Return_1Month_Forward'])))\n",
    "print(mean_absolute_error(var_pred['Return_1Month_Forward'], valid['Return_1Month_Forward']))"
   ]
  },
  {
   "cell_type": "markdown",
   "id": "d10b4f06",
   "metadata": {},
   "source": [
    "We find a pretty poor level of accuracy for our first model."
   ]
  },
  {
   "cell_type": "markdown",
   "id": "6ca89f7d",
   "metadata": {},
   "source": [
    "### Gradient Boosting Machine"
   ]
  },
  {
   "cell_type": "markdown",
   "id": "a25b33ad",
   "metadata": {},
   "source": [
    "In order to capture any non-linear relations, and to iteratively improve the fitness of the model, we use a gradient boosting machine next."
   ]
  },
  {
   "cell_type": "markdown",
   "id": "7df51e94",
   "metadata": {},
   "source": [
    "We use a grid search cross-validation procedure to tune the model. We define a selection of standard values for the number of trees, the learning rate, the training subsample size for each tree, and the max depth of each tree."
   ]
  },
  {
   "cell_type": "code",
   "execution_count": 39,
   "id": "efa87d1d",
   "metadata": {},
   "outputs": [],
   "source": [
    "#Define grid to search\n",
    "grid = dict()\n",
    "\n",
    "#Define standard values for the tuning \n",
    "grid['n_estimators'] = [10,50, 100]\n",
    "grid['learning_rate'] = [0.1, 0.01, 0.001]\n",
    "grid['subsample'] = [0.5, 0.7, 1.0]\n",
    "grid['max_depth'] = [3,7, 9]"
   ]
  },
  {
   "cell_type": "markdown",
   "id": "c106a985",
   "metadata": {},
   "source": [
    "We now set up our cross-validation procedure, we score the models based on the negative mean squared error."
   ]
  },
  {
   "cell_type": "code",
   "execution_count": 40,
   "id": "0aae6a88",
   "metadata": {},
   "outputs": [
    {
     "name": "stdout",
     "output_type": "stream",
     "text": [
      "Best: %f using %s (-0.0034559616318226845, {'learning_rate': 0.01, 'max_depth': 3, 'n_estimators': 100, 'subsample': 0.5})\n"
     ]
    }
   ],
   "source": [
    "#Define model to cross validate\n",
    "grid_model = GradientBoostingRegressor()\n",
    "\n",
    "#Define CV procedure, we use 10 folds.\n",
    "cv = RepeatedKFold(n_splits=10, n_repeats=3, random_state=1)\n",
    "\n",
    "#Search the grid for the best performaing combination of hyper-parameters \n",
    "grid_search = GridSearchCV(estimator=grid_model, param_grid=grid, n_jobs=-1, cv=cv, scoring='neg_mean_squared_error')\n",
    "\n",
    "#Fit the model to produce the best performing model\n",
    "grid_result = grid_search.fit(X_train, y_train.values.ravel())\n",
    "\n",
    "#Print the best performing model parameters and error\n",
    "print(\"Best: %f using %s\", (grid_result.best_score_, grid_result.best_params_))"
   ]
  },
  {
   "cell_type": "markdown",
   "id": "44baca9b",
   "metadata": {},
   "source": [
    "We see from the output the optimal hyperparameters, and as such we fit a model according to these specifications."
   ]
  },
  {
   "cell_type": "code",
   "execution_count": 41,
   "id": "1b7ebb2e",
   "metadata": {},
   "outputs": [],
   "source": [
    "#Define the model using the suggested parameters \n",
    "gbm = GradientBoostingRegressor(learning_rate = 0.01, n_estimators = 100, subsample = 0.5, max_depth = 3)\n",
    "\n",
    "#Fit the model to the training data\n",
    "gbm_fit = gbm.fit(X_train, y_train.values.ravel())"
   ]
  },
  {
   "cell_type": "code",
   "execution_count": 42,
   "id": "76c99a34",
   "metadata": {
    "scrolled": false
   },
   "outputs": [
    {
     "name": "stdout",
     "output_type": "stream",
     "text": [
      "0.05437813281634655\n",
      "0.034734895531227473\n"
     ]
    }
   ],
   "source": [
    "#Predict based on the testing set\n",
    "gbm_predict = gbm.predict(X_valid)\n",
    "\n",
    "#Calculate performance metrics\n",
    "print(np.sqrt(mean_squared_error(gbm_predict, y_valid)))\n",
    "print(mean_absolute_error(gbm_predict, y_valid))"
   ]
  },
  {
   "cell_type": "markdown",
   "id": "91eb3997",
   "metadata": {},
   "source": [
    "We see extremely similar results to the VAR, with the VAR being marginally better."
   ]
  },
  {
   "cell_type": "markdown",
   "id": "27c0fec4",
   "metadata": {},
   "source": [
    "### LSTM Model"
   ]
  },
  {
   "cell_type": "markdown",
   "id": "1d94c818",
   "metadata": {},
   "source": [
    "Lastly, we implement a LSTM Neural Network that will again aim to extract the time-series data, and will also likely make better use of the non-linear relationship between the predictors and the target. "
   ]
  },
  {
   "cell_type": "markdown",
   "id": "5e064eb0",
   "metadata": {},
   "source": [
    "#### Training"
   ]
  },
  {
   "cell_type": "markdown",
   "id": "1a18df8b",
   "metadata": {},
   "source": [
    "We first scale our training data so it suits the LSTM gate."
   ]
  },
  {
   "cell_type": "code",
   "execution_count": 43,
   "id": "2b7b58d0",
   "metadata": {
    "scrolled": false
   },
   "outputs": [
    {
     "name": "stdout",
     "output_type": "stream",
     "text": [
      "(5004, 3)\n",
      "(5004, 1)\n"
     ]
    }
   ],
   "source": [
    "#Define an instance of the scaler that refers to the input data\n",
    "sc_lstm_in = StandardScaler()\n",
    "\n",
    "#Scale the input data using this scaler\n",
    "train_lstm_in = sc_lstm_in.fit_transform(train)\n",
    "\n",
    "#Print shape\n",
    "print(train_lstm_in.shape)\n",
    "\n",
    "#Define an instance of the scaler that refers to the output stream \n",
    "sc_lstm_out = StandardScaler()\n",
    "\n",
    "#Scale the output stream by this scaler\n",
    "train_lstm_out = sc_lstm_out.fit_transform(train[[\"Return_1Month_Forward\"]])\n",
    "\n",
    "#Print shape\n",
    "print(train_lstm_out.shape)"
   ]
  },
  {
   "cell_type": "markdown",
   "id": "eb196460",
   "metadata": {},
   "source": [
    "We observe by the shape of these vectors that they are as expected. We scale the output stream so we can inverse it to regain our actual returns values."
   ]
  },
  {
   "cell_type": "markdown",
   "id": "d63b7234",
   "metadata": {},
   "source": [
    "We now define the magnitude to which we lag our data. Since the auto-correlation plots depicted good correlation amongst all relevant variables to a lag of 20, we will use this as our lag value."
   ]
  },
  {
   "cell_type": "code",
   "execution_count": 44,
   "id": "a290b0e9",
   "metadata": {},
   "outputs": [],
   "source": [
    "#Define lag value\n",
    "history_point = 20\n",
    "\n",
    "#Define empty lists that we will feed into the model\n",
    "X_train_lstm = []\n",
    "y_train_lstm = []\n",
    "\n",
    "#Define for loop to iterate through the dataframe, excluding the start x observations\n",
    "for i in range(history_point, len(train)):\n",
    "    \n",
    "    #Append the observations relevant to this particular time stamp, to the respective list\n",
    "    X_train_lstm.append(train_lstm_in[i-history_point:i])\n",
    "    y_train_lstm.append(train_lstm_out[i][0])\n",
    "\n",
    "#Convert lists to arrays, since this is what is expected by the model\n",
    "X_train_lstm, y_train_lstm = np.array(X_train_lstm), np.array(y_train_lstm)"
   ]
  },
  {
   "cell_type": "code",
   "execution_count": 45,
   "id": "64ce3e00",
   "metadata": {},
   "outputs": [
    {
     "name": "stdout",
     "output_type": "stream",
     "text": [
      "(4984, 20, 3)\n",
      "(4984,)\n"
     ]
    }
   ],
   "source": [
    "#Outputs input and output shapes\n",
    "print(X_train_lstm.shape)\n",
    "print(y_train_lstm.shape)"
   ]
  },
  {
   "cell_type": "markdown",
   "id": "32785606",
   "metadata": {},
   "source": [
    "We once again find the correct shapes in the arrays for this point. There are 20 relevant observations in the time series for each variable, however the model demands we reshape once more as such."
   ]
  },
  {
   "cell_type": "code",
   "execution_count": 46,
   "id": "72959fcd",
   "metadata": {
    "scrolled": true
   },
   "outputs": [
    {
     "name": "stdout",
     "output_type": "stream",
     "text": [
      "(4984, 20, 3)\n"
     ]
    }
   ],
   "source": [
    "#Reshape as required\n",
    "X_train_shape_lstm = np.reshape(X_train_lstm, (X_train_lstm.shape[0], X_train_lstm.shape[1], X_train_lstm.shape[2]))\n",
    "\n",
    "#Print new output shape\n",
    "print(X_train_shape_lstm.shape)"
   ]
  },
  {
   "cell_type": "markdown",
   "id": "59282845",
   "metadata": {},
   "source": [
    "We now define our model. We use two 64 unit LSTMS, and then one dense layer to summarise the features extracted using the LSTMs. During experimentation, we found ADAM to be the best optimiser for this purpose."
   ]
  },
  {
   "cell_type": "code",
   "execution_count": 47,
   "id": "c3d003f0",
   "metadata": {},
   "outputs": [],
   "source": [
    "#Define instance of an LSTM Neural Network\n",
    "lstm = Sequential()\n",
    "\n",
    "#First 64 unit LSTM Layer\n",
    "lstm.add(LSTM(units = 64, return_sequences = True, input_shape = (history_point,3)))\n",
    "\n",
    "#Second 64 unit LSTM Layer\n",
    "lstm.add(LSTM(units = 64))\n",
    "\n",
    "#Dense Layer\n",
    "lstm.add(Dense(1))\n",
    "\n",
    "#Compile model using the noted loss function and optimisers\n",
    "lstm.compile(optimizer = 'adam', loss='mean_squared_error')"
   ]
  },
  {
   "cell_type": "markdown",
   "id": "5d448d46",
   "metadata": {},
   "source": [
    "We now fit the model to the training set. Again during experimentation we found a batch size of 15 was optimal. We also see a convergence at epoch 30, if we use anymore we risk over-fit."
   ]
  },
  {
   "cell_type": "code",
   "execution_count": 48,
   "id": "df0d7a14",
   "metadata": {
    "scrolled": false
   },
   "outputs": [
    {
     "name": "stdout",
     "output_type": "stream",
     "text": [
      "Epoch 1/30\n",
      "333/333 [==============================] - 14s 30ms/step - loss: 0.2455\n",
      "Epoch 2/30\n",
      "333/333 [==============================] - 10s 31ms/step - loss: 0.1642\n",
      "Epoch 3/30\n",
      "333/333 [==============================] - 10s 30ms/step - loss: 0.1574\n",
      "Epoch 4/30\n",
      "333/333 [==============================] - 10s 30ms/step - loss: 0.1562\n",
      "Epoch 5/30\n",
      "333/333 [==============================] - 11s 32ms/step - loss: 0.1544\n",
      "Epoch 6/30\n",
      "333/333 [==============================] - 10s 30ms/step - loss: 0.1554\n",
      "Epoch 7/30\n",
      "333/333 [==============================] - 10s 30ms/step - loss: 0.1547\n",
      "Epoch 8/30\n",
      "333/333 [==============================] - 11s 32ms/step - loss: 0.1536\n",
      "Epoch 9/30\n",
      "333/333 [==============================] - 10s 31ms/step - loss: 0.1541\n",
      "Epoch 10/30\n",
      "333/333 [==============================] - 11s 33ms/step - loss: 0.1532\n",
      "Epoch 11/30\n",
      "333/333 [==============================] - 11s 32ms/step - loss: 0.1539\n",
      "Epoch 12/30\n",
      "333/333 [==============================] - 15s 44ms/step - loss: 0.1518\n",
      "Epoch 13/30\n",
      "333/333 [==============================] - 17s 51ms/step - loss: 0.1517\n",
      "Epoch 14/30\n",
      "333/333 [==============================] - 10s 31ms/step - loss: 0.1516\n",
      "Epoch 15/30\n",
      "333/333 [==============================] - 11s 33ms/step - loss: 0.1513\n",
      "Epoch 16/30\n",
      "333/333 [==============================] - 11s 32ms/step - loss: 0.1490\n",
      "Epoch 17/30\n",
      "333/333 [==============================] - 11s 32ms/step - loss: 0.1493\n",
      "Epoch 18/30\n",
      "333/333 [==============================] - 10s 30ms/step - loss: 0.1492\n",
      "Epoch 19/30\n",
      "333/333 [==============================] - 10s 30ms/step - loss: 0.1488\n",
      "Epoch 20/30\n",
      "333/333 [==============================] - 10s 31ms/step - loss: 0.1470\n",
      "Epoch 21/30\n",
      "333/333 [==============================] - 10s 31ms/step - loss: 0.1468\n",
      "Epoch 22/30\n",
      "333/333 [==============================] - 10s 31ms/step - loss: 0.1464\n",
      "Epoch 23/30\n",
      "333/333 [==============================] - 10s 31ms/step - loss: 0.1441\n",
      "Epoch 24/30\n",
      "333/333 [==============================] - 10s 31ms/step - loss: 0.1434\n",
      "Epoch 25/30\n",
      "333/333 [==============================] - 10s 30ms/step - loss: 0.1441\n",
      "Epoch 26/30\n",
      "333/333 [==============================] - 10s 30ms/step - loss: 0.1413\n",
      "Epoch 27/30\n",
      "333/333 [==============================] - 11s 32ms/step - loss: 0.1415\n",
      "Epoch 28/30\n",
      "333/333 [==============================] - 10s 30ms/step - loss: 0.1389\n",
      "Epoch 29/30\n",
      "333/333 [==============================] - 10s 30ms/step - loss: 0.1371\n",
      "Epoch 30/30\n",
      "333/333 [==============================] - 10s 30ms/step - loss: 0.1374\n"
     ]
    },
    {
     "data": {
      "text/plain": [
       "<keras.callbacks.History at 0x1c77cc35360>"
      ]
     },
     "execution_count": 48,
     "metadata": {},
     "output_type": "execute_result"
    }
   ],
   "source": [
    "#Fit model using reshaped data\n",
    "lstm.fit(X_train_shape_lstm, y_train_lstm, epochs = 30, batch_size = 15)"
   ]
  },
  {
   "cell_type": "markdown",
   "id": "886cd5c8",
   "metadata": {},
   "source": [
    "#### Testing"
   ]
  },
  {
   "cell_type": "markdown",
   "id": "0bd6b7b6",
   "metadata": {},
   "source": [
    "In order to make predictions, we need to use the last 20 of the training set, to account for the first 20 obsverations in the test set. The below code defines this new augmented test set."
   ]
  },
  {
   "cell_type": "code",
   "execution_count": 49,
   "id": "aaac3572",
   "metadata": {},
   "outputs": [],
   "source": [
    "#Retrieve last 20 observations of traning set\n",
    "last_x_of_train = train.iloc[-history_point:]\n",
    "\n",
    "#Concatenate with the test set to incorperate these observations\n",
    "valid_plus_x = pd.concat((last_x_of_train, valid), axis = 0)"
   ]
  },
  {
   "cell_type": "markdown",
   "id": "d56fe440",
   "metadata": {},
   "source": [
    "We now scale this data using the scaler defined for input data above."
   ]
  },
  {
   "cell_type": "code",
   "execution_count": 50,
   "id": "b2775a2c",
   "metadata": {},
   "outputs": [
    {
     "name": "stdout",
     "output_type": "stream",
     "text": [
      "(1272, 3)\n"
     ]
    }
   ],
   "source": [
    "#Scale data according to the defined input scaler\n",
    "valid_lstm_in = sc_lstm_in.transform(valid_plus_x)\n",
    "\n",
    "#Print shape\n",
    "print(valid_lstm_in.shape)"
   ]
  },
  {
   "cell_type": "markdown",
   "id": "c5ac1a39",
   "metadata": {},
   "source": [
    "We see that the shape is expected at this point, with 1272 of the observations and 2 predictors and 1 output variable. We again need to reshape further however to feed into the model."
   ]
  },
  {
   "cell_type": "code",
   "execution_count": 51,
   "id": "39607bda",
   "metadata": {},
   "outputs": [
    {
     "name": "stdout",
     "output_type": "stream",
     "text": [
      "(1252, 20, 3)\n"
     ]
    }
   ],
   "source": [
    "#Define validation input list\n",
    "X_valid_lstm = []\n",
    "\n",
    "#For loop to iterate through the augmented validation set, starting from the defined lag.\n",
    "for i in range(history_point, len(valid_plus_x)):\n",
    "    \n",
    "    #Append these relevant observations to the list\n",
    "    X_valid_lstm.append(valid_lstm_in[i-history_point:i])\n",
    "\n",
    "#Convert to array for the model\n",
    "X_valid_lstm = np.array(X_valid_lstm)\n",
    "\n",
    "#Print shape\n",
    "print(X_valid_lstm.shape)"
   ]
  },
  {
   "cell_type": "markdown",
   "id": "f7f9e065",
   "metadata": {},
   "source": [
    "The shape is as expected, and so we can make predictions using the model."
   ]
  },
  {
   "cell_type": "code",
   "execution_count": 52,
   "id": "d86c2687",
   "metadata": {
    "scrolled": true
   },
   "outputs": [
    {
     "name": "stdout",
     "output_type": "stream",
     "text": [
      "40/40 [==============================] - 1s 8ms/step\n"
     ]
    }
   ],
   "source": [
    "#Predict values based off the validation set\n",
    "y_valid_lstm = lstm.predict(X_valid_lstm)"
   ]
  },
  {
   "cell_type": "markdown",
   "id": "88638bdc",
   "metadata": {},
   "source": [
    "We now apply the inverse transform, to return our values to the returns format"
   ]
  },
  {
   "cell_type": "code",
   "execution_count": 53,
   "id": "016fa2cc",
   "metadata": {},
   "outputs": [],
   "source": [
    "#Apply inverse transform using the output scaler\n",
    "y_pred_lstm = sc_lstm_out.inverse_transform(y_valid_lstm)"
   ]
  },
  {
   "cell_type": "code",
   "execution_count": 54,
   "id": "f4af21cc",
   "metadata": {},
   "outputs": [
    {
     "name": "stdout",
     "output_type": "stream",
     "text": [
      "0.022324518321875212\n",
      "0.015579202428576541\n"
     ]
    }
   ],
   "source": [
    "#Print performance metrics\n",
    "print(np.sqrt(mean_squared_error(y_valid, y_pred_lstm)))\n",
    "print(mean_absolute_error(y_valid, y_pred_lstm))"
   ]
  },
  {
   "cell_type": "markdown",
   "id": "14e1b6a5",
   "metadata": {},
   "source": [
    "We see this is by far the best model, and hence we choose to use this to make our predictions."
   ]
  },
  {
   "cell_type": "markdown",
   "id": "7cb099eb",
   "metadata": {},
   "source": [
    "### Results"
   ]
  },
  {
   "cell_type": "markdown",
   "id": "b610148f",
   "metadata": {},
   "source": [
    "From this analysis, we see that the LSTM model produces the best predictive power, and as such we will now predict stock returns across the whole data-frame, and save this for the next part."
   ]
  },
  {
   "cell_type": "markdown",
   "id": "80600fde",
   "metadata": {},
   "source": [
    "#### Training"
   ]
  },
  {
   "cell_type": "markdown",
   "id": "14f66b78",
   "metadata": {},
   "source": [
    "We first need to define new scalers, and new input formats."
   ]
  },
  {
   "cell_type": "code",
   "execution_count": 55,
   "id": "20c46bef",
   "metadata": {},
   "outputs": [
    {
     "name": "stdout",
     "output_type": "stream",
     "text": [
      "(6236, 20, 3)\n",
      "(6236,)\n"
     ]
    }
   ],
   "source": [
    "#Define the scaler, and scale the input training data\n",
    "sc_lstm_in_final = StandardScaler()\n",
    "train_lstm_in_final = sc_lstm_in_final.fit_transform(df_iso)\n",
    "\n",
    "#Define the scaler, and scale the output training data\n",
    "sc_lstm_out_final = StandardScaler()\n",
    "train_lstm_out_final = sc_lstm_out_final.fit_transform(df_iso[[\"Return_1Month_Forward\"]])\n",
    "\n",
    "#Define lag\n",
    "history_point_final = 20\n",
    "\n",
    "#Define inputs lists\n",
    "X_train_lstm_final = []\n",
    "y_train_lstm_final = []\n",
    "\n",
    "#Extract relevant observations\n",
    "for i in range(history_point_final, len(df_iso)):\n",
    "    X_train_lstm_final.append(train_lstm_in_final[i-history_point_final:i])\n",
    "    y_train_lstm_final.append(train_lstm_out_final[i][0])\n",
    "\n",
    "#Convert to array\n",
    "X_train_lstm_final, y_train_lstm_final = np.array(X_train_lstm_final), np.array(y_train_lstm_final)\n",
    "\n",
    "print(X_train_lstm_final.shape)\n",
    "print(y_train_lstm_final.shape)"
   ]
  },
  {
   "cell_type": "markdown",
   "id": "253aa424",
   "metadata": {},
   "source": [
    "Since our shapes look correct, we now fit our model."
   ]
  },
  {
   "cell_type": "code",
   "execution_count": 56,
   "id": "50d20381",
   "metadata": {},
   "outputs": [
    {
     "name": "stdout",
     "output_type": "stream",
     "text": [
      "Epoch 1/30\n",
      "416/416 [==============================] - 10s 23ms/step - loss: 0.1401\n",
      "Epoch 2/30\n",
      "416/416 [==============================] - 13s 31ms/step - loss: 0.1394\n",
      "Epoch 3/30\n",
      "416/416 [==============================] - 12s 30ms/step - loss: 0.1351\n",
      "Epoch 4/30\n",
      "416/416 [==============================] - 13s 31ms/step - loss: 0.1329\n",
      "Epoch 5/30\n",
      "416/416 [==============================] - 13s 30ms/step - loss: 0.1316\n",
      "Epoch 6/30\n",
      "416/416 [==============================] - 12s 30ms/step - loss: 0.1312\n",
      "Epoch 7/30\n",
      "416/416 [==============================] - 12s 30ms/step - loss: 0.1284\n",
      "Epoch 8/30\n",
      "416/416 [==============================] - 13s 30ms/step - loss: 0.1270\n",
      "Epoch 9/30\n",
      "416/416 [==============================] - 13s 30ms/step - loss: 0.1248\n",
      "Epoch 10/30\n",
      "416/416 [==============================] - 12s 30ms/step - loss: 0.1225\n",
      "Epoch 11/30\n",
      "416/416 [==============================] - 12s 30ms/step - loss: 0.1201\n",
      "Epoch 12/30\n",
      "416/416 [==============================] - 12s 30ms/step - loss: 0.1182\n",
      "Epoch 13/30\n",
      "416/416 [==============================] - 13s 30ms/step - loss: 0.1163\n",
      "Epoch 14/30\n",
      "416/416 [==============================] - 13s 31ms/step - loss: 0.1140\n",
      "Epoch 15/30\n",
      "416/416 [==============================] - 12s 29ms/step - loss: 0.1119\n",
      "Epoch 16/30\n",
      "416/416 [==============================] - 12s 30ms/step - loss: 0.1095\n",
      "Epoch 17/30\n",
      "416/416 [==============================] - 12s 30ms/step - loss: 0.1078\n",
      "Epoch 18/30\n",
      "416/416 [==============================] - 12s 30ms/step - loss: 0.1045\n",
      "Epoch 19/30\n",
      "416/416 [==============================] - 12s 30ms/step - loss: 0.1026\n",
      "Epoch 20/30\n",
      "416/416 [==============================] - 12s 30ms/step - loss: 0.1003\n",
      "Epoch 21/30\n",
      "416/416 [==============================] - 12s 30ms/step - loss: 0.0971\n",
      "Epoch 22/30\n",
      "416/416 [==============================] - 12s 30ms/step - loss: 0.0962\n",
      "Epoch 23/30\n",
      "416/416 [==============================] - 13s 30ms/step - loss: 0.0923\n",
      "Epoch 24/30\n",
      "416/416 [==============================] - 13s 30ms/step - loss: 0.0903\n",
      "Epoch 25/30\n",
      "416/416 [==============================] - 12s 29ms/step - loss: 0.0885\n",
      "Epoch 26/30\n",
      "416/416 [==============================] - 12s 30ms/step - loss: 0.0859\n",
      "Epoch 27/30\n",
      "416/416 [==============================] - 12s 30ms/step - loss: 0.0831\n",
      "Epoch 28/30\n",
      "416/416 [==============================] - 12s 30ms/step - loss: 0.0798\n",
      "Epoch 29/30\n",
      "416/416 [==============================] - 12s 29ms/step - loss: 0.0792\n",
      "Epoch 30/30\n",
      "416/416 [==============================] - 12s 30ms/step - loss: 0.0755\n"
     ]
    },
    {
     "data": {
      "text/plain": [
       "<keras.callbacks.History at 0x1c77fec6230>"
      ]
     },
     "execution_count": 56,
     "metadata": {},
     "output_type": "execute_result"
    }
   ],
   "source": [
    "#Fit final model to training data\n",
    "lstm.fit(X_train_lstm_final, y_train_lstm_final, epochs = 30, batch_size = 15)"
   ]
  },
  {
   "cell_type": "markdown",
   "id": "e89c7e90",
   "metadata": {},
   "source": [
    "#### Output"
   ]
  },
  {
   "cell_type": "markdown",
   "id": "f483154f",
   "metadata": {},
   "source": [
    "Since we need return estimates for all time periods, we predict the returns for all observations."
   ]
  },
  {
   "cell_type": "code",
   "execution_count": 57,
   "id": "eaafc01a",
   "metadata": {},
   "outputs": [
    {
     "name": "stdout",
     "output_type": "stream",
     "text": [
      "195/195 [==============================] - 2s 12ms/step\n"
     ]
    }
   ],
   "source": [
    "#Make predictions on all the data\n",
    "y_pred_scaled_final = lstm.predict(X_train_lstm_final)"
   ]
  },
  {
   "cell_type": "markdown",
   "id": "4937b0c4",
   "metadata": {},
   "source": [
    "We again need to apply an inverse transform, to correct the format."
   ]
  },
  {
   "cell_type": "code",
   "execution_count": 58,
   "id": "2d37978b",
   "metadata": {},
   "outputs": [],
   "source": [
    "#Inverse the predictions based on the output scaler\n",
    "y_pred_final = sc_lstm_out_final.inverse_transform(y_pred_scaled_final)"
   ]
  },
  {
   "cell_type": "markdown",
   "id": "8526faa8",
   "metadata": {},
   "source": [
    "We then concatenate our predictions to the dataframe. We also shift the values down by 20 to account for the lag we introduced."
   ]
  },
  {
   "cell_type": "code",
   "execution_count": 59,
   "id": "61fa508d",
   "metadata": {},
   "outputs": [],
   "source": [
    "#Concatenate data. We squeeze the predictions to remove an unecessary dimension to the model \n",
    "df_final = pd.concat([df.reset_index(), pd.DataFrame(np.squeeze(y_pred_final)).reset_index()], axis = 1)\n",
    "\n",
    "#Shift column \"0\" down by 20\n",
    "df_final[0] = df_final[0].shift(20)"
   ]
  },
  {
   "cell_type": "markdown",
   "id": "bad86cdf",
   "metadata": {},
   "source": [
    "This of course leaves 20 null values in our data-frame. Since this accounts for a small portion of the sample size, and the series is rather stationary, we will impute the data backwards from observation 21"
   ]
  },
  {
   "cell_type": "code",
   "execution_count": 60,
   "id": "5c36fc50",
   "metadata": {},
   "outputs": [],
   "source": [
    "for i in range(history_point_final):\n",
    "    df_final.loc[df_final.index[i], 0] = df_final[0][history_point_final]"
   ]
  },
  {
   "cell_type": "markdown",
   "id": "17ada258",
   "metadata": {},
   "source": [
    "Now we tidy up the dataframe for use in the next part."
   ]
  },
  {
   "cell_type": "code",
   "execution_count": 61,
   "id": "a93e253f",
   "metadata": {},
   "outputs": [],
   "source": [
    "#Drop column named index left over from the concatenation\n",
    "df_final.drop([\"index\"], axis = 1, inplace = True)\n",
    "\n",
    "#Rename column named 0 to a more suitable name\n",
    "df_final.rename(columns={0: \"Predicted R_t\"}, inplace = True)"
   ]
  },
  {
   "cell_type": "markdown",
   "id": "07062976",
   "metadata": {},
   "source": [
    "Now we can inspect our final data-frame."
   ]
  },
  {
   "cell_type": "code",
   "execution_count": 62,
   "id": "c8fa1b1b",
   "metadata": {
    "scrolled": false
   },
   "outputs": [
    {
     "data": {
      "text/html": [
       "<div>\n",
       "<style scoped>\n",
       "    .dataframe tbody tr th:only-of-type {\n",
       "        vertical-align: middle;\n",
       "    }\n",
       "\n",
       "    .dataframe tbody tr th {\n",
       "        vertical-align: top;\n",
       "    }\n",
       "\n",
       "    .dataframe thead th {\n",
       "        text-align: right;\n",
       "    }\n",
       "</style>\n",
       "<table border=\"1\" class=\"dataframe\">\n",
       "  <thead>\n",
       "    <tr style=\"text-align: right;\">\n",
       "      <th></th>\n",
       "      <th>date</th>\n",
       "      <th>Return_with_Dividends</th>\n",
       "      <th>Return_without_Dividends</th>\n",
       "      <th>RiskFree_Rate_1Month_Forward</th>\n",
       "      <th>Return_1Month_Forward</th>\n",
       "      <th>PD_t</th>\n",
       "      <th>delta_d</th>\n",
       "      <th>Predicted R_t</th>\n",
       "    </tr>\n",
       "  </thead>\n",
       "  <tbody>\n",
       "    <tr>\n",
       "      <th>0</th>\n",
       "      <td>1998-02-07</td>\n",
       "      <td>0.304277</td>\n",
       "      <td>0.143167</td>\n",
       "      <td>0.350638</td>\n",
       "      <td>0.055277</td>\n",
       "      <td>7.095540</td>\n",
       "      <td>0.303119</td>\n",
       "      <td>0.078501</td>\n",
       "    </tr>\n",
       "    <tr>\n",
       "      <th>1</th>\n",
       "      <td>1998-02-10</td>\n",
       "      <td>0.291903</td>\n",
       "      <td>0.154534</td>\n",
       "      <td>0.363007</td>\n",
       "      <td>0.025068</td>\n",
       "      <td>8.404637</td>\n",
       "      <td>0.303119</td>\n",
       "      <td>0.078501</td>\n",
       "    </tr>\n",
       "    <tr>\n",
       "      <th>2</th>\n",
       "      <td>1998-02-11</td>\n",
       "      <td>0.269282</td>\n",
       "      <td>0.179072</td>\n",
       "      <td>0.365795</td>\n",
       "      <td>0.043227</td>\n",
       "      <td>13.070375</td>\n",
       "      <td>0.585262</td>\n",
       "      <td>0.078501</td>\n",
       "    </tr>\n",
       "    <tr>\n",
       "      <th>3</th>\n",
       "      <td>1998-02-12</td>\n",
       "      <td>0.290409</td>\n",
       "      <td>0.160366</td>\n",
       "      <td>0.377143</td>\n",
       "      <td>0.056165</td>\n",
       "      <td>8.922924</td>\n",
       "      <td>-0.216997</td>\n",
       "      <td>0.078501</td>\n",
       "    </tr>\n",
       "    <tr>\n",
       "      <th>4</th>\n",
       "      <td>1998-02-13</td>\n",
       "      <td>0.268346</td>\n",
       "      <td>0.149079</td>\n",
       "      <td>0.350271</td>\n",
       "      <td>0.074432</td>\n",
       "      <td>9.634514</td>\n",
       "      <td>0.225464</td>\n",
       "      <td>0.078501</td>\n",
       "    </tr>\n",
       "    <tr>\n",
       "      <th>...</th>\n",
       "      <td>...</td>\n",
       "      <td>...</td>\n",
       "      <td>...</td>\n",
       "      <td>...</td>\n",
       "      <td>...</td>\n",
       "      <td>...</td>\n",
       "      <td>...</td>\n",
       "      <td>...</td>\n",
       "    </tr>\n",
       "    <tr>\n",
       "      <th>6251</th>\n",
       "      <td>2022-02-01</td>\n",
       "      <td>0.178304</td>\n",
       "      <td>0.067787</td>\n",
       "      <td>-0.005573</td>\n",
       "      <td>-0.042527</td>\n",
       "      <td>9.661689</td>\n",
       "      <td>0.160817</td>\n",
       "      <td>-0.014614</td>\n",
       "    </tr>\n",
       "    <tr>\n",
       "      <th>6252</th>\n",
       "      <td>2022-02-02</td>\n",
       "      <td>0.194420</td>\n",
       "      <td>0.077617</td>\n",
       "      <td>0.003521</td>\n",
       "      <td>-0.039765</td>\n",
       "      <td>9.225908</td>\n",
       "      <td>0.019435</td>\n",
       "      <td>-0.037701</td>\n",
       "    </tr>\n",
       "    <tr>\n",
       "      <th>6253</th>\n",
       "      <td>2022-02-03</td>\n",
       "      <td>0.178116</td>\n",
       "      <td>0.069139</td>\n",
       "      <td>0.000203</td>\n",
       "      <td>-0.047804</td>\n",
       "      <td>9.810701</td>\n",
       "      <td>0.136210</td>\n",
       "      <td>-0.046158</td>\n",
       "    </tr>\n",
       "    <tr>\n",
       "      <th>6254</th>\n",
       "      <td>2022-02-04</td>\n",
       "      <td>0.172267</td>\n",
       "      <td>0.064309</td>\n",
       "      <td>0.002355</td>\n",
       "      <td>-0.075907</td>\n",
       "      <td>9.858588</td>\n",
       "      <td>0.071723</td>\n",
       "      <td>-0.047590</td>\n",
       "    </tr>\n",
       "    <tr>\n",
       "      <th>6255</th>\n",
       "      <td>2022-02-05</td>\n",
       "      <td>0.186062</td>\n",
       "      <td>0.071981</td>\n",
       "      <td>-0.003421</td>\n",
       "      <td>-0.039052</td>\n",
       "      <td>9.396659</td>\n",
       "      <td>0.014337</td>\n",
       "      <td>-0.066069</td>\n",
       "    </tr>\n",
       "  </tbody>\n",
       "</table>\n",
       "<p>6256 rows × 8 columns</p>\n",
       "</div>"
      ],
      "text/plain": [
       "            date  Return_with_Dividends  Return_without_Dividends  \\\n",
       "0     1998-02-07               0.304277                  0.143167   \n",
       "1     1998-02-10               0.291903                  0.154534   \n",
       "2     1998-02-11               0.269282                  0.179072   \n",
       "3     1998-02-12               0.290409                  0.160366   \n",
       "4     1998-02-13               0.268346                  0.149079   \n",
       "...          ...                    ...                       ...   \n",
       "6251  2022-02-01               0.178304                  0.067787   \n",
       "6252  2022-02-02               0.194420                  0.077617   \n",
       "6253  2022-02-03               0.178116                  0.069139   \n",
       "6254  2022-02-04               0.172267                  0.064309   \n",
       "6255  2022-02-05               0.186062                  0.071981   \n",
       "\n",
       "      RiskFree_Rate_1Month_Forward  Return_1Month_Forward       PD_t  \\\n",
       "0                         0.350638               0.055277   7.095540   \n",
       "1                         0.363007               0.025068   8.404637   \n",
       "2                         0.365795               0.043227  13.070375   \n",
       "3                         0.377143               0.056165   8.922924   \n",
       "4                         0.350271               0.074432   9.634514   \n",
       "...                            ...                    ...        ...   \n",
       "6251                     -0.005573              -0.042527   9.661689   \n",
       "6252                      0.003521              -0.039765   9.225908   \n",
       "6253                      0.000203              -0.047804   9.810701   \n",
       "6254                      0.002355              -0.075907   9.858588   \n",
       "6255                     -0.003421              -0.039052   9.396659   \n",
       "\n",
       "       delta_d  Predicted R_t  \n",
       "0     0.303119       0.078501  \n",
       "1     0.303119       0.078501  \n",
       "2     0.585262       0.078501  \n",
       "3    -0.216997       0.078501  \n",
       "4     0.225464       0.078501  \n",
       "...        ...            ...  \n",
       "6251  0.160817      -0.014614  \n",
       "6252  0.019435      -0.037701  \n",
       "6253  0.136210      -0.046158  \n",
       "6254  0.071723      -0.047590  \n",
       "6255  0.014337      -0.066069  \n",
       "\n",
       "[6256 rows x 8 columns]"
      ]
     },
     "execution_count": 62,
     "metadata": {},
     "output_type": "execute_result"
    }
   ],
   "source": [
    "df_final"
   ]
  },
  {
   "cell_type": "markdown",
   "id": "15f0be02",
   "metadata": {},
   "source": [
    "Finally, we plot our data to assess fit."
   ]
  },
  {
   "cell_type": "code",
   "execution_count": 63,
   "id": "5e45a32b",
   "metadata": {},
   "outputs": [
    {
     "data": {
      "text/plain": [
       "<Axes: xlabel='date'>"
      ]
     },
     "execution_count": 63,
     "metadata": {},
     "output_type": "execute_result"
    },
    {
     "data": {
      "image/png": "[encoded data removed]",
      "text/plain": [
       "<Figure size 640x480 with 1 Axes>"
      ]
     },
     "metadata": {},
     "output_type": "display_data"
    }
   ],
   "source": [
    "df_final.plot(x = 'date', y=['Return_1Month_Forward', 'Predicted R_t'])"
   ]
  },
  {
   "cell_type": "markdown",
   "id": "2f6e8948",
   "metadata": {},
   "source": [
    "We see that it is a decent fit. It is important to consider there is no garuntee this will generalise, since we have not tested this final fit on unseen data."
   ]
  },
  {
   "cell_type": "markdown",
   "id": "ba6c3c0a",
   "metadata": {},
   "source": [
    "## Recording Data"
   ]
  },
  {
   "cell_type": "markdown",
   "id": "dcb51698",
   "metadata": {},
   "source": [
    "We save our augmented dataframe to the data folder and the predicted returns values as well."
   ]
  },
  {
   "cell_type": "code",
   "execution_count": 64,
   "id": "0a6efe7a",
   "metadata": {},
   "outputs": [],
   "source": [
    "#Save augmented dataframe\n",
    "df_final.to_csv('../data/augmented_data_A2.csv')\n",
    "\n",
    "#Save predicted returns\n",
    "df_final[\"Predicted R_t\"].to_csv('../data/predicted_returns_A2.csv')"
   ]
  }
 ],
 "metadata": {
  "kernelspec": {
   "display_name": "Python 3 (ipykernel)",
   "language": "python",
   "name": "python3"
  },
  "language_info": {
   "codemirror_mode": {
    "name": "ipython",
    "version": 3
   },
   "file_extension": ".py",
   "mimetype": "text/x-python",
   "name": "python",
   "nbconvert_exporter": "python",
   "pygments_lexer": "ipython3",
   "version": "3.10.9"
  }
 },
 "nbformat": 4,
 "nbformat_minor": 5
}
